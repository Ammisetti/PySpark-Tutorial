{
 "cells": [
  {
   "cell_type": "markdown",
   "id": "9bf16f9b",
   "metadata": {},
   "source": [
    "### Data Reading"
   ]
  },
  {
   "cell_type": "code",
   "execution_count": 2,
   "id": "9f84fe4f",
   "metadata": {},
   "outputs": [],
   "source": [
    "import findspark\n",
    "findspark.init()"
   ]
  },
  {
   "cell_type": "code",
   "execution_count": 3,
   "id": "e520c0eb",
   "metadata": {},
   "outputs": [],
   "source": [
    "from pyspark.sql import SparkSession\n",
    "spark = SparkSession.builder.getOrCreate()"
   ]
  },
  {
   "cell_type": "code",
   "execution_count": 4,
   "id": "ba0660f2",
   "metadata": {},
   "outputs": [
    {
     "data": {
      "text/html": [
       "\n",
       "            <div>\n",
       "                <p><b>SparkSession - in-memory</b></p>\n",
       "                \n",
       "        <div>\n",
       "            <p><b>SparkContext</b></p>\n",
       "\n",
       "            <p><a href=\"http://host.docker.internal:4040\">Spark UI</a></p>\n",
       "\n",
       "            <dl>\n",
       "              <dt>Version</dt>\n",
       "                <dd><code>v3.2.1</code></dd>\n",
       "              <dt>Master</dt>\n",
       "                <dd><code>local[*]</code></dd>\n",
       "              <dt>AppName</dt>\n",
       "                <dd><code>pyspark-shell</code></dd>\n",
       "            </dl>\n",
       "        </div>\n",
       "        \n",
       "            </div>\n",
       "        "
      ],
      "text/plain": [
       "<pyspark.sql.session.SparkSession at 0x147ef361190>"
      ]
     },
     "execution_count": 4,
     "metadata": {},
     "output_type": "execute_result"
    }
   ],
   "source": [
    "spark"
   ]
  },
  {
   "cell_type": "code",
   "execution_count": 5,
   "id": "e91ec92e",
   "metadata": {},
   "outputs": [],
   "source": [
    "df = spark.read.format('csv')\\\n",
    "     .option('inferSchema', True)\\\n",
    "     .option('header', True)\\\n",
    "     .load('BigMart Sales.csv')"
   ]
  },
  {
   "cell_type": "code",
   "execution_count": 6,
   "id": "f74eff6b",
   "metadata": {},
   "outputs": [
    {
     "name": "stdout",
     "output_type": "stream",
     "text": [
      "+---------------+-----------+----------------+---------------+--------------------+--------+-----------------+-------------------------+-----------+--------------------+-----------------+-----------------+\n",
      "|Item_Identifier|Item_Weight|Item_Fat_Content|Item_Visibility|           Item_Type|Item_MRP|Outlet_Identifier|Outlet_Establishment_Year|Outlet_Size|Outlet_Location_Type|      Outlet_Type|Item_Outlet_Sales|\n",
      "+---------------+-----------+----------------+---------------+--------------------+--------+-----------------+-------------------------+-----------+--------------------+-----------------+-----------------+\n",
      "|          FDA15|        9.3|         Low Fat|    0.016047301|               Dairy|249.8092|           OUT049|                     1999|     Medium|              Tier 1|Supermarket Type1|         3735.138|\n",
      "|          DRC01|       5.92|         Regular|    0.019278216|         Soft Drinks| 48.2692|           OUT018|                     2009|     Medium|              Tier 3|Supermarket Type2|         443.4228|\n",
      "|          FDN15|       17.5|         Low Fat|    0.016760075|                Meat| 141.618|           OUT049|                     1999|     Medium|              Tier 1|Supermarket Type1|          2097.27|\n",
      "|          FDX07|       19.2|         Regular|            0.0|Fruits and Vegeta...| 182.095|           OUT010|                     1998|       null|              Tier 3|    Grocery Store|           732.38|\n",
      "|          NCD19|       8.93|         Low Fat|            0.0|           Household| 53.8614|           OUT013|                     1987|       High|              Tier 3|Supermarket Type1|         994.7052|\n",
      "|          FDP36|     10.395|         Regular|            0.0|        Baking Goods| 51.4008|           OUT018|                     2009|     Medium|              Tier 3|Supermarket Type2|         556.6088|\n",
      "|          FDO10|      13.65|         Regular|    0.012741089|         Snack Foods| 57.6588|           OUT013|                     1987|       High|              Tier 3|Supermarket Type1|         343.5528|\n",
      "|          FDP10|       null|         Low Fat|    0.127469857|         Snack Foods|107.7622|           OUT027|                     1985|     Medium|              Tier 3|Supermarket Type3|        4022.7636|\n",
      "|          FDH17|       16.2|         Regular|    0.016687114|        Frozen Foods| 96.9726|           OUT045|                     2002|       null|              Tier 2|Supermarket Type1|        1076.5986|\n",
      "|          FDU28|       19.2|         Regular|     0.09444959|        Frozen Foods|187.8214|           OUT017|                     2007|       null|              Tier 2|Supermarket Type1|         4710.535|\n",
      "|          FDY07|       11.8|         Low Fat|            0.0|Fruits and Vegeta...| 45.5402|           OUT049|                     1999|     Medium|              Tier 1|Supermarket Type1|        1516.0266|\n",
      "|          FDA03|       18.5|         Regular|    0.045463773|               Dairy|144.1102|           OUT046|                     1997|      Small|              Tier 1|Supermarket Type1|         2187.153|\n",
      "|          FDX32|       15.1|         Regular|      0.1000135|Fruits and Vegeta...|145.4786|           OUT049|                     1999|     Medium|              Tier 1|Supermarket Type1|        1589.2646|\n",
      "|          FDS46|       17.6|         Regular|    0.047257328|         Snack Foods|119.6782|           OUT046|                     1997|      Small|              Tier 1|Supermarket Type1|        2145.2076|\n",
      "|          FDF32|      16.35|         Low Fat|      0.0680243|Fruits and Vegeta...|196.4426|           OUT013|                     1987|       High|              Tier 3|Supermarket Type1|         1977.426|\n",
      "|          FDP49|        9.0|         Regular|    0.069088961|           Breakfast| 56.3614|           OUT046|                     1997|      Small|              Tier 1|Supermarket Type1|        1547.3192|\n",
      "|          NCB42|       11.8|         Low Fat|    0.008596051|  Health and Hygiene|115.3492|           OUT018|                     2009|     Medium|              Tier 3|Supermarket Type2|        1621.8888|\n",
      "|          FDP49|        9.0|         Regular|    0.069196376|           Breakfast| 54.3614|           OUT049|                     1999|     Medium|              Tier 1|Supermarket Type1|         718.3982|\n",
      "|          DRI11|       null|         Low Fat|    0.034237682|         Hard Drinks|113.2834|           OUT027|                     1985|     Medium|              Tier 3|Supermarket Type3|         2303.668|\n",
      "|          FDU02|      13.35|         Low Fat|     0.10249212|               Dairy|230.5352|           OUT035|                     2004|      Small|              Tier 2|Supermarket Type1|        2748.4224|\n",
      "+---------------+-----------+----------------+---------------+--------------------+--------+-----------------+-------------------------+-----------+--------------------+-----------------+-----------------+\n",
      "only showing top 20 rows\n",
      "\n"
     ]
    }
   ],
   "source": [
    "df.show()"
   ]
  },
  {
   "cell_type": "code",
   "execution_count": 7,
   "id": "8bd9c041",
   "metadata": {},
   "outputs": [],
   "source": [
    "df_json = spark.read.format('json').option('inferSchema',True)\\\n",
    "                    .option('header',True)\\\n",
    "                    .option('multiLine',False)\\\n",
    "                    .load('drivers.json')"
   ]
  },
  {
   "cell_type": "code",
   "execution_count": 8,
   "id": "2a0cd47a",
   "metadata": {},
   "outputs": [
    {
     "name": "stdout",
     "output_type": "stream",
     "text": [
      "+----+----------+--------+----------+--------------------+-----------+------+--------------------+\n",
      "|code|       dob|driverId| driverRef|                name|nationality|number|                 url|\n",
      "+----+----------+--------+----------+--------------------+-----------+------+--------------------+\n",
      "| HAM|1985-01-07|       1|  hamilton|   {Lewis, Hamilton}|    British|    44|http://en.wikiped...|\n",
      "| HEI|1977-05-10|       2|  heidfeld|    {Nick, Heidfeld}|     German|    \\N|http://en.wikiped...|\n",
      "| ROS|1985-06-27|       3|   rosberg|     {Nico, Rosberg}|     German|     6|http://en.wikiped...|\n",
      "| ALO|1981-07-29|       4|    alonso|  {Fernando, Alonso}|    Spanish|    14|http://en.wikiped...|\n",
      "| KOV|1981-10-19|       5|kovalainen|{Heikki, Kovalainen}|    Finnish|    \\N|http://en.wikiped...|\n",
      "| NAK|1985-01-11|       6|  nakajima|  {Kazuki, Nakajima}|   Japanese|    \\N|http://en.wikiped...|\n",
      "| BOU|1979-02-28|       7|  bourdais|{Sébastien, Bourd...|     French|    \\N|http://en.wikiped...|\n",
      "| RAI|1979-10-17|       8| raikkonen|   {Kimi, Räikkönen}|    Finnish|     7|http://en.wikiped...|\n",
      "| KUB|1984-12-07|       9|    kubica|    {Robert, Kubica}|     Polish|    88|http://en.wikiped...|\n",
      "| GLO|1982-03-18|      10|     glock|       {Timo, Glock}|     German|    \\N|http://en.wikiped...|\n",
      "| SAT|1977-01-28|      11|      sato|      {Takuma, Sato}|   Japanese|    \\N|http://en.wikiped...|\n",
      "| PIQ|1985-07-25|      12| piquet_jr|{Nelson, Piquet Jr.}|  Brazilian|    \\N|http://en.wikiped...|\n",
      "| MAS|1981-04-25|      13|     massa|     {Felipe, Massa}|  Brazilian|    19|http://en.wikiped...|\n",
      "| COU|1971-03-27|      14| coulthard|  {David, Coulthard}|    British|    \\N|http://en.wikiped...|\n",
      "| TRU|1974-07-13|      15|    trulli|     {Jarno, Trulli}|    Italian|    \\N|http://en.wikiped...|\n",
      "| SUT|1983-01-11|      16|     sutil|     {Adrian, Sutil}|     German|    99|http://en.wikiped...|\n",
      "| WEB|1976-08-27|      17|    webber|      {Mark, Webber}| Australian|    \\N|http://en.wikiped...|\n",
      "| BUT|1980-01-19|      18|    button|    {Jenson, Button}|    British|    22|http://en.wikiped...|\n",
      "| DAV|1979-04-18|      19|  davidson| {Anthony, Davidson}|    British|    \\N|http://en.wikiped...|\n",
      "| VET|1987-07-03|      20|    vettel| {Sebastian, Vettel}|     German|     5|http://en.wikiped...|\n",
      "+----+----------+--------+----------+--------------------+-----------+------+--------------------+\n",
      "only showing top 20 rows\n",
      "\n"
     ]
    }
   ],
   "source": [
    "df_json.show()"
   ]
  },
  {
   "cell_type": "markdown",
   "id": "ba77c589",
   "metadata": {},
   "source": [
    "### Schema - DDL and StructType()"
   ]
  },
  {
   "cell_type": "code",
   "execution_count": 9,
   "id": "db21cdab",
   "metadata": {},
   "outputs": [
    {
     "name": "stdout",
     "output_type": "stream",
     "text": [
      "root\n",
      " |-- Item_Identifier: string (nullable = true)\n",
      " |-- Item_Weight: double (nullable = true)\n",
      " |-- Item_Fat_Content: string (nullable = true)\n",
      " |-- Item_Visibility: double (nullable = true)\n",
      " |-- Item_Type: string (nullable = true)\n",
      " |-- Item_MRP: double (nullable = true)\n",
      " |-- Outlet_Identifier: string (nullable = true)\n",
      " |-- Outlet_Establishment_Year: integer (nullable = true)\n",
      " |-- Outlet_Size: string (nullable = true)\n",
      " |-- Outlet_Location_Type: string (nullable = true)\n",
      " |-- Outlet_Type: string (nullable = true)\n",
      " |-- Item_Outlet_Sales: double (nullable = true)\n",
      "\n"
     ]
    }
   ],
   "source": [
    "df.printSchema()"
   ]
  },
  {
   "cell_type": "code",
   "execution_count": 10,
   "id": "5cb73cee",
   "metadata": {},
   "outputs": [],
   "source": [
    "my_ddl_schema = '''\n",
    "    Item_Identifier STRING,\n",
    "    Item_Weight STRING,\n",
    "    Item_Fat_Content STRING, \n",
    "    Item_Visibility DOUBLE,\n",
    "    Item_Type STRING,\n",
    "    Item_MRP DOUBLE,\n",
    "    Outlet_Identifier STRING,\n",
    "    Outlet_Establishment_Year INT,\n",
    "    Outlet_Size STRING,\n",
    "    Outlet_Location_Type STRING, \n",
    "    Outlet_Type STRING,\n",
    "    Item_Outlet_Sales DOUBLE \n",
    "''' "
   ]
  },
  {
   "cell_type": "code",
   "execution_count": 11,
   "id": "0fb5373f",
   "metadata": {},
   "outputs": [],
   "source": [
    "df = spark.read.format('csv')\\\n",
    "        .schema(my_ddl_schema)\\\n",
    "        .option('header',True)\\\n",
    "        .load('BigMart Sales.csv') "
   ]
  },
  {
   "cell_type": "code",
   "execution_count": 12,
   "id": "a76eb3f3",
   "metadata": {},
   "outputs": [
    {
     "name": "stdout",
     "output_type": "stream",
     "text": [
      "root\n",
      " |-- Item_Identifier: string (nullable = true)\n",
      " |-- Item_Weight: string (nullable = true)\n",
      " |-- Item_Fat_Content: string (nullable = true)\n",
      " |-- Item_Visibility: double (nullable = true)\n",
      " |-- Item_Type: string (nullable = true)\n",
      " |-- Item_MRP: double (nullable = true)\n",
      " |-- Outlet_Identifier: string (nullable = true)\n",
      " |-- Outlet_Establishment_Year: integer (nullable = true)\n",
      " |-- Outlet_Size: string (nullable = true)\n",
      " |-- Outlet_Location_Type: string (nullable = true)\n",
      " |-- Outlet_Type: string (nullable = true)\n",
      " |-- Item_Outlet_Sales: double (nullable = true)\n",
      "\n"
     ]
    }
   ],
   "source": [
    "df.printSchema()"
   ]
  },
  {
   "cell_type": "code",
   "execution_count": 13,
   "id": "8767478f",
   "metadata": {},
   "outputs": [],
   "source": [
    "from pyspark.sql.functions import *\n",
    "from pyspark.sql.types import *"
   ]
  },
  {
   "cell_type": "markdown",
   "id": "eb6233d7",
   "metadata": {},
   "source": [
    "### SELECT"
   ]
  },
  {
   "cell_type": "code",
   "execution_count": 14,
   "id": "f9ca07ea",
   "metadata": {},
   "outputs": [],
   "source": [
    "df_sel = df.select([\"Item_Identifier\", \"Item_Weight\", \"Item_Fat_Content\"])"
   ]
  },
  {
   "cell_type": "code",
   "execution_count": 15,
   "id": "6e67ab7c",
   "metadata": {},
   "outputs": [
    {
     "name": "stdout",
     "output_type": "stream",
     "text": [
      "+---------------+-----------+----------------+\n",
      "|Item_Identifier|Item_Weight|Item_Fat_Content|\n",
      "+---------------+-----------+----------------+\n",
      "|          FDA15|        9.3|         Low Fat|\n",
      "|          DRC01|       5.92|         Regular|\n",
      "|          FDN15|       17.5|         Low Fat|\n",
      "|          FDX07|       19.2|         Regular|\n",
      "|          NCD19|       8.93|         Low Fat|\n",
      "|          FDP36|     10.395|         Regular|\n",
      "|          FDO10|      13.65|         Regular|\n",
      "|          FDP10|       null|         Low Fat|\n",
      "|          FDH17|       16.2|         Regular|\n",
      "|          FDU28|       19.2|         Regular|\n",
      "|          FDY07|       11.8|         Low Fat|\n",
      "|          FDA03|       18.5|         Regular|\n",
      "|          FDX32|       15.1|         Regular|\n",
      "|          FDS46|       17.6|         Regular|\n",
      "|          FDF32|      16.35|         Low Fat|\n",
      "|          FDP49|          9|         Regular|\n",
      "|          NCB42|       11.8|         Low Fat|\n",
      "|          FDP49|          9|         Regular|\n",
      "|          DRI11|       null|         Low Fat|\n",
      "|          FDU02|      13.35|         Low Fat|\n",
      "+---------------+-----------+----------------+\n",
      "only showing top 20 rows\n",
      "\n"
     ]
    }
   ],
   "source": [
    "df_sel.show()"
   ]
  },
  {
   "cell_type": "code",
   "execution_count": 16,
   "id": "92de1355",
   "metadata": {},
   "outputs": [
    {
     "name": "stdout",
     "output_type": "stream",
     "text": [
      "+---------------+-----------+----------------+\n",
      "|Item_Identifier|Item_Weight|Item_Fat_Content|\n",
      "+---------------+-----------+----------------+\n",
      "|          FDA15|        9.3|         Low Fat|\n",
      "|          DRC01|       5.92|         Regular|\n",
      "|          FDN15|       17.5|         Low Fat|\n",
      "+---------------+-----------+----------------+\n",
      "only showing top 3 rows\n",
      "\n"
     ]
    }
   ],
   "source": [
    "df.select(['Item_Identifier', 'Item_Weight', 'Item_Fat_Content']).show(3)"
   ]
  },
  {
   "cell_type": "code",
   "execution_count": 17,
   "id": "619b10b4",
   "metadata": {},
   "outputs": [],
   "source": [
    "df_sel = df.select('Item_Identifier', 'Item_Weight', 'Item_Fat_Content')"
   ]
  },
  {
   "cell_type": "code",
   "execution_count": 18,
   "id": "92698ef1",
   "metadata": {},
   "outputs": [
    {
     "name": "stdout",
     "output_type": "stream",
     "text": [
      "+---------------+-----------+----------------+\n",
      "|Item_Identifier|Item_Weight|Item_Fat_Content|\n",
      "+---------------+-----------+----------------+\n",
      "|          FDA15|        9.3|         Low Fat|\n",
      "|          DRC01|       5.92|         Regular|\n",
      "|          FDN15|       17.5|         Low Fat|\n",
      "+---------------+-----------+----------------+\n",
      "only showing top 3 rows\n",
      "\n"
     ]
    }
   ],
   "source": [
    "df_sel.show(3)"
   ]
  },
  {
   "cell_type": "code",
   "execution_count": 19,
   "id": "30275c5a",
   "metadata": {},
   "outputs": [
    {
     "name": "stdout",
     "output_type": "stream",
     "text": [
      "+---------------+-----------+----------------+\n",
      "|Item_Identifier|Item_Weight|Item_Fat_Content|\n",
      "+---------------+-----------+----------------+\n",
      "|          FDA15|        9.3|         Low Fat|\n",
      "|          DRC01|       5.92|         Regular|\n",
      "|          FDN15|       17.5|         Low Fat|\n",
      "+---------------+-----------+----------------+\n",
      "only showing top 3 rows\n",
      "\n"
     ]
    }
   ],
   "source": [
    "df.select(col('Item_Identifier'), col('Item_Weight'), col('Item_Fat_Content')).show(3)"
   ]
  },
  {
   "cell_type": "markdown",
   "id": "bedb19e3",
   "metadata": {},
   "source": [
    "### ALIAS"
   ]
  },
  {
   "cell_type": "code",
   "execution_count": 20,
   "id": "f413ceeb",
   "metadata": {},
   "outputs": [
    {
     "name": "stdout",
     "output_type": "stream",
     "text": [
      "+-----+-----------+----------------+\n",
      "|   id|Item_Weight|Item_Fat_Content|\n",
      "+-----+-----------+----------------+\n",
      "|FDA15|        9.3|         Low Fat|\n",
      "|DRC01|       5.92|         Regular|\n",
      "|FDN15|       17.5|         Low Fat|\n",
      "+-----+-----------+----------------+\n",
      "only showing top 3 rows\n",
      "\n"
     ]
    }
   ],
   "source": [
    "df.select(col('Item_Identifier').alias('id'), 'Item_Weight', 'Item_Fat_Content').show(3)"
   ]
  },
  {
   "cell_type": "markdown",
   "id": "fca14d10",
   "metadata": {},
   "source": [
    "### FILTER"
   ]
  },
  {
   "cell_type": "markdown",
   "id": "33cf714d",
   "metadata": {},
   "source": [
    "#### Scenario - 1"
   ]
  },
  {
   "cell_type": "code",
   "execution_count": 21,
   "id": "9cb2ee91",
   "metadata": {},
   "outputs": [
    {
     "name": "stdout",
     "output_type": "stream",
     "text": [
      "+---------------+-----------+----------------+---------------+--------------------+--------+-----------------+-------------------------+-----------+--------------------+-----------------+-----------------+\n",
      "|Item_Identifier|Item_Weight|Item_Fat_Content|Item_Visibility|           Item_Type|Item_MRP|Outlet_Identifier|Outlet_Establishment_Year|Outlet_Size|Outlet_Location_Type|      Outlet_Type|Item_Outlet_Sales|\n",
      "+---------------+-----------+----------------+---------------+--------------------+--------+-----------------+-------------------------+-----------+--------------------+-----------------+-----------------+\n",
      "|          DRC01|       5.92|         Regular|    0.019278216|         Soft Drinks| 48.2692|           OUT018|                     2009|     Medium|              Tier 3|Supermarket Type2|         443.4228|\n",
      "|          FDX07|       19.2|         Regular|            0.0|Fruits and Vegeta...| 182.095|           OUT010|                     1998|       null|              Tier 3|    Grocery Store|           732.38|\n",
      "|          FDP36|     10.395|         Regular|            0.0|        Baking Goods| 51.4008|           OUT018|                     2009|     Medium|              Tier 3|Supermarket Type2|         556.6088|\n",
      "+---------------+-----------+----------------+---------------+--------------------+--------+-----------------+-------------------------+-----------+--------------------+-----------------+-----------------+\n",
      "only showing top 3 rows\n",
      "\n"
     ]
    }
   ],
   "source": [
    "df.filter(col('Item_Fat_Content') == 'Regular').show(3)"
   ]
  },
  {
   "cell_type": "markdown",
   "id": "ba6f5c69",
   "metadata": {},
   "source": [
    "#### Scenario - 2"
   ]
  },
  {
   "cell_type": "code",
   "execution_count": 22,
   "id": "2f3aec3c",
   "metadata": {},
   "outputs": [
    {
     "name": "stdout",
     "output_type": "stream",
     "text": [
      "+---------------+-----------+----------------+---------------+-----------+--------+-----------------+-------------------------+-----------+--------------------+-----------------+-----------------+\n",
      "|Item_Identifier|Item_Weight|Item_Fat_Content|Item_Visibility|  Item_Type|Item_MRP|Outlet_Identifier|Outlet_Establishment_Year|Outlet_Size|Outlet_Location_Type|      Outlet_Type|Item_Outlet_Sales|\n",
      "+---------------+-----------+----------------+---------------+-----------+--------+-----------------+-------------------------+-----------+--------------------+-----------------+-----------------+\n",
      "|          DRC01|       5.92|         Regular|    0.019278216|Soft Drinks| 48.2692|           OUT018|                     2009|     Medium|              Tier 3|Supermarket Type2|         443.4228|\n",
      "|          DRZ11|       8.85|         Regular|    0.113123893|Soft Drinks|122.5388|           OUT018|                     2009|     Medium|              Tier 3|Supermarket Type2|        1609.9044|\n",
      "|          DRF49|       7.27|         Low Fat|    0.071077939|Soft Drinks|114.2518|           OUT046|                     1997|      Small|              Tier 1|Supermarket Type1|        2618.5914|\n",
      "+---------------+-----------+----------------+---------------+-----------+--------+-----------------+-------------------------+-----------+--------------------+-----------------+-----------------+\n",
      "only showing top 3 rows\n",
      "\n"
     ]
    }
   ],
   "source": [
    "df.filter((col('Item_Type') == 'Soft Drinks') & (col('Item_Weight') < 10)).show(3)"
   ]
  },
  {
   "cell_type": "markdown",
   "id": "27feadd2",
   "metadata": {},
   "source": [
    "#### Scenario - 3"
   ]
  },
  {
   "cell_type": "code",
   "execution_count": 23,
   "id": "84e53f32",
   "metadata": {},
   "outputs": [
    {
     "name": "stdout",
     "output_type": "stream",
     "text": [
      "+---------------+-----------+----------------+---------------+------------+--------+-----------------+-------------------------+-----------+--------------------+-----------------+-----------------+\n",
      "|Item_Identifier|Item_Weight|Item_Fat_Content|Item_Visibility|   Item_Type|Item_MRP|Outlet_Identifier|Outlet_Establishment_Year|Outlet_Size|Outlet_Location_Type|      Outlet_Type|Item_Outlet_Sales|\n",
      "+---------------+-----------+----------------+---------------+------------+--------+-----------------+-------------------------+-----------+--------------------+-----------------+-----------------+\n",
      "|          FDH17|       16.2|         Regular|    0.016687114|Frozen Foods| 96.9726|           OUT045|                     2002|       null|              Tier 2|Supermarket Type1|        1076.5986|\n",
      "|          FDU28|       19.2|         Regular|     0.09444959|Frozen Foods|187.8214|           OUT017|                     2007|       null|              Tier 2|Supermarket Type1|         4710.535|\n",
      "|          NCD06|         13|         Low Fat|    0.099887103|   Household|  45.906|           OUT017|                     2007|       null|              Tier 2|Supermarket Type1|          838.908|\n",
      "|          FDO23|      17.85|         Low Fat|            0.0|      Breads| 93.1436|           OUT045|                     2002|       null|              Tier 2|Supermarket Type1|        2174.5028|\n",
      "+---------------+-----------+----------------+---------------+------------+--------+-----------------+-------------------------+-----------+--------------------+-----------------+-----------------+\n",
      "only showing top 4 rows\n",
      "\n"
     ]
    }
   ],
   "source": [
    "df.filter(\n",
    "    (col('Outlet_Location_Type').isin('Tier 1', 'Tier 2')) &\n",
    "    (col('Outlet_Size')).isNull()\n",
    ").show(4)"
   ]
  },
  {
   "cell_type": "markdown",
   "id": "f90d38ac",
   "metadata": {},
   "source": [
    "### WithColumnRenamed"
   ]
  },
  {
   "cell_type": "code",
   "execution_count": 24,
   "id": "c70d7f35",
   "metadata": {},
   "outputs": [
    {
     "name": "stdout",
     "output_type": "stream",
     "text": [
      "+---------------+-------+----------------+---------------+--------------------+--------+-----------------+-------------------------+-----------+--------------------+-----------------+-----------------+\n",
      "|Item_Identifier|Item_Wt|Item_Fat_Content|Item_Visibility|           Item_Type|Item_MRP|Outlet_Identifier|Outlet_Establishment_Year|Outlet_Size|Outlet_Location_Type|      Outlet_Type|Item_Outlet_Sales|\n",
      "+---------------+-------+----------------+---------------+--------------------+--------+-----------------+-------------------------+-----------+--------------------+-----------------+-----------------+\n",
      "|          FDA15|    9.3|         Low Fat|    0.016047301|               Dairy|249.8092|           OUT049|                     1999|     Medium|              Tier 1|Supermarket Type1|         3735.138|\n",
      "|          DRC01|   5.92|         Regular|    0.019278216|         Soft Drinks| 48.2692|           OUT018|                     2009|     Medium|              Tier 3|Supermarket Type2|         443.4228|\n",
      "|          FDN15|   17.5|         Low Fat|    0.016760075|                Meat| 141.618|           OUT049|                     1999|     Medium|              Tier 1|Supermarket Type1|          2097.27|\n",
      "|          FDX07|   19.2|         Regular|            0.0|Fruits and Vegeta...| 182.095|           OUT010|                     1998|       null|              Tier 3|    Grocery Store|           732.38|\n",
      "+---------------+-------+----------------+---------------+--------------------+--------+-----------------+-------------------------+-----------+--------------------+-----------------+-----------------+\n",
      "only showing top 4 rows\n",
      "\n"
     ]
    }
   ],
   "source": [
    "df.withColumnRenamed('Item_Weight', 'Item_Wt').show(4)"
   ]
  },
  {
   "cell_type": "markdown",
   "id": "cacdd0d0",
   "metadata": {},
   "source": [
    "#### withColumn - new_col, modify_col"
   ]
  },
  {
   "cell_type": "markdown",
   "id": "a413f61e",
   "metadata": {},
   "source": [
    "##### Scenario - 1"
   ]
  },
  {
   "cell_type": "code",
   "execution_count": 25,
   "id": "b865a8d5",
   "metadata": {},
   "outputs": [],
   "source": [
    "df = df.withColumn('flag', lit(\"new\"))"
   ]
  },
  {
   "cell_type": "code",
   "execution_count": 26,
   "id": "1c6bbdb5",
   "metadata": {},
   "outputs": [
    {
     "name": "stdout",
     "output_type": "stream",
     "text": [
      "+---------------+-----------+----------------+---------------+--------------------+--------+-----------------+-------------------------+-----------+--------------------+-----------------+-----------------+----+\n",
      "|Item_Identifier|Item_Weight|Item_Fat_Content|Item_Visibility|           Item_Type|Item_MRP|Outlet_Identifier|Outlet_Establishment_Year|Outlet_Size|Outlet_Location_Type|      Outlet_Type|Item_Outlet_Sales|flag|\n",
      "+---------------+-----------+----------------+---------------+--------------------+--------+-----------------+-------------------------+-----------+--------------------+-----------------+-----------------+----+\n",
      "|          FDA15|        9.3|         Low Fat|    0.016047301|               Dairy|249.8092|           OUT049|                     1999|     Medium|              Tier 1|Supermarket Type1|         3735.138| new|\n",
      "|          DRC01|       5.92|         Regular|    0.019278216|         Soft Drinks| 48.2692|           OUT018|                     2009|     Medium|              Tier 3|Supermarket Type2|         443.4228| new|\n",
      "|          FDN15|       17.5|         Low Fat|    0.016760075|                Meat| 141.618|           OUT049|                     1999|     Medium|              Tier 1|Supermarket Type1|          2097.27| new|\n",
      "|          FDX07|       19.2|         Regular|            0.0|Fruits and Vegeta...| 182.095|           OUT010|                     1998|       null|              Tier 3|    Grocery Store|           732.38| new|\n",
      "+---------------+-----------+----------------+---------------+--------------------+--------+-----------------+-------------------------+-----------+--------------------+-----------------+-----------------+----+\n",
      "only showing top 4 rows\n",
      "\n"
     ]
    }
   ],
   "source": [
    "df.show(4)"
   ]
  },
  {
   "cell_type": "code",
   "execution_count": 27,
   "id": "1abc3b85",
   "metadata": {},
   "outputs": [
    {
     "name": "stdout",
     "output_type": "stream",
     "text": [
      "+---------------+-----------+----------------+---------------+--------------------+--------+-----------------+-------------------------+-----------+--------------------+-----------------+-----------------+----+------------------+\n",
      "|Item_Identifier|Item_Weight|Item_Fat_Content|Item_Visibility|           Item_Type|Item_MRP|Outlet_Identifier|Outlet_Establishment_Year|Outlet_Size|Outlet_Location_Type|      Outlet_Type|Item_Outlet_Sales|flag|          multiply|\n",
      "+---------------+-----------+----------------+---------------+--------------------+--------+-----------------+-------------------------+-----------+--------------------+-----------------+-----------------+----+------------------+\n",
      "|          FDA15|        9.3|         Low Fat|    0.016047301|               Dairy|249.8092|           OUT049|                     1999|     Medium|              Tier 1|Supermarket Type1|         3735.138| new|2323.2255600000003|\n",
      "|          DRC01|       5.92|         Regular|    0.019278216|         Soft Drinks| 48.2692|           OUT018|                     2009|     Medium|              Tier 3|Supermarket Type2|         443.4228| new|285.75366399999996|\n",
      "|          FDN15|       17.5|         Low Fat|    0.016760075|                Meat| 141.618|           OUT049|                     1999|     Medium|              Tier 1|Supermarket Type1|          2097.27| new|          2478.315|\n",
      "|          FDX07|       19.2|         Regular|            0.0|Fruits and Vegeta...| 182.095|           OUT010|                     1998|       null|              Tier 3|    Grocery Store|           732.38| new|3496.2239999999997|\n",
      "+---------------+-----------+----------------+---------------+--------------------+--------+-----------------+-------------------------+-----------+--------------------+-----------------+-----------------+----+------------------+\n",
      "only showing top 4 rows\n",
      "\n"
     ]
    }
   ],
   "source": [
    "df.withColumn('multiply', col('Item_Weight') * col('Item_MRP')).show(4)"
   ]
  },
  {
   "cell_type": "markdown",
   "id": "cacda4a8",
   "metadata": {},
   "source": [
    "##### Scenario - 2"
   ]
  },
  {
   "cell_type": "code",
   "execution_count": 28,
   "id": "23e8e09c",
   "metadata": {},
   "outputs": [
    {
     "name": "stdout",
     "output_type": "stream",
     "text": [
      "+---------------+-----------+----------------+---------------+--------------------+--------+-----------------+-------------------------+-----------+--------------------+-----------------+-----------------+----+\n",
      "|Item_Identifier|Item_Weight|Item_Fat_Content|Item_Visibility|           Item_Type|Item_MRP|Outlet_Identifier|Outlet_Establishment_Year|Outlet_Size|Outlet_Location_Type|      Outlet_Type|Item_Outlet_Sales|flag|\n",
      "+---------------+-----------+----------------+---------------+--------------------+--------+-----------------+-------------------------+-----------+--------------------+-----------------+-----------------+----+\n",
      "|          FDA15|        9.3|              Lf|    0.016047301|               Dairy|249.8092|           OUT049|                     1999|     Medium|              Tier 1|Supermarket Type1|         3735.138| new|\n",
      "|          DRC01|       5.92|             Reg|    0.019278216|         Soft Drinks| 48.2692|           OUT018|                     2009|     Medium|              Tier 3|Supermarket Type2|         443.4228| new|\n",
      "|          FDN15|       17.5|              Lf|    0.016760075|                Meat| 141.618|           OUT049|                     1999|     Medium|              Tier 1|Supermarket Type1|          2097.27| new|\n",
      "|          FDX07|       19.2|             Reg|            0.0|Fruits and Vegeta...| 182.095|           OUT010|                     1998|       null|              Tier 3|    Grocery Store|           732.38| new|\n",
      "|          NCD19|       8.93|              Lf|            0.0|           Household| 53.8614|           OUT013|                     1987|       High|              Tier 3|Supermarket Type1|         994.7052| new|\n",
      "|          FDP36|     10.395|             Reg|            0.0|        Baking Goods| 51.4008|           OUT018|                     2009|     Medium|              Tier 3|Supermarket Type2|         556.6088| new|\n",
      "|          FDO10|      13.65|             Reg|    0.012741089|         Snack Foods| 57.6588|           OUT013|                     1987|       High|              Tier 3|Supermarket Type1|         343.5528| new|\n",
      "|          FDP10|       null|              Lf|    0.127469857|         Snack Foods|107.7622|           OUT027|                     1985|     Medium|              Tier 3|Supermarket Type3|        4022.7636| new|\n",
      "|          FDH17|       16.2|             Reg|    0.016687114|        Frozen Foods| 96.9726|           OUT045|                     2002|       null|              Tier 2|Supermarket Type1|        1076.5986| new|\n",
      "|          FDU28|       19.2|             Reg|     0.09444959|        Frozen Foods|187.8214|           OUT017|                     2007|       null|              Tier 2|Supermarket Type1|         4710.535| new|\n",
      "|          FDY07|       11.8|              Lf|            0.0|Fruits and Vegeta...| 45.5402|           OUT049|                     1999|     Medium|              Tier 1|Supermarket Type1|        1516.0266| new|\n",
      "|          FDA03|       18.5|             Reg|    0.045463773|               Dairy|144.1102|           OUT046|                     1997|      Small|              Tier 1|Supermarket Type1|         2187.153| new|\n",
      "|          FDX32|       15.1|             Reg|      0.1000135|Fruits and Vegeta...|145.4786|           OUT049|                     1999|     Medium|              Tier 1|Supermarket Type1|        1589.2646| new|\n",
      "|          FDS46|       17.6|             Reg|    0.047257328|         Snack Foods|119.6782|           OUT046|                     1997|      Small|              Tier 1|Supermarket Type1|        2145.2076| new|\n",
      "|          FDF32|      16.35|              Lf|      0.0680243|Fruits and Vegeta...|196.4426|           OUT013|                     1987|       High|              Tier 3|Supermarket Type1|         1977.426| new|\n",
      "|          FDP49|          9|             Reg|    0.069088961|           Breakfast| 56.3614|           OUT046|                     1997|      Small|              Tier 1|Supermarket Type1|        1547.3192| new|\n",
      "|          NCB42|       11.8|              Lf|    0.008596051|  Health and Hygiene|115.3492|           OUT018|                     2009|     Medium|              Tier 3|Supermarket Type2|        1621.8888| new|\n",
      "|          FDP49|          9|             Reg|    0.069196376|           Breakfast| 54.3614|           OUT049|                     1999|     Medium|              Tier 1|Supermarket Type1|         718.3982| new|\n",
      "|          DRI11|       null|              Lf|    0.034237682|         Hard Drinks|113.2834|           OUT027|                     1985|     Medium|              Tier 3|Supermarket Type3|         2303.668| new|\n",
      "|          FDU02|      13.35|              Lf|     0.10249212|               Dairy|230.5352|           OUT035|                     2004|      Small|              Tier 2|Supermarket Type1|        2748.4224| new|\n",
      "+---------------+-----------+----------------+---------------+--------------------+--------+-----------------+-------------------------+-----------+--------------------+-----------------+-----------------+----+\n",
      "only showing top 20 rows\n",
      "\n"
     ]
    }
   ],
   "source": [
    "df.withColumn('Item_Fat_Content', regexp_replace(col('Item_Fat_Content'), \"Regular\", \"Reg\"))\\\n",
    "    .withColumn('Item_Fat_Content', regexp_replace(col('Item_Fat_Content'), 'Low Fat', 'Lf')).show()"
   ]
  },
  {
   "cell_type": "markdown",
   "id": "ac10f9d9",
   "metadata": {},
   "source": [
    "#### Type Casting"
   ]
  },
  {
   "cell_type": "code",
   "execution_count": 29,
   "id": "81f2dbe3",
   "metadata": {},
   "outputs": [
    {
     "name": "stdout",
     "output_type": "stream",
     "text": [
      "root\n",
      " |-- Item_Identifier: string (nullable = true)\n",
      " |-- Item_Weight: string (nullable = true)\n",
      " |-- Item_Fat_Content: string (nullable = true)\n",
      " |-- Item_Visibility: double (nullable = true)\n",
      " |-- Item_Type: string (nullable = true)\n",
      " |-- Item_MRP: double (nullable = true)\n",
      " |-- Outlet_Identifier: string (nullable = true)\n",
      " |-- Outlet_Establishment_Year: integer (nullable = true)\n",
      " |-- Outlet_Size: string (nullable = true)\n",
      " |-- Outlet_Location_Type: string (nullable = true)\n",
      " |-- Outlet_Type: string (nullable = true)\n",
      " |-- Item_Outlet_Sales: double (nullable = true)\n",
      " |-- flag: string (nullable = false)\n",
      "\n"
     ]
    }
   ],
   "source": [
    "df.printSchema()"
   ]
  },
  {
   "cell_type": "code",
   "execution_count": 30,
   "id": "d2f99a7e",
   "metadata": {},
   "outputs": [],
   "source": [
    "df = df.withColumn('Item_Weight', col('Item_Weight').cast(DoubleType()))"
   ]
  },
  {
   "cell_type": "code",
   "execution_count": 31,
   "id": "4eb41140",
   "metadata": {},
   "outputs": [
    {
     "name": "stdout",
     "output_type": "stream",
     "text": [
      "root\n",
      " |-- Item_Identifier: string (nullable = true)\n",
      " |-- Item_Weight: double (nullable = true)\n",
      " |-- Item_Fat_Content: string (nullable = true)\n",
      " |-- Item_Visibility: double (nullable = true)\n",
      " |-- Item_Type: string (nullable = true)\n",
      " |-- Item_MRP: double (nullable = true)\n",
      " |-- Outlet_Identifier: string (nullable = true)\n",
      " |-- Outlet_Establishment_Year: integer (nullable = true)\n",
      " |-- Outlet_Size: string (nullable = true)\n",
      " |-- Outlet_Location_Type: string (nullable = true)\n",
      " |-- Outlet_Type: string (nullable = true)\n",
      " |-- Item_Outlet_Sales: double (nullable = true)\n",
      " |-- flag: string (nullable = false)\n",
      "\n"
     ]
    }
   ],
   "source": [
    "df.printSchema()"
   ]
  },
  {
   "cell_type": "markdown",
   "id": "539bac90",
   "metadata": {},
   "source": [
    "#### sort"
   ]
  },
  {
   "cell_type": "markdown",
   "id": "a90e800b",
   "metadata": {},
   "source": [
    "##### Scenario - 1"
   ]
  },
  {
   "cell_type": "code",
   "execution_count": 32,
   "id": "e18c79c0",
   "metadata": {},
   "outputs": [
    {
     "name": "stdout",
     "output_type": "stream",
     "text": [
      "+---------------+-----------+----------------+---------------+---------+--------+-----------------+-------------------------+-----------+--------------------+-----------------+-----------------+----+\n",
      "|Item_Identifier|Item_Weight|Item_Fat_Content|Item_Visibility|Item_Type|Item_MRP|Outlet_Identifier|Outlet_Establishment_Year|Outlet_Size|Outlet_Location_Type|      Outlet_Type|Item_Outlet_Sales|flag|\n",
      "+---------------+-----------+----------------+---------------+---------+--------+-----------------+-------------------------+-----------+--------------------+-----------------+-----------------+----+\n",
      "|          FDC02|      21.35|         Low Fat|    0.069102831|   Canned|259.9278|           OUT018|                     2009|     Medium|              Tier 3|Supermarket Type2|        6768.5228| new|\n",
      "|          FDC02|      21.35|         Low Fat|    0.115194717|   Canned|258.3278|           OUT010|                     1998|       null|              Tier 3|    Grocery Store|         520.6556| new|\n",
      "|          FDC02|      21.35|         Low Fat|    0.068809463|   Canned|258.5278|           OUT035|                     2004|      Small|              Tier 2|Supermarket Type1|         5206.556| new|\n",
      "|          FDC02|      21.35|         Low Fat|    0.068765205|   Canned|260.4278|           OUT013|                     1987|       High|              Tier 3|Supermarket Type1|        3644.5892| new|\n",
      "+---------------+-----------+----------------+---------------+---------+--------+-----------------+-------------------------+-----------+--------------------+-----------------+-----------------+----+\n",
      "only showing top 4 rows\n",
      "\n"
     ]
    }
   ],
   "source": [
    "df.sort(col('Item_Weight').desc()).show(4)"
   ]
  },
  {
   "cell_type": "markdown",
   "id": "29c2f6bb",
   "metadata": {},
   "source": [
    "##### Scenario - 2"
   ]
  },
  {
   "cell_type": "code",
   "execution_count": 33,
   "id": "2c4ac6a3",
   "metadata": {},
   "outputs": [
    {
     "name": "stdout",
     "output_type": "stream",
     "text": [
      "+---------------+-----------+----------------+---------------+--------------------+--------+-----------------+-------------------------+-----------+--------------------+-----------------+-----------------+----+\n",
      "|Item_Identifier|Item_Weight|Item_Fat_Content|Item_Visibility|           Item_Type|Item_MRP|Outlet_Identifier|Outlet_Establishment_Year|Outlet_Size|Outlet_Location_Type|      Outlet_Type|Item_Outlet_Sales|flag|\n",
      "+---------------+-----------+----------------+---------------+--------------------+--------+-----------------+-------------------------+-----------+--------------------+-----------------+-----------------+----+\n",
      "|          FDP33|       18.7|         Low Fat|            0.0|         Snack Foods|256.6672|           OUT018|                     2009|     Medium|              Tier 3|Supermarket Type2|        3068.0064| new|\n",
      "|          FDH35|      18.25|         Low Fat|            0.0|       Starchy Foods|164.7526|           OUT045|                     2002|       null|              Tier 2|Supermarket Type1|        4604.6728| new|\n",
      "|          FDO23|      17.85|         Low Fat|            0.0|              Breads| 93.1436|           OUT045|                     2002|       null|              Tier 2|Supermarket Type1|        2174.5028| new|\n",
      "|          FDX07|       19.2|         Regular|            0.0|Fruits and Vegeta...| 182.095|           OUT010|                     1998|       null|              Tier 3|    Grocery Store|           732.38| new|\n",
      "+---------------+-----------+----------------+---------------+--------------------+--------+-----------------+-------------------------+-----------+--------------------+-----------------+-----------------+----+\n",
      "only showing top 4 rows\n",
      "\n"
     ]
    }
   ],
   "source": [
    "df.sort(col('Item_Visibility').asc()).show(4)"
   ]
  },
  {
   "cell_type": "markdown",
   "id": "c56c4994",
   "metadata": {},
   "source": [
    "##### Scenario - 3: We want to perform sorting on multiple columns"
   ]
  },
  {
   "cell_type": "code",
   "execution_count": 34,
   "id": "699f8fc6",
   "metadata": {},
   "outputs": [
    {
     "name": "stdout",
     "output_type": "stream",
     "text": [
      "+---------------+-----------+----------------+---------------+--------------------+--------+-----------------+-------------------------+-----------+--------------------+-----------------+-----------------+----+\n",
      "|Item_Identifier|Item_Weight|Item_Fat_Content|Item_Visibility|           Item_Type|Item_MRP|Outlet_Identifier|Outlet_Establishment_Year|Outlet_Size|Outlet_Location_Type|      Outlet_Type|Item_Outlet_Sales|flag|\n",
      "+---------------+-----------+----------------+---------------+--------------------+--------+-----------------+-------------------------+-----------+--------------------+-----------------+-----------------+----+\n",
      "|          FDR07|      21.35|         Low Fat|    0.130127365|Fruits and Vegeta...| 96.2094|           OUT010|                     1998|       null|              Tier 3|    Grocery Store|         190.4188| new|\n",
      "|          FDC02|      21.35|         Low Fat|    0.115194717|              Canned|258.3278|           OUT010|                     1998|       null|              Tier 3|    Grocery Store|         520.6556| new|\n",
      "|          FDR07|      21.35|         Low Fat|    0.078060605|Fruits and Vegeta...| 96.0094|           OUT018|                     2009|     Medium|              Tier 3|Supermarket Type2|         380.8376| new|\n",
      "|          FDC02|      21.35|         Low Fat|    0.069102831|              Canned|259.9278|           OUT018|                     2009|     Medium|              Tier 3|Supermarket Type2|        6768.5228| new|\n",
      "|          FDC02|      21.35|         Low Fat|    0.068822477|              Canned|258.3278|           OUT046|                     1997|      Small|              Tier 1|Supermarket Type1|        7028.8506| new|\n",
      "|          FDC02|      21.35|         Low Fat|    0.068809463|              Canned|258.5278|           OUT035|                     2004|      Small|              Tier 2|Supermarket Type1|         5206.556| new|\n",
      "|          FDC02|      21.35|         Low Fat|    0.068765205|              Canned|260.4278|           OUT013|                     1987|       High|              Tier 3|Supermarket Type1|        3644.5892| new|\n",
      "|          FDA45|      21.25|         Low Fat|    0.156012631|         Snack Foods| 177.337|           OUT018|                     2009|     Medium|              Tier 3|Supermarket Type2|         2822.992| new|\n",
      "|          FDA45|      21.25|         Low Fat|    0.155694794|         Snack Foods| 177.637|           OUT045|                     2002|       null|              Tier 2|Supermarket Type1|         2999.429| new|\n",
      "|          FDA45|      21.25|         Low Fat|    0.155350299|         Snack Foods| 178.237|           OUT035|                     2004|      Small|              Tier 2|Supermarket Type1|          529.311| new|\n",
      "+---------------+-----------+----------------+---------------+--------------------+--------+-----------------+-------------------------+-----------+--------------------+-----------------+-----------------+----+\n",
      "only showing top 10 rows\n",
      "\n"
     ]
    }
   ],
   "source": [
    "df.sort(['Item_Weight', 'Item_Visibility'], ascending=[0, 0]).show(10)"
   ]
  },
  {
   "cell_type": "markdown",
   "id": "bc8ae56b",
   "metadata": {},
   "source": [
    "#### Scenario - 4"
   ]
  },
  {
   "cell_type": "code",
   "execution_count": 35,
   "id": "7036584d",
   "metadata": {},
   "outputs": [
    {
     "name": "stdout",
     "output_type": "stream",
     "text": [
      "+---------------+-----------+----------------+---------------+--------------------+--------+-----------------+-------------------------+-----------+--------------------+-----------------+-----------------+----+\n",
      "|Item_Identifier|Item_Weight|Item_Fat_Content|Item_Visibility|           Item_Type|Item_MRP|Outlet_Identifier|Outlet_Establishment_Year|Outlet_Size|Outlet_Location_Type|      Outlet_Type|Item_Outlet_Sales|flag|\n",
      "+---------------+-----------+----------------+---------------+--------------------+--------+-----------------+-------------------------+-----------+--------------------+-----------------+-----------------+----+\n",
      "|          FDC02|      21.35|         Low Fat|    0.068765205|              Canned|260.4278|           OUT013|                     1987|       High|              Tier 3|Supermarket Type1|        3644.5892| new|\n",
      "|          FDC02|      21.35|         Low Fat|    0.068809463|              Canned|258.5278|           OUT035|                     2004|      Small|              Tier 2|Supermarket Type1|         5206.556| new|\n",
      "|          FDC02|      21.35|         Low Fat|    0.068822477|              Canned|258.3278|           OUT046|                     1997|      Small|              Tier 1|Supermarket Type1|        7028.8506| new|\n",
      "|          FDC02|      21.35|         Low Fat|    0.069102831|              Canned|259.9278|           OUT018|                     2009|     Medium|              Tier 3|Supermarket Type2|        6768.5228| new|\n",
      "|          FDR07|      21.35|         Low Fat|    0.078060605|Fruits and Vegeta...| 96.0094|           OUT018|                     2009|     Medium|              Tier 3|Supermarket Type2|         380.8376| new|\n",
      "+---------------+-----------+----------------+---------------+--------------------+--------+-----------------+-------------------------+-----------+--------------------+-----------------+-----------------+----+\n",
      "only showing top 5 rows\n",
      "\n"
     ]
    }
   ],
   "source": [
    "df.sort(['Item_Weight', 'Item_Visibility'], ascending = [0, 1]).show(5)"
   ]
  },
  {
   "cell_type": "markdown",
   "id": "4d73c906",
   "metadata": {},
   "source": [
    "##### Limit"
   ]
  },
  {
   "cell_type": "code",
   "execution_count": 36,
   "id": "77535b48",
   "metadata": {},
   "outputs": [
    {
     "name": "stdout",
     "output_type": "stream",
     "text": [
      "+---------------+-----------+----------------+---------------+--------------------+--------+-----------------+-------------------------+-----------+--------------------+-----------------+-----------------+----+\n",
      "|Item_Identifier|Item_Weight|Item_Fat_Content|Item_Visibility|           Item_Type|Item_MRP|Outlet_Identifier|Outlet_Establishment_Year|Outlet_Size|Outlet_Location_Type|      Outlet_Type|Item_Outlet_Sales|flag|\n",
      "+---------------+-----------+----------------+---------------+--------------------+--------+-----------------+-------------------------+-----------+--------------------+-----------------+-----------------+----+\n",
      "|          FDA15|        9.3|         Low Fat|    0.016047301|               Dairy|249.8092|           OUT049|                     1999|     Medium|              Tier 1|Supermarket Type1|         3735.138| new|\n",
      "|          DRC01|       5.92|         Regular|    0.019278216|         Soft Drinks| 48.2692|           OUT018|                     2009|     Medium|              Tier 3|Supermarket Type2|         443.4228| new|\n",
      "|          FDN15|       17.5|         Low Fat|    0.016760075|                Meat| 141.618|           OUT049|                     1999|     Medium|              Tier 1|Supermarket Type1|          2097.27| new|\n",
      "|          FDX07|       19.2|         Regular|            0.0|Fruits and Vegeta...| 182.095|           OUT010|                     1998|       null|              Tier 3|    Grocery Store|           732.38| new|\n",
      "|          NCD19|       8.93|         Low Fat|            0.0|           Household| 53.8614|           OUT013|                     1987|       High|              Tier 3|Supermarket Type1|         994.7052| new|\n",
      "|          FDP36|     10.395|         Regular|            0.0|        Baking Goods| 51.4008|           OUT018|                     2009|     Medium|              Tier 3|Supermarket Type2|         556.6088| new|\n",
      "|          FDO10|      13.65|         Regular|    0.012741089|         Snack Foods| 57.6588|           OUT013|                     1987|       High|              Tier 3|Supermarket Type1|         343.5528| new|\n",
      "|          FDP10|       null|         Low Fat|    0.127469857|         Snack Foods|107.7622|           OUT027|                     1985|     Medium|              Tier 3|Supermarket Type3|        4022.7636| new|\n",
      "|          FDH17|       16.2|         Regular|    0.016687114|        Frozen Foods| 96.9726|           OUT045|                     2002|       null|              Tier 2|Supermarket Type1|        1076.5986| new|\n",
      "|          FDU28|       19.2|         Regular|     0.09444959|        Frozen Foods|187.8214|           OUT017|                     2007|       null|              Tier 2|Supermarket Type1|         4710.535| new|\n",
      "+---------------+-----------+----------------+---------------+--------------------+--------+-----------------+-------------------------+-----------+--------------------+-----------------+-----------------+----+\n",
      "\n"
     ]
    }
   ],
   "source": [
    "df.limit(10).show()"
   ]
  },
  {
   "cell_type": "markdown",
   "id": "69b702a2",
   "metadata": {},
   "source": [
    "##### Drop"
   ]
  },
  {
   "cell_type": "markdown",
   "id": "d08a30dd",
   "metadata": {},
   "source": [
    "##### Scenario - 1"
   ]
  },
  {
   "cell_type": "code",
   "execution_count": 37,
   "id": "c31c0d17",
   "metadata": {},
   "outputs": [
    {
     "name": "stdout",
     "output_type": "stream",
     "text": [
      "+---------------+-----------+----------------+--------------------+--------+-----------------+-------------------------+-----------+--------------------+-----------------+-----------------+----+\n",
      "|Item_Identifier|Item_Weight|Item_Fat_Content|           Item_Type|Item_MRP|Outlet_Identifier|Outlet_Establishment_Year|Outlet_Size|Outlet_Location_Type|      Outlet_Type|Item_Outlet_Sales|flag|\n",
      "+---------------+-----------+----------------+--------------------+--------+-----------------+-------------------------+-----------+--------------------+-----------------+-----------------+----+\n",
      "|          FDA15|        9.3|         Low Fat|               Dairy|249.8092|           OUT049|                     1999|     Medium|              Tier 1|Supermarket Type1|         3735.138| new|\n",
      "|          DRC01|       5.92|         Regular|         Soft Drinks| 48.2692|           OUT018|                     2009|     Medium|              Tier 3|Supermarket Type2|         443.4228| new|\n",
      "|          FDN15|       17.5|         Low Fat|                Meat| 141.618|           OUT049|                     1999|     Medium|              Tier 1|Supermarket Type1|          2097.27| new|\n",
      "|          FDX07|       19.2|         Regular|Fruits and Vegeta...| 182.095|           OUT010|                     1998|       null|              Tier 3|    Grocery Store|           732.38| new|\n",
      "|          NCD19|       8.93|         Low Fat|           Household| 53.8614|           OUT013|                     1987|       High|              Tier 3|Supermarket Type1|         994.7052| new|\n",
      "+---------------+-----------+----------------+--------------------+--------+-----------------+-------------------------+-----------+--------------------+-----------------+-----------------+----+\n",
      "only showing top 5 rows\n",
      "\n"
     ]
    }
   ],
   "source": [
    "df.drop('Item_Visibility').show(5)"
   ]
  },
  {
   "cell_type": "markdown",
   "id": "ea323fe7",
   "metadata": {},
   "source": [
    "##### Scenario - 2"
   ]
  },
  {
   "cell_type": "code",
   "execution_count": 38,
   "id": "7ad99ecc",
   "metadata": {},
   "outputs": [
    {
     "name": "stdout",
     "output_type": "stream",
     "text": [
      "+---------------+----------------+--------------------+--------+-----------------+-------------------------+-----------+--------------------+-----------------+-----------------+----+\n",
      "|Item_Identifier|Item_Fat_Content|           Item_Type|Item_MRP|Outlet_Identifier|Outlet_Establishment_Year|Outlet_Size|Outlet_Location_Type|      Outlet_Type|Item_Outlet_Sales|flag|\n",
      "+---------------+----------------+--------------------+--------+-----------------+-------------------------+-----------+--------------------+-----------------+-----------------+----+\n",
      "|          FDA15|         Low Fat|               Dairy|249.8092|           OUT049|                     1999|     Medium|              Tier 1|Supermarket Type1|         3735.138| new|\n",
      "|          DRC01|         Regular|         Soft Drinks| 48.2692|           OUT018|                     2009|     Medium|              Tier 3|Supermarket Type2|         443.4228| new|\n",
      "|          FDN15|         Low Fat|                Meat| 141.618|           OUT049|                     1999|     Medium|              Tier 1|Supermarket Type1|          2097.27| new|\n",
      "|          FDX07|         Regular|Fruits and Vegeta...| 182.095|           OUT010|                     1998|       null|              Tier 3|    Grocery Store|           732.38| new|\n",
      "|          NCD19|         Low Fat|           Household| 53.8614|           OUT013|                     1987|       High|              Tier 3|Supermarket Type1|         994.7052| new|\n",
      "+---------------+----------------+--------------------+--------+-----------------+-------------------------+-----------+--------------------+-----------------+-----------------+----+\n",
      "only showing top 5 rows\n",
      "\n"
     ]
    }
   ],
   "source": [
    "df.drop('Item_Weight', 'Item_Visibility').show(5)"
   ]
  },
  {
   "cell_type": "code",
   "execution_count": 39,
   "id": "9320573c",
   "metadata": {},
   "outputs": [
    {
     "data": {
      "text/plain": [
       "8523"
      ]
     },
     "execution_count": 39,
     "metadata": {},
     "output_type": "execute_result"
    }
   ],
   "source": [
    "df.count()"
   ]
  },
  {
   "cell_type": "markdown",
   "id": "ad975904",
   "metadata": {},
   "source": [
    "##### Drop Duplicates"
   ]
  },
  {
   "cell_type": "code",
   "execution_count": 40,
   "id": "5edd7f61",
   "metadata": {},
   "outputs": [
    {
     "name": "stdout",
     "output_type": "stream",
     "text": [
      "+---------------+-----------+----------------+---------------+-------------+--------+-----------------+-------------------------+-----------+--------------------+-----------------+-----------------+----+\n",
      "|Item_Identifier|Item_Weight|Item_Fat_Content|Item_Visibility|    Item_Type|Item_MRP|Outlet_Identifier|Outlet_Establishment_Year|Outlet_Size|Outlet_Location_Type|      Outlet_Type|Item_Outlet_Sales|flag|\n",
      "+---------------+-----------+----------------+---------------+-------------+--------+-----------------+-------------------------+-----------+--------------------+-----------------+-----------------+----+\n",
      "|          FDR12|       null|         Regular|    0.031382044| Baking Goods|171.3764|           OUT027|                     1985|     Medium|              Tier 3|Supermarket Type3|        3091.9752| new|\n",
      "|          FDH27|      7.075|         Low Fat|     0.05858462|        Dairy|142.7128|           OUT018|                     2009|     Medium|              Tier 3|Supermarket Type2|        1869.5664| new|\n",
      "|          FDM50|       null|         Regular|    0.029943463|       Canned|  60.222|           OUT027|                     1985|     Medium|              Tier 3|Supermarket Type3|         1677.816| new|\n",
      "|          FDB11|       16.0|              LF|    0.060797393|Starchy Foods|223.8404|           OUT013|                     1987|       High|              Tier 3|Supermarket Type1|        3600.6464| new|\n",
      "+---------------+-----------+----------------+---------------+-------------+--------+-----------------+-------------------------+-----------+--------------------+-----------------+-----------------+----+\n",
      "only showing top 4 rows\n",
      "\n"
     ]
    }
   ],
   "source": [
    "df.dropDuplicates().show(4)"
   ]
  },
  {
   "cell_type": "markdown",
   "id": "da983559",
   "metadata": {},
   "source": [
    "#### How to remove duplicates based on the column"
   ]
  },
  {
   "cell_type": "code",
   "execution_count": 41,
   "id": "669be266",
   "metadata": {},
   "outputs": [
    {
     "name": "stdout",
     "output_type": "stream",
     "text": [
      "+---------------+-----------+----------------+---------------+--------------------+--------+-----------------+-------------------------+-----------+--------------------+-----------------+-----------------+----+\n",
      "|Item_Identifier|Item_Weight|Item_Fat_Content|Item_Visibility|           Item_Type|Item_MRP|Outlet_Identifier|Outlet_Establishment_Year|Outlet_Size|Outlet_Location_Type|      Outlet_Type|Item_Outlet_Sales|flag|\n",
      "+---------------+-----------+----------------+---------------+--------------------+--------+-----------------+-------------------------+-----------+--------------------+-----------------+-----------------+----+\n",
      "|          FDX07|       19.2|         Regular|            0.0|Fruits and Vegeta...| 182.095|           OUT010|                     1998|       null|              Tier 3|    Grocery Store|           732.38| new|\n",
      "|          DRM59|       null|              LF|    0.003574698|         Hard Drinks|154.6998|           OUT027|                     1985|     Medium|              Tier 3|Supermarket Type3|        3229.7958| new|\n",
      "|          DRM59|       5.88|         Low Fat|    0.003589104|         Hard Drinks|155.5998|           OUT013|                     1987|       High|              Tier 3|Supermarket Type1|        1691.7978| new|\n",
      "|          DRM59|       5.88|         Low Fat|    0.003597678|         Hard Drinks|153.8998|           OUT049|                     1999|     Medium|              Tier 1|Supermarket Type1|        2922.1962| new|\n",
      "+---------------+-----------+----------------+---------------+--------------------+--------+-----------------+-------------------------+-----------+--------------------+-----------------+-----------------+----+\n",
      "only showing top 4 rows\n",
      "\n"
     ]
    }
   ],
   "source": [
    "df.dropDuplicates(['Item_Visibility']).show(4)"
   ]
  },
  {
   "cell_type": "code",
   "execution_count": 42,
   "id": "c4b559a1",
   "metadata": {},
   "outputs": [
    {
     "name": "stdout",
     "output_type": "stream",
     "text": [
      "+---------------+-----------+----------------+---------------+--------------------+--------+-----------------+-------------------------+-----------+--------------------+-----------------+-----------------+----+\n",
      "|Item_Identifier|Item_Weight|Item_Fat_Content|Item_Visibility|           Item_Type|Item_MRP|Outlet_Identifier|Outlet_Establishment_Year|Outlet_Size|Outlet_Location_Type|      Outlet_Type|Item_Outlet_Sales|flag|\n",
      "+---------------+-----------+----------------+---------------+--------------------+--------+-----------------+-------------------------+-----------+--------------------+-----------------+-----------------+----+\n",
      "|          FDR12|       null|         Regular|    0.031382044|        Baking Goods|171.3764|           OUT027|                     1985|     Medium|              Tier 3|Supermarket Type3|        3091.9752| new|\n",
      "|          FDH27|      7.075|         Low Fat|     0.05858462|               Dairy|142.7128|           OUT018|                     2009|     Medium|              Tier 3|Supermarket Type2|        1869.5664| new|\n",
      "|          FDM50|       null|         Regular|    0.029943463|              Canned|  60.222|           OUT027|                     1985|     Medium|              Tier 3|Supermarket Type3|         1677.816| new|\n",
      "|          FDB11|       16.0|              LF|    0.060797393|       Starchy Foods|223.8404|           OUT013|                     1987|       High|              Tier 3|Supermarket Type1|        3600.6464| new|\n",
      "|          FDV51|      16.35|         Low Fat|    0.054463442|                Meat|163.8842|           OUT010|                     1998|       null|              Tier 3|    Grocery Store|         165.7842| new|\n",
      "|          FDW46|       13.0|             reg|    0.070588037|         Snack Foods| 65.9484|           OUT018|                     2009|     Medium|              Tier 3|Supermarket Type2|        1043.9744| new|\n",
      "|          FDW38|       null|         Regular|            0.0|               Dairy| 55.9298|           OUT019|                     1985|      Small|              Tier 1|    Grocery Store|         107.8596| new|\n",
      "|          DRJ49|      6.865|         Low Fat|     0.01405025|         Soft Drinks|128.9652|           OUT018|                     2009|     Medium|              Tier 3|Supermarket Type2|        1679.1476| new|\n",
      "|          FDA40|       16.0|         Regular|    0.099832728|        Frozen Foods| 87.4856|           OUT017|                     2007|       null|              Tier 2|Supermarket Type1|         263.6568| new|\n",
      "|          FDI16|       14.0|         Regular|    0.135662712|        Frozen Foods|  52.064|           OUT013|                     1987|       High|              Tier 3|Supermarket Type1|          852.224| new|\n",
      "|          FDG40|      13.65|         Low Fat|    0.040049609|        Frozen Foods| 34.4558|           OUT017|                     2007|       null|              Tier 2|Supermarket Type1|         611.2044| new|\n",
      "|          FDE33|      19.35|         Regular|    0.049736267|Fruits and Vegeta...| 76.8644|           OUT045|                     2002|       null|              Tier 2|Supermarket Type1|         1571.288| new|\n",
      "|          DRZ24|       null|         Low Fat|            0.0|         Soft Drinks| 121.044|           OUT027|                     1985|     Medium|              Tier 3|Supermarket Type3|          2396.88| new|\n",
      "|          FDD38|      16.75|         Regular|    0.008191729|              Canned|103.5674|           OUT046|                     1997|      Small|              Tier 1|Supermarket Type1|        1629.8784| new|\n",
      "|          NCR41|      17.85|         Low Fat|    0.018052019|  Health and Hygiene| 96.6094|           OUT049|                     1999|     Medium|              Tier 1|Supermarket Type1|         856.8846| new|\n",
      "|          NCS53|       14.5|         Low Fat|    0.089917769|  Health and Hygiene|160.3604|           OUT049|                     1999|     Medium|              Tier 1|Supermarket Type1|        2852.2872| new|\n",
      "|          DRM37|      15.35|         Low Fat|    0.096790497|         Soft Drinks|197.2768|           OUT018|                     2009|     Medium|              Tier 3|Supermarket Type2|         3941.536| new|\n",
      "|          FDT10|       16.7|         Regular|    0.103849783|         Snack Foods| 58.8562|           OUT010|                     1998|       null|              Tier 3|    Grocery Store|          59.2562| new|\n",
      "|          FDS12|       null|              LF|    0.304859104|        Baking Goods|125.4362|           OUT019|                     1985|      Small|              Tier 1|    Grocery Store|         755.0172| new|\n",
      "|          FDV44|      8.365|         Regular|    0.040069806|Fruits and Vegeta...|190.7188|           OUT017|                     2007|       null|              Tier 2|Supermarket Type1|         1904.188| new|\n",
      "+---------------+-----------+----------------+---------------+--------------------+--------+-----------------+-------------------------+-----------+--------------------+-----------------+-----------------+----+\n",
      "only showing top 20 rows\n",
      "\n"
     ]
    }
   ],
   "source": [
    "df.distinct().show()"
   ]
  },
  {
   "cell_type": "markdown",
   "id": "36aec92b",
   "metadata": {},
   "source": [
    "#### UNION and UNION BY NAME"
   ]
  },
  {
   "cell_type": "code",
   "execution_count": 43,
   "id": "c04bd8c2",
   "metadata": {},
   "outputs": [],
   "source": [
    "data1 = [\n",
    "    ('1', 'kad'),\n",
    "    ('2', 'sid')\n",
    "]\n",
    "schema1 = 'id STRING, name STRING'\n",
    "\n",
    "df1 = spark.createDataFrame(data1, schema1)\n",
    "\n",
    "data2 = [\n",
    "    ('3', 'rahul'),\n",
    "    ('4', 'jas')\n",
    "]\n",
    "schema2 = 'id STRING, name STRING'\n",
    "\n",
    "df2 = spark.createDataFrame(data2, schema2)"
   ]
  },
  {
   "cell_type": "code",
   "execution_count": 44,
   "id": "19e090c8",
   "metadata": {},
   "outputs": [
    {
     "name": "stdout",
     "output_type": "stream",
     "text": [
      "+---+----+\n",
      "| id|name|\n",
      "+---+----+\n",
      "|  1| kad|\n",
      "|  2| sid|\n",
      "+---+----+\n",
      "\n"
     ]
    }
   ],
   "source": [
    "df1.show()"
   ]
  },
  {
   "cell_type": "code",
   "execution_count": 45,
   "id": "348c7dbd",
   "metadata": {},
   "outputs": [
    {
     "name": "stdout",
     "output_type": "stream",
     "text": [
      "+---+-----+\n",
      "| id| name|\n",
      "+---+-----+\n",
      "|  3|rahul|\n",
      "|  4|  jas|\n",
      "+---+-----+\n",
      "\n"
     ]
    }
   ],
   "source": [
    "df2.show()"
   ]
  },
  {
   "cell_type": "markdown",
   "id": "3992a620",
   "metadata": {},
   "source": [
    "##### Union"
   ]
  },
  {
   "cell_type": "code",
   "execution_count": 46,
   "id": "b4226f5b",
   "metadata": {},
   "outputs": [
    {
     "name": "stdout",
     "output_type": "stream",
     "text": [
      "+---+-----+\n",
      "| id| name|\n",
      "+---+-----+\n",
      "|  1|  kad|\n",
      "|  2|  sid|\n",
      "|  3|rahul|\n",
      "|  4|  jas|\n",
      "+---+-----+\n",
      "\n"
     ]
    }
   ],
   "source": [
    "df1.union(df2).show()"
   ]
  },
  {
   "cell_type": "code",
   "execution_count": 47,
   "id": "09bd2cc6",
   "metadata": {},
   "outputs": [],
   "source": [
    "data1 = [\n",
    "    ('kad', '1'),\n",
    "    ('sid', '2')\n",
    "]\n",
    "schema1 = 'name STRING, id STRING'\n",
    "\n",
    "df1 = spark.createDataFrame(data1, schema1)\n",
    "\n",
    "data2 = [\n",
    "    ('3', 'rahul'),\n",
    "    ('4', 'jas')\n",
    "]\n",
    "schema2 = 'id STRING, name STRING'\n",
    "\n",
    "df2 = spark.createDataFrame(data2, schema2)"
   ]
  },
  {
   "cell_type": "code",
   "execution_count": 48,
   "id": "bbc6c824",
   "metadata": {},
   "outputs": [
    {
     "name": "stdout",
     "output_type": "stream",
     "text": [
      "+----+-----+\n",
      "|name|   id|\n",
      "+----+-----+\n",
      "| kad|    1|\n",
      "| sid|    2|\n",
      "|   3|rahul|\n",
      "|   4|  jas|\n",
      "+----+-----+\n",
      "\n"
     ]
    }
   ],
   "source": [
    "df1.union(df2).show()"
   ]
  },
  {
   "cell_type": "markdown",
   "id": "272168d5",
   "metadata": {},
   "source": [
    "##### Union By Name"
   ]
  },
  {
   "cell_type": "code",
   "execution_count": 49,
   "id": "0306fbf5",
   "metadata": {},
   "outputs": [
    {
     "name": "stdout",
     "output_type": "stream",
     "text": [
      "+-----+---+\n",
      "| name| id|\n",
      "+-----+---+\n",
      "|  kad|  1|\n",
      "|  sid|  2|\n",
      "|rahul|  3|\n",
      "|  jas|  4|\n",
      "+-----+---+\n",
      "\n"
     ]
    }
   ],
   "source": [
    "df1.unionByName(df2).show()"
   ]
  },
  {
   "cell_type": "markdown",
   "id": "dda9ba28",
   "metadata": {},
   "source": [
    "#### String Functions\n",
    "- INITCAP()\n",
    "- UPPER()\n",
    "- LOWER()"
   ]
  },
  {
   "cell_type": "code",
   "execution_count": 50,
   "id": "219c532d",
   "metadata": {},
   "outputs": [
    {
     "name": "stdout",
     "output_type": "stream",
     "text": [
      "+--------------------+\n",
      "|  initcap(Item_Type)|\n",
      "+--------------------+\n",
      "|               Dairy|\n",
      "|         Soft Drinks|\n",
      "|                Meat|\n",
      "|Fruits And Vegeta...|\n",
      "+--------------------+\n",
      "only showing top 4 rows\n",
      "\n"
     ]
    }
   ],
   "source": [
    "df.select(initcap('Item_Type')).show(4)"
   ]
  },
  {
   "cell_type": "code",
   "execution_count": 51,
   "id": "de979946",
   "metadata": {},
   "outputs": [
    {
     "name": "stdout",
     "output_type": "stream",
     "text": [
      "+--------------------+\n",
      "|    lower(Item_Type)|\n",
      "+--------------------+\n",
      "|               dairy|\n",
      "|         soft drinks|\n",
      "|                meat|\n",
      "|fruits and vegeta...|\n",
      "+--------------------+\n",
      "only showing top 4 rows\n",
      "\n"
     ]
    }
   ],
   "source": [
    "df.select(lower('Item_Type')).show(4)"
   ]
  },
  {
   "cell_type": "code",
   "execution_count": 52,
   "id": "100246f8",
   "metadata": {},
   "outputs": [
    {
     "name": "stdout",
     "output_type": "stream",
     "text": [
      "+--------------------+\n",
      "| Item_Type_Uppercase|\n",
      "+--------------------+\n",
      "|               DAIRY|\n",
      "|         SOFT DRINKS|\n",
      "|                MEAT|\n",
      "|FRUITS AND VEGETA...|\n",
      "+--------------------+\n",
      "only showing top 4 rows\n",
      "\n"
     ]
    }
   ],
   "source": [
    "df.select(upper('Item_Type').alias('Item_Type_Uppercase')).show(4)"
   ]
  },
  {
   "cell_type": "markdown",
   "id": "b4d8d7ec",
   "metadata": {},
   "source": [
    "#### Date Functions\n",
    "- CURRENT_DATE()\n",
    "- DATE_ADD()\n",
    "- DATE_SUB()"
   ]
  },
  {
   "cell_type": "code",
   "execution_count": 53,
   "id": "12bbaac0",
   "metadata": {},
   "outputs": [
    {
     "name": "stdout",
     "output_type": "stream",
     "text": [
      "+---------------+-----------+----------------+---------------+--------------------+--------+-----------------+-------------------------+-----------+--------------------+-----------------+-----------------+----+----------+\n",
      "|Item_Identifier|Item_Weight|Item_Fat_Content|Item_Visibility|           Item_Type|Item_MRP|Outlet_Identifier|Outlet_Establishment_Year|Outlet_Size|Outlet_Location_Type|      Outlet_Type|Item_Outlet_Sales|flag|      date|\n",
      "+---------------+-----------+----------------+---------------+--------------------+--------+-----------------+-------------------------+-----------+--------------------+-----------------+-----------------+----+----------+\n",
      "|          FDA15|        9.3|         Low Fat|    0.016047301|               Dairy|249.8092|           OUT049|                     1999|     Medium|              Tier 1|Supermarket Type1|         3735.138| new|2025-07-15|\n",
      "|          DRC01|       5.92|         Regular|    0.019278216|         Soft Drinks| 48.2692|           OUT018|                     2009|     Medium|              Tier 3|Supermarket Type2|         443.4228| new|2025-07-15|\n",
      "|          FDN15|       17.5|         Low Fat|    0.016760075|                Meat| 141.618|           OUT049|                     1999|     Medium|              Tier 1|Supermarket Type1|          2097.27| new|2025-07-15|\n",
      "|          FDX07|       19.2|         Regular|            0.0|Fruits and Vegeta...| 182.095|           OUT010|                     1998|       null|              Tier 3|    Grocery Store|           732.38| new|2025-07-15|\n",
      "+---------------+-----------+----------------+---------------+--------------------+--------+-----------------+-------------------------+-----------+--------------------+-----------------+-----------------+----+----------+\n",
      "only showing top 4 rows\n",
      "\n"
     ]
    }
   ],
   "source": [
    "df = df.withColumn('date', current_date())\n",
    "\n",
    "df.show(4)"
   ]
  },
  {
   "cell_type": "code",
   "execution_count": 54,
   "id": "1eb73608",
   "metadata": {},
   "outputs": [
    {
     "name": "stdout",
     "output_type": "stream",
     "text": [
      "+---------------+-----------+----------------+---------------+--------------------+--------+-----------------+-------------------------+-----------+--------------------+-----------------+-----------------+----+----------+------------+\n",
      "|Item_Identifier|Item_Weight|Item_Fat_Content|Item_Visibility|           Item_Type|Item_MRP|Outlet_Identifier|Outlet_Establishment_Year|Outlet_Size|Outlet_Location_Type|      Outlet_Type|Item_Outlet_Sales|flag|      date|oneWeekAfter|\n",
      "+---------------+-----------+----------------+---------------+--------------------+--------+-----------------+-------------------------+-----------+--------------------+-----------------+-----------------+----+----------+------------+\n",
      "|          FDA15|        9.3|         Low Fat|    0.016047301|               Dairy|249.8092|           OUT049|                     1999|     Medium|              Tier 1|Supermarket Type1|         3735.138| new|2025-07-15|  2025-07-22|\n",
      "|          DRC01|       5.92|         Regular|    0.019278216|         Soft Drinks| 48.2692|           OUT018|                     2009|     Medium|              Tier 3|Supermarket Type2|         443.4228| new|2025-07-15|  2025-07-22|\n",
      "|          FDN15|       17.5|         Low Fat|    0.016760075|                Meat| 141.618|           OUT049|                     1999|     Medium|              Tier 1|Supermarket Type1|          2097.27| new|2025-07-15|  2025-07-22|\n",
      "|          FDX07|       19.2|         Regular|            0.0|Fruits and Vegeta...| 182.095|           OUT010|                     1998|       null|              Tier 3|    Grocery Store|           732.38| new|2025-07-15|  2025-07-22|\n",
      "+---------------+-----------+----------------+---------------+--------------------+--------+-----------------+-------------------------+-----------+--------------------+-----------------+-----------------+----+----------+------------+\n",
      "only showing top 4 rows\n",
      "\n"
     ]
    }
   ],
   "source": [
    "df = df.withColumn('oneWeekAfter', date_add('current_date', 7))\n",
    "df.show(4)"
   ]
  },
  {
   "cell_type": "code",
   "execution_count": 55,
   "id": "e3019814",
   "metadata": {},
   "outputs": [
    {
     "name": "stdout",
     "output_type": "stream",
     "text": [
      "+---------------+-----------+----------------+---------------+--------------------+--------+-----------------+-------------------------+-----------+--------------------+-----------------+-----------------+----+----------+------------+-------------+\n",
      "|Item_Identifier|Item_Weight|Item_Fat_Content|Item_Visibility|           Item_Type|Item_MRP|Outlet_Identifier|Outlet_Establishment_Year|Outlet_Size|Outlet_Location_Type|      Outlet_Type|Item_Outlet_Sales|flag|      date|oneWeekAfter|oneWeekBefore|\n",
      "+---------------+-----------+----------------+---------------+--------------------+--------+-----------------+-------------------------+-----------+--------------------+-----------------+-----------------+----+----------+------------+-------------+\n",
      "|          FDA15|        9.3|         Low Fat|    0.016047301|               Dairy|249.8092|           OUT049|                     1999|     Medium|              Tier 1|Supermarket Type1|         3735.138| new|2025-07-15|  2025-07-22|   2025-07-08|\n",
      "|          DRC01|       5.92|         Regular|    0.019278216|         Soft Drinks| 48.2692|           OUT018|                     2009|     Medium|              Tier 3|Supermarket Type2|         443.4228| new|2025-07-15|  2025-07-22|   2025-07-08|\n",
      "|          FDN15|       17.5|         Low Fat|    0.016760075|                Meat| 141.618|           OUT049|                     1999|     Medium|              Tier 1|Supermarket Type1|          2097.27| new|2025-07-15|  2025-07-22|   2025-07-08|\n",
      "|          FDX07|       19.2|         Regular|            0.0|Fruits and Vegeta...| 182.095|           OUT010|                     1998|       null|              Tier 3|    Grocery Store|           732.38| new|2025-07-15|  2025-07-22|   2025-07-08|\n",
      "|          NCD19|       8.93|         Low Fat|            0.0|           Household| 53.8614|           OUT013|                     1987|       High|              Tier 3|Supermarket Type1|         994.7052| new|2025-07-15|  2025-07-22|   2025-07-08|\n",
      "|          FDP36|     10.395|         Regular|            0.0|        Baking Goods| 51.4008|           OUT018|                     2009|     Medium|              Tier 3|Supermarket Type2|         556.6088| new|2025-07-15|  2025-07-22|   2025-07-08|\n",
      "|          FDO10|      13.65|         Regular|    0.012741089|         Snack Foods| 57.6588|           OUT013|                     1987|       High|              Tier 3|Supermarket Type1|         343.5528| new|2025-07-15|  2025-07-22|   2025-07-08|\n",
      "+---------------+-----------+----------------+---------------+--------------------+--------+-----------------+-------------------------+-----------+--------------------+-----------------+-----------------+----+----------+------------+-------------+\n",
      "only showing top 7 rows\n",
      "\n"
     ]
    }
   ],
   "source": [
    "df.withColumn('oneWeekBefore', date_sub('current_date', 7)).show(7)"
   ]
  },
  {
   "cell_type": "code",
   "execution_count": 56,
   "id": "d133552d",
   "metadata": {},
   "outputs": [
    {
     "name": "stdout",
     "output_type": "stream",
     "text": [
      "+---------------+-----------+----------------+---------------+--------------------+--------+-----------------+-------------------------+-----------+--------------------+-----------------+-----------------+----+----------+------------+-------------+\n",
      "|Item_Identifier|Item_Weight|Item_Fat_Content|Item_Visibility|           Item_Type|Item_MRP|Outlet_Identifier|Outlet_Establishment_Year|Outlet_Size|Outlet_Location_Type|      Outlet_Type|Item_Outlet_Sales|flag|      date|oneWeekAfter|oneWeekBefore|\n",
      "+---------------+-----------+----------------+---------------+--------------------+--------+-----------------+-------------------------+-----------+--------------------+-----------------+-----------------+----+----------+------------+-------------+\n",
      "|          FDA15|        9.3|         Low Fat|    0.016047301|               Dairy|249.8092|           OUT049|                     1999|     Medium|              Tier 1|Supermarket Type1|         3735.138| new|2025-07-15|  2025-07-22|   2025-07-08|\n",
      "|          DRC01|       5.92|         Regular|    0.019278216|         Soft Drinks| 48.2692|           OUT018|                     2009|     Medium|              Tier 3|Supermarket Type2|         443.4228| new|2025-07-15|  2025-07-22|   2025-07-08|\n",
      "|          FDN15|       17.5|         Low Fat|    0.016760075|                Meat| 141.618|           OUT049|                     1999|     Medium|              Tier 1|Supermarket Type1|          2097.27| new|2025-07-15|  2025-07-22|   2025-07-08|\n",
      "|          FDX07|       19.2|         Regular|            0.0|Fruits and Vegeta...| 182.095|           OUT010|                     1998|       null|              Tier 3|    Grocery Store|           732.38| new|2025-07-15|  2025-07-22|   2025-07-08|\n",
      "|          NCD19|       8.93|         Low Fat|            0.0|           Household| 53.8614|           OUT013|                     1987|       High|              Tier 3|Supermarket Type1|         994.7052| new|2025-07-15|  2025-07-22|   2025-07-08|\n",
      "+---------------+-----------+----------------+---------------+--------------------+--------+-----------------+-------------------------+-----------+--------------------+-----------------+-----------------+----+----------+------------+-------------+\n",
      "only showing top 5 rows\n",
      "\n"
     ]
    }
   ],
   "source": [
    "df = df.withColumn('oneWeekBefore', date_add('current_date', -7))\n",
    "df.show(5)"
   ]
  },
  {
   "cell_type": "markdown",
   "id": "1f90eb0c",
   "metadata": {},
   "source": [
    "#### DATEDIFF"
   ]
  },
  {
   "cell_type": "code",
   "execution_count": 57,
   "id": "83cb477c",
   "metadata": {},
   "outputs": [
    {
     "name": "stdout",
     "output_type": "stream",
     "text": [
      "+---------------+-----------+----------------+---------------+--------------------+--------+-----------------+-------------------------+-----------+--------------------+-----------------+-----------------+----+----------+------------+-------------+--------+\n",
      "|Item_Identifier|Item_Weight|Item_Fat_Content|Item_Visibility|           Item_Type|Item_MRP|Outlet_Identifier|Outlet_Establishment_Year|Outlet_Size|Outlet_Location_Type|      Outlet_Type|Item_Outlet_Sales|flag|      date|oneWeekAfter|oneWeekBefore|datediff|\n",
      "+---------------+-----------+----------------+---------------+--------------------+--------+-----------------+-------------------------+-----------+--------------------+-----------------+-----------------+----+----------+------------+-------------+--------+\n",
      "|          FDA15|        9.3|         Low Fat|    0.016047301|               Dairy|249.8092|           OUT049|                     1999|     Medium|              Tier 1|Supermarket Type1|         3735.138| new|2025-07-15|  2025-07-22|   2025-07-08|       7|\n",
      "|          DRC01|       5.92|         Regular|    0.019278216|         Soft Drinks| 48.2692|           OUT018|                     2009|     Medium|              Tier 3|Supermarket Type2|         443.4228| new|2025-07-15|  2025-07-22|   2025-07-08|       7|\n",
      "|          FDN15|       17.5|         Low Fat|    0.016760075|                Meat| 141.618|           OUT049|                     1999|     Medium|              Tier 1|Supermarket Type1|          2097.27| new|2025-07-15|  2025-07-22|   2025-07-08|       7|\n",
      "|          FDX07|       19.2|         Regular|            0.0|Fruits and Vegeta...| 182.095|           OUT010|                     1998|       null|              Tier 3|    Grocery Store|           732.38| new|2025-07-15|  2025-07-22|   2025-07-08|       7|\n",
      "+---------------+-----------+----------------+---------------+--------------------+--------+-----------------+-------------------------+-----------+--------------------+-----------------+-----------------+----+----------+------------+-------------+--------+\n",
      "only showing top 4 rows\n",
      "\n"
     ]
    }
   ],
   "source": [
    "df.withColumn('datediff', datediff('oneWeekAfter', 'current_date')).show(4)"
   ]
  },
  {
   "cell_type": "code",
   "execution_count": 58,
   "id": "21da30a1",
   "metadata": {},
   "outputs": [
    {
     "name": "stdout",
     "output_type": "stream",
     "text": [
      "+--------------------------------------+\n",
      "|datediff(oneWeekAfter, current_date())|\n",
      "+--------------------------------------+\n",
      "|                                     7|\n",
      "|                                     7|\n",
      "|                                     7|\n",
      "|                                     7|\n",
      "+--------------------------------------+\n",
      "only showing top 4 rows\n",
      "\n"
     ]
    }
   ],
   "source": [
    "df.select(datediff('oneWeekAfter', 'current_date')).show(4)"
   ]
  },
  {
   "cell_type": "markdown",
   "id": "ac7f4688",
   "metadata": {},
   "source": [
    "#### Date_Format()"
   ]
  },
  {
   "cell_type": "code",
   "execution_count": 59,
   "id": "2736f6a6",
   "metadata": {},
   "outputs": [
    {
     "name": "stdout",
     "output_type": "stream",
     "text": [
      "+---------------+-----------+----------------+---------------+-----------+--------+-----------------+-------------------------+-----------+--------------------+-----------------+-----------------+----+----------+------------+-------------+\n",
      "|Item_Identifier|Item_Weight|Item_Fat_Content|Item_Visibility|  Item_Type|Item_MRP|Outlet_Identifier|Outlet_Establishment_Year|Outlet_Size|Outlet_Location_Type|      Outlet_Type|Item_Outlet_Sales|flag|      date|oneWeekAfter|oneWeekBefore|\n",
      "+---------------+-----------+----------------+---------------+-----------+--------+-----------------+-------------------------+-----------+--------------------+-----------------+-----------------+----+----------+------------+-------------+\n",
      "|          FDA15|        9.3|         Low Fat|    0.016047301|      Dairy|249.8092|           OUT049|                     1999|     Medium|              Tier 1|Supermarket Type1|         3735.138| new|2025-07-15|  2025-07-22|   2025-07-08|\n",
      "|          DRC01|       5.92|         Regular|    0.019278216|Soft Drinks| 48.2692|           OUT018|                     2009|     Medium|              Tier 3|Supermarket Type2|         443.4228| new|2025-07-15|  2025-07-22|   2025-07-08|\n",
      "|          FDN15|       17.5|         Low Fat|    0.016760075|       Meat| 141.618|           OUT049|                     1999|     Medium|              Tier 1|Supermarket Type1|          2097.27| new|2025-07-15|  2025-07-22|   2025-07-08|\n",
      "+---------------+-----------+----------------+---------------+-----------+--------+-----------------+-------------------------+-----------+--------------------+-----------------+-----------------+----+----------+------------+-------------+\n",
      "only showing top 3 rows\n",
      "\n"
     ]
    }
   ],
   "source": [
    "df.show(3)"
   ]
  },
  {
   "cell_type": "code",
   "execution_count": 60,
   "id": "910c7cc2",
   "metadata": {},
   "outputs": [
    {
     "name": "stdout",
     "output_type": "stream",
     "text": [
      "+---------------+-----------+----------------+---------------+--------------------+--------+-----------------+-------------------------+-----------+--------------------+-----------------+-----------------+----+----------+------------+-------------+-----------+\n",
      "|Item_Identifier|Item_Weight|Item_Fat_Content|Item_Visibility|           Item_Type|Item_MRP|Outlet_Identifier|Outlet_Establishment_Year|Outlet_Size|Outlet_Location_Type|      Outlet_Type|Item_Outlet_Sales|flag|      date|oneWeekAfter|oneWeekBefore|week_before|\n",
      "+---------------+-----------+----------------+---------------+--------------------+--------+-----------------+-------------------------+-----------+--------------------+-----------------+-----------------+----+----------+------------+-------------+-----------+\n",
      "|          FDA15|        9.3|         Low Fat|    0.016047301|               Dairy|249.8092|           OUT049|                     1999|     Medium|              Tier 1|Supermarket Type1|         3735.138| new|2025-07-15|  2025-07-22|   2025-07-08| 08-07-2025|\n",
      "|          DRC01|       5.92|         Regular|    0.019278216|         Soft Drinks| 48.2692|           OUT018|                     2009|     Medium|              Tier 3|Supermarket Type2|         443.4228| new|2025-07-15|  2025-07-22|   2025-07-08| 08-07-2025|\n",
      "|          FDN15|       17.5|         Low Fat|    0.016760075|                Meat| 141.618|           OUT049|                     1999|     Medium|              Tier 1|Supermarket Type1|          2097.27| new|2025-07-15|  2025-07-22|   2025-07-08| 08-07-2025|\n",
      "|          FDX07|       19.2|         Regular|            0.0|Fruits and Vegeta...| 182.095|           OUT010|                     1998|       null|              Tier 3|    Grocery Store|           732.38| new|2025-07-15|  2025-07-22|   2025-07-08| 08-07-2025|\n",
      "|          NCD19|       8.93|         Low Fat|            0.0|           Household| 53.8614|           OUT013|                     1987|       High|              Tier 3|Supermarket Type1|         994.7052| new|2025-07-15|  2025-07-22|   2025-07-08| 08-07-2025|\n",
      "|          FDP36|     10.395|         Regular|            0.0|        Baking Goods| 51.4008|           OUT018|                     2009|     Medium|              Tier 3|Supermarket Type2|         556.6088| new|2025-07-15|  2025-07-22|   2025-07-08| 08-07-2025|\n",
      "|          FDO10|      13.65|         Regular|    0.012741089|         Snack Foods| 57.6588|           OUT013|                     1987|       High|              Tier 3|Supermarket Type1|         343.5528| new|2025-07-15|  2025-07-22|   2025-07-08| 08-07-2025|\n",
      "|          FDP10|       null|         Low Fat|    0.127469857|         Snack Foods|107.7622|           OUT027|                     1985|     Medium|              Tier 3|Supermarket Type3|        4022.7636| new|2025-07-15|  2025-07-22|   2025-07-08| 08-07-2025|\n",
      "|          FDH17|       16.2|         Regular|    0.016687114|        Frozen Foods| 96.9726|           OUT045|                     2002|       null|              Tier 2|Supermarket Type1|        1076.5986| new|2025-07-15|  2025-07-22|   2025-07-08| 08-07-2025|\n",
      "|          FDU28|       19.2|         Regular|     0.09444959|        Frozen Foods|187.8214|           OUT017|                     2007|       null|              Tier 2|Supermarket Type1|         4710.535| new|2025-07-15|  2025-07-22|   2025-07-08| 08-07-2025|\n",
      "|          FDY07|       11.8|         Low Fat|            0.0|Fruits and Vegeta...| 45.5402|           OUT049|                     1999|     Medium|              Tier 1|Supermarket Type1|        1516.0266| new|2025-07-15|  2025-07-22|   2025-07-08| 08-07-2025|\n",
      "|          FDA03|       18.5|         Regular|    0.045463773|               Dairy|144.1102|           OUT046|                     1997|      Small|              Tier 1|Supermarket Type1|         2187.153| new|2025-07-15|  2025-07-22|   2025-07-08| 08-07-2025|\n",
      "|          FDX32|       15.1|         Regular|      0.1000135|Fruits and Vegeta...|145.4786|           OUT049|                     1999|     Medium|              Tier 1|Supermarket Type1|        1589.2646| new|2025-07-15|  2025-07-22|   2025-07-08| 08-07-2025|\n",
      "|          FDS46|       17.6|         Regular|    0.047257328|         Snack Foods|119.6782|           OUT046|                     1997|      Small|              Tier 1|Supermarket Type1|        2145.2076| new|2025-07-15|  2025-07-22|   2025-07-08| 08-07-2025|\n",
      "|          FDF32|      16.35|         Low Fat|      0.0680243|Fruits and Vegeta...|196.4426|           OUT013|                     1987|       High|              Tier 3|Supermarket Type1|         1977.426| new|2025-07-15|  2025-07-22|   2025-07-08| 08-07-2025|\n",
      "|          FDP49|        9.0|         Regular|    0.069088961|           Breakfast| 56.3614|           OUT046|                     1997|      Small|              Tier 1|Supermarket Type1|        1547.3192| new|2025-07-15|  2025-07-22|   2025-07-08| 08-07-2025|\n",
      "|          NCB42|       11.8|         Low Fat|    0.008596051|  Health and Hygiene|115.3492|           OUT018|                     2009|     Medium|              Tier 3|Supermarket Type2|        1621.8888| new|2025-07-15|  2025-07-22|   2025-07-08| 08-07-2025|\n",
      "|          FDP49|        9.0|         Regular|    0.069196376|           Breakfast| 54.3614|           OUT049|                     1999|     Medium|              Tier 1|Supermarket Type1|         718.3982| new|2025-07-15|  2025-07-22|   2025-07-08| 08-07-2025|\n",
      "|          DRI11|       null|         Low Fat|    0.034237682|         Hard Drinks|113.2834|           OUT027|                     1985|     Medium|              Tier 3|Supermarket Type3|         2303.668| new|2025-07-15|  2025-07-22|   2025-07-08| 08-07-2025|\n",
      "|          FDU02|      13.35|         Low Fat|     0.10249212|               Dairy|230.5352|           OUT035|                     2004|      Small|              Tier 2|Supermarket Type1|        2748.4224| new|2025-07-15|  2025-07-22|   2025-07-08| 08-07-2025|\n",
      "+---------------+-----------+----------------+---------------+--------------------+--------+-----------------+-------------------------+-----------+--------------------+-----------------+-----------------+----+----------+------------+-------------+-----------+\n",
      "only showing top 20 rows\n",
      "\n"
     ]
    }
   ],
   "source": [
    "df.withColumn('week_before', date_format('oneWeekBefore', 'dd-MM-yyyy')).show()"
   ]
  },
  {
   "cell_type": "markdown",
   "id": "7dfe1185",
   "metadata": {},
   "source": [
    "#### Handling Nulls"
   ]
  },
  {
   "cell_type": "markdown",
   "id": "a4df2ab2",
   "metadata": {},
   "source": [
    "##### Dropping Nulls"
   ]
  },
  {
   "cell_type": "code",
   "execution_count": 61,
   "id": "5fe3c029",
   "metadata": {},
   "outputs": [
    {
     "name": "stdout",
     "output_type": "stream",
     "text": [
      "+---------------+-----------+----------------+---------------+--------------------+--------+-----------------+-------------------------+-----------+--------------------+-----------------+-----------------+----+----------+------------+-------------+\n",
      "|Item_Identifier|Item_Weight|Item_Fat_Content|Item_Visibility|           Item_Type|Item_MRP|Outlet_Identifier|Outlet_Establishment_Year|Outlet_Size|Outlet_Location_Type|      Outlet_Type|Item_Outlet_Sales|flag|      date|oneWeekAfter|oneWeekBefore|\n",
      "+---------------+-----------+----------------+---------------+--------------------+--------+-----------------+-------------------------+-----------+--------------------+-----------------+-----------------+----+----------+------------+-------------+\n",
      "|          FDA15|        9.3|         Low Fat|    0.016047301|               Dairy|249.8092|           OUT049|                     1999|     Medium|              Tier 1|Supermarket Type1|         3735.138| new|2025-07-15|  2025-07-22|   2025-07-08|\n",
      "|          DRC01|       5.92|         Regular|    0.019278216|         Soft Drinks| 48.2692|           OUT018|                     2009|     Medium|              Tier 3|Supermarket Type2|         443.4228| new|2025-07-15|  2025-07-22|   2025-07-08|\n",
      "|          FDN15|       17.5|         Low Fat|    0.016760075|                Meat| 141.618|           OUT049|                     1999|     Medium|              Tier 1|Supermarket Type1|          2097.27| new|2025-07-15|  2025-07-22|   2025-07-08|\n",
      "|          FDX07|       19.2|         Regular|            0.0|Fruits and Vegeta...| 182.095|           OUT010|                     1998|       null|              Tier 3|    Grocery Store|           732.38| new|2025-07-15|  2025-07-22|   2025-07-08|\n",
      "+---------------+-----------+----------------+---------------+--------------------+--------+-----------------+-------------------------+-----------+--------------------+-----------------+-----------------+----+----------+------------+-------------+\n",
      "only showing top 4 rows\n",
      "\n"
     ]
    }
   ],
   "source": [
    "df.dropna('all').show(4)"
   ]
  },
  {
   "cell_type": "code",
   "execution_count": 62,
   "id": "50e06404",
   "metadata": {},
   "outputs": [
    {
     "data": {
      "text/plain": [
       "8523"
      ]
     },
     "execution_count": 62,
     "metadata": {},
     "output_type": "execute_result"
    }
   ],
   "source": [
    "df.count()"
   ]
  },
  {
   "cell_type": "code",
   "execution_count": 63,
   "id": "0b5a8b27",
   "metadata": {},
   "outputs": [
    {
     "name": "stdout",
     "output_type": "stream",
     "text": [
      "+---------------+-----------+----------------+---------------+-----------+--------+-----------------+-------------------------+-----------+--------------------+-----------------+-----------------+----+----------+------------+-------------+\n",
      "|Item_Identifier|Item_Weight|Item_Fat_Content|Item_Visibility|  Item_Type|Item_MRP|Outlet_Identifier|Outlet_Establishment_Year|Outlet_Size|Outlet_Location_Type|      Outlet_Type|Item_Outlet_Sales|flag|      date|oneWeekAfter|oneWeekBefore|\n",
      "+---------------+-----------+----------------+---------------+-----------+--------+-----------------+-------------------------+-----------+--------------------+-----------------+-----------------+----+----------+------------+-------------+\n",
      "|          FDA15|        9.3|         Low Fat|    0.016047301|      Dairy|249.8092|           OUT049|                     1999|     Medium|              Tier 1|Supermarket Type1|         3735.138| new|2025-07-15|  2025-07-22|   2025-07-08|\n",
      "|          DRC01|       5.92|         Regular|    0.019278216|Soft Drinks| 48.2692|           OUT018|                     2009|     Medium|              Tier 3|Supermarket Type2|         443.4228| new|2025-07-15|  2025-07-22|   2025-07-08|\n",
      "|          FDN15|       17.5|         Low Fat|    0.016760075|       Meat| 141.618|           OUT049|                     1999|     Medium|              Tier 1|Supermarket Type1|          2097.27| new|2025-07-15|  2025-07-22|   2025-07-08|\n",
      "|          NCD19|       8.93|         Low Fat|            0.0|  Household| 53.8614|           OUT013|                     1987|       High|              Tier 3|Supermarket Type1|         994.7052| new|2025-07-15|  2025-07-22|   2025-07-08|\n",
      "+---------------+-----------+----------------+---------------+-----------+--------+-----------------+-------------------------+-----------+--------------------+-----------------+-----------------+----+----------+------------+-------------+\n",
      "only showing top 4 rows\n",
      "\n"
     ]
    }
   ],
   "source": [
    "df.dropna('any').show(4)"
   ]
  },
  {
   "cell_type": "code",
   "execution_count": 64,
   "id": "9f2556b0",
   "metadata": {},
   "outputs": [
    {
     "name": "stdout",
     "output_type": "stream",
     "text": [
      "+---------------+-----------+----------------+---------------+-----------+--------+-----------------+-------------------------+-----------+--------------------+-----------------+-----------------+----+----------+------------+-------------+\n",
      "|Item_Identifier|Item_Weight|Item_Fat_Content|Item_Visibility|  Item_Type|Item_MRP|Outlet_Identifier|Outlet_Establishment_Year|Outlet_Size|Outlet_Location_Type|      Outlet_Type|Item_Outlet_Sales|flag|      date|oneWeekAfter|oneWeekBefore|\n",
      "+---------------+-----------+----------------+---------------+-----------+--------+-----------------+-------------------------+-----------+--------------------+-----------------+-----------------+----+----------+------------+-------------+\n",
      "|          FDA15|        9.3|         Low Fat|    0.016047301|      Dairy|249.8092|           OUT049|                     1999|     Medium|              Tier 1|Supermarket Type1|         3735.138| new|2025-07-15|  2025-07-22|   2025-07-08|\n",
      "|          DRC01|       5.92|         Regular|    0.019278216|Soft Drinks| 48.2692|           OUT018|                     2009|     Medium|              Tier 3|Supermarket Type2|         443.4228| new|2025-07-15|  2025-07-22|   2025-07-08|\n",
      "|          FDN15|       17.5|         Low Fat|    0.016760075|       Meat| 141.618|           OUT049|                     1999|     Medium|              Tier 1|Supermarket Type1|          2097.27| new|2025-07-15|  2025-07-22|   2025-07-08|\n",
      "+---------------+-----------+----------------+---------------+-----------+--------+-----------------+-------------------------+-----------+--------------------+-----------------+-----------------+----+----------+------------+-------------+\n",
      "only showing top 3 rows\n",
      "\n"
     ]
    }
   ],
   "source": [
    "df.dropna(subset=['Item_Type']).show(3)"
   ]
  },
  {
   "cell_type": "markdown",
   "id": "12ca4a9c",
   "metadata": {},
   "source": [
    "#### Filling Nulls"
   ]
  },
  {
   "cell_type": "code",
   "execution_count": 65,
   "id": "434f4eff",
   "metadata": {},
   "outputs": [
    {
     "name": "stdout",
     "output_type": "stream",
     "text": [
      "+---------------+-----------+----------------+---------------+--------------------+--------+-----------------+-------------------------+-------------+--------------------+-----------------+-----------------+----+----------+------------+-------------+\n",
      "|Item_Identifier|Item_Weight|Item_Fat_Content|Item_Visibility|           Item_Type|Item_MRP|Outlet_Identifier|Outlet_Establishment_Year|  Outlet_Size|Outlet_Location_Type|      Outlet_Type|Item_Outlet_Sales|flag|      date|oneWeekAfter|oneWeekBefore|\n",
      "+---------------+-----------+----------------+---------------+--------------------+--------+-----------------+-------------------------+-------------+--------------------+-----------------+-----------------+----+----------+------------+-------------+\n",
      "|          FDA15|        9.3|         Low Fat|    0.016047301|               Dairy|249.8092|           OUT049|                     1999|       Medium|              Tier 1|Supermarket Type1|         3735.138| new|2025-07-15|  2025-07-22|   2025-07-08|\n",
      "|          DRC01|       5.92|         Regular|    0.019278216|         Soft Drinks| 48.2692|           OUT018|                     2009|       Medium|              Tier 3|Supermarket Type2|         443.4228| new|2025-07-15|  2025-07-22|   2025-07-08|\n",
      "|          FDN15|       17.5|         Low Fat|    0.016760075|                Meat| 141.618|           OUT049|                     1999|       Medium|              Tier 1|Supermarket Type1|          2097.27| new|2025-07-15|  2025-07-22|   2025-07-08|\n",
      "|          FDX07|       19.2|         Regular|            0.0|Fruits and Vegeta...| 182.095|           OUT010|                     1998|Not Available|              Tier 3|    Grocery Store|           732.38| new|2025-07-15|  2025-07-22|   2025-07-08|\n",
      "|          NCD19|       8.93|         Low Fat|            0.0|           Household| 53.8614|           OUT013|                     1987|         High|              Tier 3|Supermarket Type1|         994.7052| new|2025-07-15|  2025-07-22|   2025-07-08|\n",
      "|          FDP36|     10.395|         Regular|            0.0|        Baking Goods| 51.4008|           OUT018|                     2009|       Medium|              Tier 3|Supermarket Type2|         556.6088| new|2025-07-15|  2025-07-22|   2025-07-08|\n",
      "|          FDO10|      13.65|         Regular|    0.012741089|         Snack Foods| 57.6588|           OUT013|                     1987|         High|              Tier 3|Supermarket Type1|         343.5528| new|2025-07-15|  2025-07-22|   2025-07-08|\n",
      "|          FDP10|       null|         Low Fat|    0.127469857|         Snack Foods|107.7622|           OUT027|                     1985|       Medium|              Tier 3|Supermarket Type3|        4022.7636| new|2025-07-15|  2025-07-22|   2025-07-08|\n",
      "|          FDH17|       16.2|         Regular|    0.016687114|        Frozen Foods| 96.9726|           OUT045|                     2002|Not Available|              Tier 2|Supermarket Type1|        1076.5986| new|2025-07-15|  2025-07-22|   2025-07-08|\n",
      "|          FDU28|       19.2|         Regular|     0.09444959|        Frozen Foods|187.8214|           OUT017|                     2007|Not Available|              Tier 2|Supermarket Type1|         4710.535| new|2025-07-15|  2025-07-22|   2025-07-08|\n",
      "|          FDY07|       11.8|         Low Fat|            0.0|Fruits and Vegeta...| 45.5402|           OUT049|                     1999|       Medium|              Tier 1|Supermarket Type1|        1516.0266| new|2025-07-15|  2025-07-22|   2025-07-08|\n",
      "|          FDA03|       18.5|         Regular|    0.045463773|               Dairy|144.1102|           OUT046|                     1997|        Small|              Tier 1|Supermarket Type1|         2187.153| new|2025-07-15|  2025-07-22|   2025-07-08|\n",
      "|          FDX32|       15.1|         Regular|      0.1000135|Fruits and Vegeta...|145.4786|           OUT049|                     1999|       Medium|              Tier 1|Supermarket Type1|        1589.2646| new|2025-07-15|  2025-07-22|   2025-07-08|\n",
      "|          FDS46|       17.6|         Regular|    0.047257328|         Snack Foods|119.6782|           OUT046|                     1997|        Small|              Tier 1|Supermarket Type1|        2145.2076| new|2025-07-15|  2025-07-22|   2025-07-08|\n",
      "|          FDF32|      16.35|         Low Fat|      0.0680243|Fruits and Vegeta...|196.4426|           OUT013|                     1987|         High|              Tier 3|Supermarket Type1|         1977.426| new|2025-07-15|  2025-07-22|   2025-07-08|\n",
      "|          FDP49|        9.0|         Regular|    0.069088961|           Breakfast| 56.3614|           OUT046|                     1997|        Small|              Tier 1|Supermarket Type1|        1547.3192| new|2025-07-15|  2025-07-22|   2025-07-08|\n",
      "|          NCB42|       11.8|         Low Fat|    0.008596051|  Health and Hygiene|115.3492|           OUT018|                     2009|       Medium|              Tier 3|Supermarket Type2|        1621.8888| new|2025-07-15|  2025-07-22|   2025-07-08|\n",
      "|          FDP49|        9.0|         Regular|    0.069196376|           Breakfast| 54.3614|           OUT049|                     1999|       Medium|              Tier 1|Supermarket Type1|         718.3982| new|2025-07-15|  2025-07-22|   2025-07-08|\n",
      "|          DRI11|       null|         Low Fat|    0.034237682|         Hard Drinks|113.2834|           OUT027|                     1985|       Medium|              Tier 3|Supermarket Type3|         2303.668| new|2025-07-15|  2025-07-22|   2025-07-08|\n",
      "|          FDU02|      13.35|         Low Fat|     0.10249212|               Dairy|230.5352|           OUT035|                     2004|        Small|              Tier 2|Supermarket Type1|        2748.4224| new|2025-07-15|  2025-07-22|   2025-07-08|\n",
      "+---------------+-----------+----------------+---------------+--------------------+--------+-----------------+-------------------------+-------------+--------------------+-----------------+-----------------+----+----------+------------+-------------+\n",
      "only showing top 20 rows\n",
      "\n"
     ]
    }
   ],
   "source": [
    "df.fillna('Not Available').show()"
   ]
  },
  {
   "cell_type": "code",
   "execution_count": 66,
   "id": "c1f6a511",
   "metadata": {},
   "outputs": [
    {
     "name": "stdout",
     "output_type": "stream",
     "text": [
      "+---------------+-----------+----------------+---------------+--------------------+--------+-----------------+-------------------------+--------------+--------------------+-----------------+-----------------+----+----------+------------+-------------+\n",
      "|Item_Identifier|Item_Weight|Item_Fat_Content|Item_Visibility|           Item_Type|Item_MRP|Outlet_Identifier|Outlet_Establishment_Year|   Outlet_Size|Outlet_Location_Type|      Outlet_Type|Item_Outlet_Sales|flag|      date|oneWeekAfter|oneWeekBefore|\n",
      "+---------------+-----------+----------------+---------------+--------------------+--------+-----------------+-------------------------+--------------+--------------------+-----------------+-----------------+----+----------+------------+-------------+\n",
      "|          FDA15|        9.3|         Low Fat|    0.016047301|               Dairy|249.8092|           OUT049|                     1999|        Medium|              Tier 1|Supermarket Type1|         3735.138| new|2025-07-15|  2025-07-22|   2025-07-08|\n",
      "|          DRC01|       5.92|         Regular|    0.019278216|         Soft Drinks| 48.2692|           OUT018|                     2009|        Medium|              Tier 3|Supermarket Type2|         443.4228| new|2025-07-15|  2025-07-22|   2025-07-08|\n",
      "|          FDN15|       17.5|         Low Fat|    0.016760075|                Meat| 141.618|           OUT049|                     1999|        Medium|              Tier 1|Supermarket Type1|          2097.27| new|2025-07-15|  2025-07-22|   2025-07-08|\n",
      "|          FDX07|       19.2|         Regular|            0.0|Fruits and Vegeta...| 182.095|           OUT010|                     1998|Not Avaialable|              Tier 3|    Grocery Store|           732.38| new|2025-07-15|  2025-07-22|   2025-07-08|\n",
      "|          NCD19|       8.93|         Low Fat|            0.0|           Household| 53.8614|           OUT013|                     1987|          High|              Tier 3|Supermarket Type1|         994.7052| new|2025-07-15|  2025-07-22|   2025-07-08|\n",
      "|          FDP36|     10.395|         Regular|            0.0|        Baking Goods| 51.4008|           OUT018|                     2009|        Medium|              Tier 3|Supermarket Type2|         556.6088| new|2025-07-15|  2025-07-22|   2025-07-08|\n",
      "|          FDO10|      13.65|         Regular|    0.012741089|         Snack Foods| 57.6588|           OUT013|                     1987|          High|              Tier 3|Supermarket Type1|         343.5528| new|2025-07-15|  2025-07-22|   2025-07-08|\n",
      "|          FDP10|       null|         Low Fat|    0.127469857|         Snack Foods|107.7622|           OUT027|                     1985|        Medium|              Tier 3|Supermarket Type3|        4022.7636| new|2025-07-15|  2025-07-22|   2025-07-08|\n",
      "|          FDH17|       16.2|         Regular|    0.016687114|        Frozen Foods| 96.9726|           OUT045|                     2002|Not Avaialable|              Tier 2|Supermarket Type1|        1076.5986| new|2025-07-15|  2025-07-22|   2025-07-08|\n",
      "|          FDU28|       19.2|         Regular|     0.09444959|        Frozen Foods|187.8214|           OUT017|                     2007|Not Avaialable|              Tier 2|Supermarket Type1|         4710.535| new|2025-07-15|  2025-07-22|   2025-07-08|\n",
      "|          FDY07|       11.8|         Low Fat|            0.0|Fruits and Vegeta...| 45.5402|           OUT049|                     1999|        Medium|              Tier 1|Supermarket Type1|        1516.0266| new|2025-07-15|  2025-07-22|   2025-07-08|\n",
      "|          FDA03|       18.5|         Regular|    0.045463773|               Dairy|144.1102|           OUT046|                     1997|         Small|              Tier 1|Supermarket Type1|         2187.153| new|2025-07-15|  2025-07-22|   2025-07-08|\n",
      "|          FDX32|       15.1|         Regular|      0.1000135|Fruits and Vegeta...|145.4786|           OUT049|                     1999|        Medium|              Tier 1|Supermarket Type1|        1589.2646| new|2025-07-15|  2025-07-22|   2025-07-08|\n",
      "|          FDS46|       17.6|         Regular|    0.047257328|         Snack Foods|119.6782|           OUT046|                     1997|         Small|              Tier 1|Supermarket Type1|        2145.2076| new|2025-07-15|  2025-07-22|   2025-07-08|\n",
      "|          FDF32|      16.35|         Low Fat|      0.0680243|Fruits and Vegeta...|196.4426|           OUT013|                     1987|          High|              Tier 3|Supermarket Type1|         1977.426| new|2025-07-15|  2025-07-22|   2025-07-08|\n",
      "|          FDP49|        9.0|         Regular|    0.069088961|           Breakfast| 56.3614|           OUT046|                     1997|         Small|              Tier 1|Supermarket Type1|        1547.3192| new|2025-07-15|  2025-07-22|   2025-07-08|\n",
      "|          NCB42|       11.8|         Low Fat|    0.008596051|  Health and Hygiene|115.3492|           OUT018|                     2009|        Medium|              Tier 3|Supermarket Type2|        1621.8888| new|2025-07-15|  2025-07-22|   2025-07-08|\n",
      "|          FDP49|        9.0|         Regular|    0.069196376|           Breakfast| 54.3614|           OUT049|                     1999|        Medium|              Tier 1|Supermarket Type1|         718.3982| new|2025-07-15|  2025-07-22|   2025-07-08|\n",
      "|          DRI11|       null|         Low Fat|    0.034237682|         Hard Drinks|113.2834|           OUT027|                     1985|        Medium|              Tier 3|Supermarket Type3|         2303.668| new|2025-07-15|  2025-07-22|   2025-07-08|\n",
      "|          FDU02|      13.35|         Low Fat|     0.10249212|               Dairy|230.5352|           OUT035|                     2004|         Small|              Tier 2|Supermarket Type1|        2748.4224| new|2025-07-15|  2025-07-22|   2025-07-08|\n",
      "+---------------+-----------+----------------+---------------+--------------------+--------+-----------------+-------------------------+--------------+--------------------+-----------------+-----------------+----+----------+------------+-------------+\n",
      "only showing top 20 rows\n",
      "\n"
     ]
    }
   ],
   "source": [
    "df.fillna('Not Avaialable', subset=['Outlet_Size']).show()"
   ]
  },
  {
   "cell_type": "markdown",
   "id": "0aeecea9",
   "metadata": {},
   "source": [
    "#### Split and Indexing"
   ]
  },
  {
   "cell_type": "markdown",
   "id": "32a95602",
   "metadata": {},
   "source": [
    "##### SPLIT"
   ]
  },
  {
   "cell_type": "code",
   "execution_count": 67,
   "id": "7d8d774c",
   "metadata": {},
   "outputs": [
    {
     "name": "stdout",
     "output_type": "stream",
     "text": [
      "+---------------+-----------+----------------+---------------+--------------------+--------+-----------------+-------------------------+-----------+--------------------+--------------------+-----------------+----+----------+------------+-------------+\n",
      "|Item_Identifier|Item_Weight|Item_Fat_Content|Item_Visibility|           Item_Type|Item_MRP|Outlet_Identifier|Outlet_Establishment_Year|Outlet_Size|Outlet_Location_Type|         Outlet_Type|Item_Outlet_Sales|flag|      date|oneWeekAfter|oneWeekBefore|\n",
      "+---------------+-----------+----------------+---------------+--------------------+--------+-----------------+-------------------------+-----------+--------------------+--------------------+-----------------+----+----------+------------+-------------+\n",
      "|          FDA15|        9.3|         Low Fat|    0.016047301|               Dairy|249.8092|           OUT049|                     1999|     Medium|              Tier 1|[Supermarket, Type1]|         3735.138| new|2025-07-15|  2025-07-22|   2025-07-08|\n",
      "|          DRC01|       5.92|         Regular|    0.019278216|         Soft Drinks| 48.2692|           OUT018|                     2009|     Medium|              Tier 3|[Supermarket, Type2]|         443.4228| new|2025-07-15|  2025-07-22|   2025-07-08|\n",
      "|          FDN15|       17.5|         Low Fat|    0.016760075|                Meat| 141.618|           OUT049|                     1999|     Medium|              Tier 1|[Supermarket, Type1]|          2097.27| new|2025-07-15|  2025-07-22|   2025-07-08|\n",
      "|          FDX07|       19.2|         Regular|            0.0|Fruits and Vegeta...| 182.095|           OUT010|                     1998|       null|              Tier 3|    [Grocery, Store]|           732.38| new|2025-07-15|  2025-07-22|   2025-07-08|\n",
      "|          NCD19|       8.93|         Low Fat|            0.0|           Household| 53.8614|           OUT013|                     1987|       High|              Tier 3|[Supermarket, Type1]|         994.7052| new|2025-07-15|  2025-07-22|   2025-07-08|\n",
      "|          FDP36|     10.395|         Regular|            0.0|        Baking Goods| 51.4008|           OUT018|                     2009|     Medium|              Tier 3|[Supermarket, Type2]|         556.6088| new|2025-07-15|  2025-07-22|   2025-07-08|\n",
      "|          FDO10|      13.65|         Regular|    0.012741089|         Snack Foods| 57.6588|           OUT013|                     1987|       High|              Tier 3|[Supermarket, Type1]|         343.5528| new|2025-07-15|  2025-07-22|   2025-07-08|\n",
      "|          FDP10|       null|         Low Fat|    0.127469857|         Snack Foods|107.7622|           OUT027|                     1985|     Medium|              Tier 3|[Supermarket, Type3]|        4022.7636| new|2025-07-15|  2025-07-22|   2025-07-08|\n",
      "|          FDH17|       16.2|         Regular|    0.016687114|        Frozen Foods| 96.9726|           OUT045|                     2002|       null|              Tier 2|[Supermarket, Type1]|        1076.5986| new|2025-07-15|  2025-07-22|   2025-07-08|\n",
      "|          FDU28|       19.2|         Regular|     0.09444959|        Frozen Foods|187.8214|           OUT017|                     2007|       null|              Tier 2|[Supermarket, Type1]|         4710.535| new|2025-07-15|  2025-07-22|   2025-07-08|\n",
      "+---------------+-----------+----------------+---------------+--------------------+--------+-----------------+-------------------------+-----------+--------------------+--------------------+-----------------+----+----------+------------+-------------+\n",
      "only showing top 10 rows\n",
      "\n"
     ]
    }
   ],
   "source": [
    "df.withColumn('Outlet_Type', split('Outlet_Type', ' ')).show(10)"
   ]
  },
  {
   "cell_type": "markdown",
   "id": "f6c02e06",
   "metadata": {},
   "source": [
    "##### Indexing"
   ]
  },
  {
   "cell_type": "code",
   "execution_count": 68,
   "id": "8c0ecde3",
   "metadata": {},
   "outputs": [
    {
     "name": "stdout",
     "output_type": "stream",
     "text": [
      "+---------------+-----------+----------------+---------------+--------------------+--------+-----------------+-------------------------+-----------+--------------------+-----------+-----------------+----+----------+------------+-------------+\n",
      "|Item_Identifier|Item_Weight|Item_Fat_Content|Item_Visibility|           Item_Type|Item_MRP|Outlet_Identifier|Outlet_Establishment_Year|Outlet_Size|Outlet_Location_Type|Outlet_Type|Item_Outlet_Sales|flag|      date|oneWeekAfter|oneWeekBefore|\n",
      "+---------------+-----------+----------------+---------------+--------------------+--------+-----------------+-------------------------+-----------+--------------------+-----------+-----------------+----+----------+------------+-------------+\n",
      "|          FDA15|        9.3|         Low Fat|    0.016047301|               Dairy|249.8092|           OUT049|                     1999|     Medium|              Tier 1|      Type1|         3735.138| new|2025-07-15|  2025-07-22|   2025-07-08|\n",
      "|          DRC01|       5.92|         Regular|    0.019278216|         Soft Drinks| 48.2692|           OUT018|                     2009|     Medium|              Tier 3|      Type2|         443.4228| new|2025-07-15|  2025-07-22|   2025-07-08|\n",
      "|          FDN15|       17.5|         Low Fat|    0.016760075|                Meat| 141.618|           OUT049|                     1999|     Medium|              Tier 1|      Type1|          2097.27| new|2025-07-15|  2025-07-22|   2025-07-08|\n",
      "|          FDX07|       19.2|         Regular|            0.0|Fruits and Vegeta...| 182.095|           OUT010|                     1998|       null|              Tier 3|      Store|           732.38| new|2025-07-15|  2025-07-22|   2025-07-08|\n",
      "|          NCD19|       8.93|         Low Fat|            0.0|           Household| 53.8614|           OUT013|                     1987|       High|              Tier 3|      Type1|         994.7052| new|2025-07-15|  2025-07-22|   2025-07-08|\n",
      "|          FDP36|     10.395|         Regular|            0.0|        Baking Goods| 51.4008|           OUT018|                     2009|     Medium|              Tier 3|      Type2|         556.6088| new|2025-07-15|  2025-07-22|   2025-07-08|\n",
      "|          FDO10|      13.65|         Regular|    0.012741089|         Snack Foods| 57.6588|           OUT013|                     1987|       High|              Tier 3|      Type1|         343.5528| new|2025-07-15|  2025-07-22|   2025-07-08|\n",
      "|          FDP10|       null|         Low Fat|    0.127469857|         Snack Foods|107.7622|           OUT027|                     1985|     Medium|              Tier 3|      Type3|        4022.7636| new|2025-07-15|  2025-07-22|   2025-07-08|\n",
      "|          FDH17|       16.2|         Regular|    0.016687114|        Frozen Foods| 96.9726|           OUT045|                     2002|       null|              Tier 2|      Type1|        1076.5986| new|2025-07-15|  2025-07-22|   2025-07-08|\n",
      "|          FDU28|       19.2|         Regular|     0.09444959|        Frozen Foods|187.8214|           OUT017|                     2007|       null|              Tier 2|      Type1|         4710.535| new|2025-07-15|  2025-07-22|   2025-07-08|\n",
      "+---------------+-----------+----------------+---------------+--------------------+--------+-----------------+-------------------------+-----------+--------------------+-----------+-----------------+----+----------+------------+-------------+\n",
      "only showing top 10 rows\n",
      "\n"
     ]
    }
   ],
   "source": [
    "df.withColumn('Outlet_Type', split('Outlet_Type', ' ')[1]).show(10)"
   ]
  },
  {
   "cell_type": "markdown",
   "id": "502764fb",
   "metadata": {},
   "source": [
    "#### Explode"
   ]
  },
  {
   "cell_type": "code",
   "execution_count": 69,
   "id": "685a4924",
   "metadata": {},
   "outputs": [],
   "source": [
    "df_exp = df.withColumn('Outlet_Type', split('Outlet_Type', ' '))"
   ]
  },
  {
   "cell_type": "code",
   "execution_count": 70,
   "id": "46077c09",
   "metadata": {},
   "outputs": [
    {
     "name": "stdout",
     "output_type": "stream",
     "text": [
      "+---------------+-----------+----------------+---------------+--------------------+--------+-----------------+-------------------------+-----------+--------------------+--------------------+-----------------+----+----------+------------+-------------+\n",
      "|Item_Identifier|Item_Weight|Item_Fat_Content|Item_Visibility|           Item_Type|Item_MRP|Outlet_Identifier|Outlet_Establishment_Year|Outlet_Size|Outlet_Location_Type|         Outlet_Type|Item_Outlet_Sales|flag|      date|oneWeekAfter|oneWeekBefore|\n",
      "+---------------+-----------+----------------+---------------+--------------------+--------+-----------------+-------------------------+-----------+--------------------+--------------------+-----------------+----+----------+------------+-------------+\n",
      "|          FDA15|        9.3|         Low Fat|    0.016047301|               Dairy|249.8092|           OUT049|                     1999|     Medium|              Tier 1|[Supermarket, Type1]|         3735.138| new|2025-07-15|  2025-07-22|   2025-07-08|\n",
      "|          DRC01|       5.92|         Regular|    0.019278216|         Soft Drinks| 48.2692|           OUT018|                     2009|     Medium|              Tier 3|[Supermarket, Type2]|         443.4228| new|2025-07-15|  2025-07-22|   2025-07-08|\n",
      "|          FDN15|       17.5|         Low Fat|    0.016760075|                Meat| 141.618|           OUT049|                     1999|     Medium|              Tier 1|[Supermarket, Type1]|          2097.27| new|2025-07-15|  2025-07-22|   2025-07-08|\n",
      "|          FDX07|       19.2|         Regular|            0.0|Fruits and Vegeta...| 182.095|           OUT010|                     1998|       null|              Tier 3|    [Grocery, Store]|           732.38| new|2025-07-15|  2025-07-22|   2025-07-08|\n",
      "|          NCD19|       8.93|         Low Fat|            0.0|           Household| 53.8614|           OUT013|                     1987|       High|              Tier 3|[Supermarket, Type1]|         994.7052| new|2025-07-15|  2025-07-22|   2025-07-08|\n",
      "|          FDP36|     10.395|         Regular|            0.0|        Baking Goods| 51.4008|           OUT018|                     2009|     Medium|              Tier 3|[Supermarket, Type2]|         556.6088| new|2025-07-15|  2025-07-22|   2025-07-08|\n",
      "|          FDO10|      13.65|         Regular|    0.012741089|         Snack Foods| 57.6588|           OUT013|                     1987|       High|              Tier 3|[Supermarket, Type1]|         343.5528| new|2025-07-15|  2025-07-22|   2025-07-08|\n",
      "|          FDP10|       null|         Low Fat|    0.127469857|         Snack Foods|107.7622|           OUT027|                     1985|     Medium|              Tier 3|[Supermarket, Type3]|        4022.7636| new|2025-07-15|  2025-07-22|   2025-07-08|\n",
      "|          FDH17|       16.2|         Regular|    0.016687114|        Frozen Foods| 96.9726|           OUT045|                     2002|       null|              Tier 2|[Supermarket, Type1]|        1076.5986| new|2025-07-15|  2025-07-22|   2025-07-08|\n",
      "|          FDU28|       19.2|         Regular|     0.09444959|        Frozen Foods|187.8214|           OUT017|                     2007|       null|              Tier 2|[Supermarket, Type1]|         4710.535| new|2025-07-15|  2025-07-22|   2025-07-08|\n",
      "+---------------+-----------+----------------+---------------+--------------------+--------+-----------------+-------------------------+-----------+--------------------+--------------------+-----------------+----+----------+------------+-------------+\n",
      "only showing top 10 rows\n",
      "\n"
     ]
    }
   ],
   "source": [
    "df_exp.show(10)"
   ]
  },
  {
   "cell_type": "code",
   "execution_count": 71,
   "id": "f6f498ad",
   "metadata": {},
   "outputs": [
    {
     "name": "stdout",
     "output_type": "stream",
     "text": [
      "+---------------+-----------+----------------+---------------+--------------------+--------+-----------------+-------------------------+-----------+--------------------+-----------+-----------------+----+----------+------------+-------------+\n",
      "|Item_Identifier|Item_Weight|Item_Fat_Content|Item_Visibility|           Item_Type|Item_MRP|Outlet_Identifier|Outlet_Establishment_Year|Outlet_Size|Outlet_Location_Type|Outlet_Type|Item_Outlet_Sales|flag|      date|oneWeekAfter|oneWeekBefore|\n",
      "+---------------+-----------+----------------+---------------+--------------------+--------+-----------------+-------------------------+-----------+--------------------+-----------+-----------------+----+----------+------------+-------------+\n",
      "|          FDA15|        9.3|         Low Fat|    0.016047301|               Dairy|249.8092|           OUT049|                     1999|     Medium|              Tier 1|Supermarket|         3735.138| new|2025-07-15|  2025-07-22|   2025-07-08|\n",
      "|          FDA15|        9.3|         Low Fat|    0.016047301|               Dairy|249.8092|           OUT049|                     1999|     Medium|              Tier 1|      Type1|         3735.138| new|2025-07-15|  2025-07-22|   2025-07-08|\n",
      "|          DRC01|       5.92|         Regular|    0.019278216|         Soft Drinks| 48.2692|           OUT018|                     2009|     Medium|              Tier 3|Supermarket|         443.4228| new|2025-07-15|  2025-07-22|   2025-07-08|\n",
      "|          DRC01|       5.92|         Regular|    0.019278216|         Soft Drinks| 48.2692|           OUT018|                     2009|     Medium|              Tier 3|      Type2|         443.4228| new|2025-07-15|  2025-07-22|   2025-07-08|\n",
      "|          FDN15|       17.5|         Low Fat|    0.016760075|                Meat| 141.618|           OUT049|                     1999|     Medium|              Tier 1|Supermarket|          2097.27| new|2025-07-15|  2025-07-22|   2025-07-08|\n",
      "|          FDN15|       17.5|         Low Fat|    0.016760075|                Meat| 141.618|           OUT049|                     1999|     Medium|              Tier 1|      Type1|          2097.27| new|2025-07-15|  2025-07-22|   2025-07-08|\n",
      "|          FDX07|       19.2|         Regular|            0.0|Fruits and Vegeta...| 182.095|           OUT010|                     1998|       null|              Tier 3|    Grocery|           732.38| new|2025-07-15|  2025-07-22|   2025-07-08|\n",
      "|          FDX07|       19.2|         Regular|            0.0|Fruits and Vegeta...| 182.095|           OUT010|                     1998|       null|              Tier 3|      Store|           732.38| new|2025-07-15|  2025-07-22|   2025-07-08|\n",
      "|          NCD19|       8.93|         Low Fat|            0.0|           Household| 53.8614|           OUT013|                     1987|       High|              Tier 3|Supermarket|         994.7052| new|2025-07-15|  2025-07-22|   2025-07-08|\n",
      "|          NCD19|       8.93|         Low Fat|            0.0|           Household| 53.8614|           OUT013|                     1987|       High|              Tier 3|      Type1|         994.7052| new|2025-07-15|  2025-07-22|   2025-07-08|\n",
      "+---------------+-----------+----------------+---------------+--------------------+--------+-----------------+-------------------------+-----------+--------------------+-----------+-----------------+----+----------+------------+-------------+\n",
      "only showing top 10 rows\n",
      "\n"
     ]
    }
   ],
   "source": [
    "df_exp.withColumn('Outlet_Type', explode('Outlet_Type')).show(10)"
   ]
  },
  {
   "cell_type": "markdown",
   "id": "b7abb75e",
   "metadata": {},
   "source": [
    "#### ARRAY_CONTAINS"
   ]
  },
  {
   "cell_type": "code",
   "execution_count": 72,
   "id": "3064b720",
   "metadata": {},
   "outputs": [
    {
     "name": "stdout",
     "output_type": "stream",
     "text": [
      "+---------------+-----------+----------------+---------------+--------------------+--------+-----------------+-------------------------+-----------+--------------------+--------------------+-----------------+----+----------+------------+-------------+\n",
      "|Item_Identifier|Item_Weight|Item_Fat_Content|Item_Visibility|           Item_Type|Item_MRP|Outlet_Identifier|Outlet_Establishment_Year|Outlet_Size|Outlet_Location_Type|         Outlet_Type|Item_Outlet_Sales|flag|      date|oneWeekAfter|oneWeekBefore|\n",
      "+---------------+-----------+----------------+---------------+--------------------+--------+-----------------+-------------------------+-----------+--------------------+--------------------+-----------------+----+----------+------------+-------------+\n",
      "|          FDA15|        9.3|         Low Fat|    0.016047301|               Dairy|249.8092|           OUT049|                     1999|     Medium|              Tier 1|[Supermarket, Type1]|         3735.138| new|2025-07-15|  2025-07-22|   2025-07-08|\n",
      "|          DRC01|       5.92|         Regular|    0.019278216|         Soft Drinks| 48.2692|           OUT018|                     2009|     Medium|              Tier 3|[Supermarket, Type2]|         443.4228| new|2025-07-15|  2025-07-22|   2025-07-08|\n",
      "|          FDN15|       17.5|         Low Fat|    0.016760075|                Meat| 141.618|           OUT049|                     1999|     Medium|              Tier 1|[Supermarket, Type1]|          2097.27| new|2025-07-15|  2025-07-22|   2025-07-08|\n",
      "|          FDX07|       19.2|         Regular|            0.0|Fruits and Vegeta...| 182.095|           OUT010|                     1998|       null|              Tier 3|    [Grocery, Store]|           732.38| new|2025-07-15|  2025-07-22|   2025-07-08|\n",
      "|          NCD19|       8.93|         Low Fat|            0.0|           Household| 53.8614|           OUT013|                     1987|       High|              Tier 3|[Supermarket, Type1]|         994.7052| new|2025-07-15|  2025-07-22|   2025-07-08|\n",
      "|          FDP36|     10.395|         Regular|            0.0|        Baking Goods| 51.4008|           OUT018|                     2009|     Medium|              Tier 3|[Supermarket, Type2]|         556.6088| new|2025-07-15|  2025-07-22|   2025-07-08|\n",
      "|          FDO10|      13.65|         Regular|    0.012741089|         Snack Foods| 57.6588|           OUT013|                     1987|       High|              Tier 3|[Supermarket, Type1]|         343.5528| new|2025-07-15|  2025-07-22|   2025-07-08|\n",
      "|          FDP10|       null|         Low Fat|    0.127469857|         Snack Foods|107.7622|           OUT027|                     1985|     Medium|              Tier 3|[Supermarket, Type3]|        4022.7636| new|2025-07-15|  2025-07-22|   2025-07-08|\n",
      "|          FDH17|       16.2|         Regular|    0.016687114|        Frozen Foods| 96.9726|           OUT045|                     2002|       null|              Tier 2|[Supermarket, Type1]|        1076.5986| new|2025-07-15|  2025-07-22|   2025-07-08|\n",
      "|          FDU28|       19.2|         Regular|     0.09444959|        Frozen Foods|187.8214|           OUT017|                     2007|       null|              Tier 2|[Supermarket, Type1]|         4710.535| new|2025-07-15|  2025-07-22|   2025-07-08|\n",
      "+---------------+-----------+----------------+---------------+--------------------+--------+-----------------+-------------------------+-----------+--------------------+--------------------+-----------------+----+----------+------------+-------------+\n",
      "only showing top 10 rows\n",
      "\n"
     ]
    }
   ],
   "source": [
    "df_exp.show(10)"
   ]
  },
  {
   "cell_type": "code",
   "execution_count": 73,
   "id": "335394fa",
   "metadata": {},
   "outputs": [
    {
     "name": "stdout",
     "output_type": "stream",
     "text": [
      "+---------------+-----------+----------------+---------------+--------------------+--------+-----------------+-------------------------+-----------+--------------------+--------------------+-----------------+----+----------+------------+-------------+----------+\n",
      "|Item_Identifier|Item_Weight|Item_Fat_Content|Item_Visibility|           Item_Type|Item_MRP|Outlet_Identifier|Outlet_Establishment_Year|Outlet_Size|Outlet_Location_Type|         Outlet_Type|Item_Outlet_Sales|flag|      date|oneWeekAfter|oneWeekBefore|Type1_Flag|\n",
      "+---------------+-----------+----------------+---------------+--------------------+--------+-----------------+-------------------------+-----------+--------------------+--------------------+-----------------+----+----------+------------+-------------+----------+\n",
      "|          FDA15|        9.3|         Low Fat|    0.016047301|               Dairy|249.8092|           OUT049|                     1999|     Medium|              Tier 1|[Supermarket, Type1]|         3735.138| new|2025-07-15|  2025-07-22|   2025-07-08|      true|\n",
      "|          DRC01|       5.92|         Regular|    0.019278216|         Soft Drinks| 48.2692|           OUT018|                     2009|     Medium|              Tier 3|[Supermarket, Type2]|         443.4228| new|2025-07-15|  2025-07-22|   2025-07-08|     false|\n",
      "|          FDN15|       17.5|         Low Fat|    0.016760075|                Meat| 141.618|           OUT049|                     1999|     Medium|              Tier 1|[Supermarket, Type1]|          2097.27| new|2025-07-15|  2025-07-22|   2025-07-08|      true|\n",
      "|          FDX07|       19.2|         Regular|            0.0|Fruits and Vegeta...| 182.095|           OUT010|                     1998|       null|              Tier 3|    [Grocery, Store]|           732.38| new|2025-07-15|  2025-07-22|   2025-07-08|     false|\n",
      "|          NCD19|       8.93|         Low Fat|            0.0|           Household| 53.8614|           OUT013|                     1987|       High|              Tier 3|[Supermarket, Type1]|         994.7052| new|2025-07-15|  2025-07-22|   2025-07-08|      true|\n",
      "|          FDP36|     10.395|         Regular|            0.0|        Baking Goods| 51.4008|           OUT018|                     2009|     Medium|              Tier 3|[Supermarket, Type2]|         556.6088| new|2025-07-15|  2025-07-22|   2025-07-08|     false|\n",
      "|          FDO10|      13.65|         Regular|    0.012741089|         Snack Foods| 57.6588|           OUT013|                     1987|       High|              Tier 3|[Supermarket, Type1]|         343.5528| new|2025-07-15|  2025-07-22|   2025-07-08|      true|\n",
      "|          FDP10|       null|         Low Fat|    0.127469857|         Snack Foods|107.7622|           OUT027|                     1985|     Medium|              Tier 3|[Supermarket, Type3]|        4022.7636| new|2025-07-15|  2025-07-22|   2025-07-08|     false|\n",
      "|          FDH17|       16.2|         Regular|    0.016687114|        Frozen Foods| 96.9726|           OUT045|                     2002|       null|              Tier 2|[Supermarket, Type1]|        1076.5986| new|2025-07-15|  2025-07-22|   2025-07-08|      true|\n",
      "|          FDU28|       19.2|         Regular|     0.09444959|        Frozen Foods|187.8214|           OUT017|                     2007|       null|              Tier 2|[Supermarket, Type1]|         4710.535| new|2025-07-15|  2025-07-22|   2025-07-08|      true|\n",
      "+---------------+-----------+----------------+---------------+--------------------+--------+-----------------+-------------------------+-----------+--------------------+--------------------+-----------------+----+----------+------------+-------------+----------+\n",
      "only showing top 10 rows\n",
      "\n"
     ]
    }
   ],
   "source": [
    "df_exp.withColumn('Type1_Flag', array_contains('Outlet_Type', 'Type1')).show(10)"
   ]
  },
  {
   "cell_type": "markdown",
   "id": "655efdcc",
   "metadata": {},
   "source": [
    "#### GroupBy"
   ]
  },
  {
   "cell_type": "code",
   "execution_count": 74,
   "id": "6b58dbef",
   "metadata": {},
   "outputs": [
    {
     "name": "stdout",
     "output_type": "stream",
     "text": [
      "+---------------+-----------+----------------+---------------+--------------------+--------+-----------------+-------------------------+-----------+--------------------+-----------------+-----------------+----+----------+------------+-------------+\n",
      "|Item_Identifier|Item_Weight|Item_Fat_Content|Item_Visibility|           Item_Type|Item_MRP|Outlet_Identifier|Outlet_Establishment_Year|Outlet_Size|Outlet_Location_Type|      Outlet_Type|Item_Outlet_Sales|flag|      date|oneWeekAfter|oneWeekBefore|\n",
      "+---------------+-----------+----------------+---------------+--------------------+--------+-----------------+-------------------------+-----------+--------------------+-----------------+-----------------+----+----------+------------+-------------+\n",
      "|          FDA15|        9.3|         Low Fat|    0.016047301|               Dairy|249.8092|           OUT049|                     1999|     Medium|              Tier 1|Supermarket Type1|         3735.138| new|2025-07-15|  2025-07-22|   2025-07-08|\n",
      "|          DRC01|       5.92|         Regular|    0.019278216|         Soft Drinks| 48.2692|           OUT018|                     2009|     Medium|              Tier 3|Supermarket Type2|         443.4228| new|2025-07-15|  2025-07-22|   2025-07-08|\n",
      "|          FDN15|       17.5|         Low Fat|    0.016760075|                Meat| 141.618|           OUT049|                     1999|     Medium|              Tier 1|Supermarket Type1|          2097.27| new|2025-07-15|  2025-07-22|   2025-07-08|\n",
      "|          FDX07|       19.2|         Regular|            0.0|Fruits and Vegeta...| 182.095|           OUT010|                     1998|       null|              Tier 3|    Grocery Store|           732.38| new|2025-07-15|  2025-07-22|   2025-07-08|\n",
      "|          NCD19|       8.93|         Low Fat|            0.0|           Household| 53.8614|           OUT013|                     1987|       High|              Tier 3|Supermarket Type1|         994.7052| new|2025-07-15|  2025-07-22|   2025-07-08|\n",
      "|          FDP36|     10.395|         Regular|            0.0|        Baking Goods| 51.4008|           OUT018|                     2009|     Medium|              Tier 3|Supermarket Type2|         556.6088| new|2025-07-15|  2025-07-22|   2025-07-08|\n",
      "|          FDO10|      13.65|         Regular|    0.012741089|         Snack Foods| 57.6588|           OUT013|                     1987|       High|              Tier 3|Supermarket Type1|         343.5528| new|2025-07-15|  2025-07-22|   2025-07-08|\n",
      "|          FDP10|       null|         Low Fat|    0.127469857|         Snack Foods|107.7622|           OUT027|                     1985|     Medium|              Tier 3|Supermarket Type3|        4022.7636| new|2025-07-15|  2025-07-22|   2025-07-08|\n",
      "|          FDH17|       16.2|         Regular|    0.016687114|        Frozen Foods| 96.9726|           OUT045|                     2002|       null|              Tier 2|Supermarket Type1|        1076.5986| new|2025-07-15|  2025-07-22|   2025-07-08|\n",
      "|          FDU28|       19.2|         Regular|     0.09444959|        Frozen Foods|187.8214|           OUT017|                     2007|       null|              Tier 2|Supermarket Type1|         4710.535| new|2025-07-15|  2025-07-22|   2025-07-08|\n",
      "+---------------+-----------+----------------+---------------+--------------------+--------+-----------------+-------------------------+-----------+--------------------+-----------------+-----------------+----+----------+------------+-------------+\n",
      "only showing top 10 rows\n",
      "\n"
     ]
    }
   ],
   "source": [
    "df.show(10)"
   ]
  },
  {
   "cell_type": "code",
   "execution_count": 75,
   "id": "885e2445",
   "metadata": {},
   "outputs": [
    {
     "name": "stdout",
     "output_type": "stream",
     "text": [
      "+--------------------+------------------+\n",
      "|           Item_Type|     sum(Item_MRP)|\n",
      "+--------------------+------------------+\n",
      "|       Starchy Foods|21880.027399999995|\n",
      "|        Baking Goods| 81894.73640000001|\n",
      "|              Breads| 35379.11979999999|\n",
      "|Fruits and Vegeta...|178124.08099999998|\n",
      "|                Meat|59449.863799999956|\n",
      "|         Hard Drinks|29334.676599999995|\n",
      "|         Soft Drinks|58514.164999999964|\n",
      "|           Household|135976.52539999998|\n",
      "|           Breakfast|        15596.6966|\n",
      "|               Dairy|101276.45959999996|\n",
      "+--------------------+------------------+\n",
      "only showing top 10 rows\n",
      "\n"
     ]
    }
   ],
   "source": [
    "df.groupBy('Item_Type').sum('Item_MRP').show(10)"
   ]
  },
  {
   "cell_type": "code",
   "execution_count": 76,
   "id": "7385d3d4",
   "metadata": {},
   "outputs": [
    {
     "name": "stdout",
     "output_type": "stream",
     "text": [
      "+--------------------+------------------+\n",
      "|           Item_Type|       Total Price|\n",
      "+--------------------+------------------+\n",
      "|       Starchy Foods|21880.027399999995|\n",
      "|        Baking Goods| 81894.73640000001|\n",
      "|              Breads| 35379.11979999999|\n",
      "|Fruits and Vegeta...|178124.08099999998|\n",
      "|                Meat|59449.863799999956|\n",
      "|         Hard Drinks|29334.676599999995|\n",
      "|         Soft Drinks|58514.164999999964|\n",
      "|           Household|135976.52539999998|\n",
      "|           Breakfast|        15596.6966|\n",
      "|               Dairy|101276.45959999996|\n",
      "+--------------------+------------------+\n",
      "only showing top 10 rows\n",
      "\n"
     ]
    }
   ],
   "source": [
    "df.groupBy('Item_Type').agg(sum('Item_MRP').alias('Total Price')).show(10)"
   ]
  },
  {
   "cell_type": "markdown",
   "id": "a4637a18",
   "metadata": {},
   "source": [
    "##### Scenario - 2"
   ]
  },
  {
   "cell_type": "markdown",
   "id": "5aa267e9",
   "metadata": {},
   "source": [
    "🔹 Difference between groupBy().sum() and groupBy().agg() in PySpark\n",
    "groupBy().sum() is a shortcut used when you only want to calculate the sum of one or more columns.\n",
    "\n",
    "groupBy().agg() is more flexible — it allows you to apply multiple aggregate functions like sum, avg, max, min, etc., and also lets you rename the resulting columns using .alias()."
   ]
  },
  {
   "cell_type": "code",
   "execution_count": 77,
   "id": "677c23bc",
   "metadata": {},
   "outputs": [
    {
     "name": "stdout",
     "output_type": "stream",
     "text": [
      "+--------------------+------------------+\n",
      "|           Item_Type|     sum(Item_MRP)|\n",
      "+--------------------+------------------+\n",
      "|       Starchy Foods|21880.027399999995|\n",
      "|        Baking Goods| 81894.73640000001|\n",
      "|              Breads| 35379.11979999999|\n",
      "|Fruits and Vegeta...|178124.08099999998|\n",
      "|                Meat|59449.863799999956|\n",
      "+--------------------+------------------+\n",
      "only showing top 5 rows\n",
      "\n",
      "+--------------------+------------------+------------------+\n",
      "|           Item_Type|         Total_MRP|       Average_MRP|\n",
      "+--------------------+------------------+------------------+\n",
      "|       Starchy Foods|21880.027399999995|147.83802297297294|\n",
      "|        Baking Goods| 81894.73640000001|126.38076604938273|\n",
      "|              Breads| 35379.11979999999| 140.9526685258964|\n",
      "|Fruits and Vegeta...|178124.08099999998|144.58123457792206|\n",
      "|                Meat|59449.863799999956|139.88203247058814|\n",
      "+--------------------+------------------+------------------+\n",
      "only showing top 5 rows\n",
      "\n"
     ]
    }
   ],
   "source": [
    "from pyspark.sql.functions import sum, avg\n",
    "\n",
    "# Using groupBy().sum()\n",
    "df.groupBy('Item_Type').sum('Item_MRP').show(5)\n",
    "\n",
    "\n",
    "# Using groupBy().agg()\n",
    "df.groupBy('Item_Type').agg(\n",
    "    sum('Item_MRP').alias('Total_MRP'),\n",
    "    avg('Item_MRP').alias('Average_MRP')\n",
    ").show(5)\n"
   ]
  },
  {
   "cell_type": "markdown",
   "id": "8a20b5d0",
   "metadata": {},
   "source": [
    "##### Scenario - 3"
   ]
  },
  {
   "cell_type": "code",
   "execution_count": 78,
   "id": "654aefff",
   "metadata": {},
   "outputs": [
    {
     "name": "stdout",
     "output_type": "stream",
     "text": [
      "+--------------------+-----------+------------------+\n",
      "|           Item_Type|Outlet_Size|     sum(Item_MRP)|\n",
      "+--------------------+-----------+------------------+\n",
      "|       Starchy Foods|     Medium| 7124.136199999997|\n",
      "|Fruits and Vegeta...|     Medium|59047.217200000014|\n",
      "|       Starchy Foods|       null|         6040.6402|\n",
      "|              Breads|       null|        10011.5004|\n",
      "|        Baking Goods|       null|23433.838799999994|\n",
      "+--------------------+-----------+------------------+\n",
      "only showing top 5 rows\n",
      "\n"
     ]
    }
   ],
   "source": [
    "df.groupBy('Item_Type', 'Outlet_Size').sum('Item_MRP').show(5)"
   ]
  },
  {
   "cell_type": "code",
   "execution_count": 79,
   "id": "7d841305",
   "metadata": {},
   "outputs": [
    {
     "name": "stdout",
     "output_type": "stream",
     "text": [
      "+--------------------+-----------+------------------+------------------+\n",
      "|           Item_Type|Outlet_Size|       Total_Price|     Average_Price|\n",
      "+--------------------+-----------+------------------+------------------+\n",
      "|       Starchy Foods|     Medium| 7124.136199999997| 148.4195041666666|\n",
      "|Fruits and Vegeta...|     Medium|59047.217200000014| 142.9714702179177|\n",
      "|       Starchy Foods|       null|         6040.6402|140.48000465116277|\n",
      "|              Breads|       null|        10011.5004|139.04861666666667|\n",
      "|        Baking Goods|       null|23433.838799999994|126.66939891891889|\n",
      "+--------------------+-----------+------------------+------------------+\n",
      "only showing top 5 rows\n",
      "\n"
     ]
    }
   ],
   "source": [
    "df.groupBy('Item_Type', 'Outlet_Size').agg(sum('Item_MRP').alias('Total_Price'), avg('Item_MRP').alias('Average_Price')).show(5)"
   ]
  },
  {
   "cell_type": "markdown",
   "id": "986f829a",
   "metadata": {},
   "source": [
    "#### Collect_list"
   ]
  },
  {
   "cell_type": "code",
   "execution_count": 80,
   "id": "b99de37e",
   "metadata": {},
   "outputs": [
    {
     "name": "stdout",
     "output_type": "stream",
     "text": [
      "+-----+-----+\n",
      "| user| book|\n",
      "+-----+-----+\n",
      "|user1|book1|\n",
      "|user1|book2|\n",
      "|user2|book2|\n",
      "|user2|book4|\n",
      "|user3|book1|\n",
      "+-----+-----+\n",
      "\n"
     ]
    }
   ],
   "source": [
    "data = [\n",
    "    ('user1', 'book1'),\n",
    "    ('user1', 'book2'),\n",
    "    ('user2', 'book2'),\n",
    "    ('user2', 'book4'),\n",
    "    ('user3', 'book1')\n",
    "]\n",
    "\n",
    "schema = 'user string, book string'\n",
    "\n",
    "df_book = spark.createDataFrame(data, schema)\n",
    "\n",
    "df_book.show()"
   ]
  },
  {
   "cell_type": "code",
   "execution_count": 81,
   "id": "56534211",
   "metadata": {},
   "outputs": [
    {
     "name": "stdout",
     "output_type": "stream",
     "text": [
      "+-----+------------------+\n",
      "| user|collect_list(book)|\n",
      "+-----+------------------+\n",
      "|user1|    [book1, book2]|\n",
      "|user2|    [book2, book4]|\n",
      "|user3|           [book1]|\n",
      "+-----+------------------+\n",
      "\n"
     ]
    }
   ],
   "source": [
    "df_book.groupBy('user').agg(collect_list('book')).show()"
   ]
  },
  {
   "cell_type": "markdown",
   "id": "925655fe",
   "metadata": {},
   "source": [
    "#### PIVOT"
   ]
  },
  {
   "cell_type": "code",
   "execution_count": 82,
   "id": "75a1ef4d",
   "metadata": {},
   "outputs": [
    {
     "name": "stdout",
     "output_type": "stream",
     "text": [
      "+-------------+------------------+------------------+------------------+------------------+\n",
      "|    Item_Type|              null|              High|            Medium|             Small|\n",
      "+-------------+------------------+------------------+------------------+------------------+\n",
      "|Starchy Foods|140.48000465116277|158.15707368421053| 148.4195041666666| 150.2701736842105|\n",
      "|       Breads|139.04861666666667|         133.75896| 140.8610385542169| 145.5236507042254|\n",
      "| Baking Goods|126.66939891891889|129.20204383561642|126.17856847290639|125.21336363636368|\n",
      "+-------------+------------------+------------------+------------------+------------------+\n",
      "only showing top 3 rows\n",
      "\n"
     ]
    }
   ],
   "source": [
    "df.groupBy('Item_Type').pivot('Outlet_Size').agg(avg('Item_MRP')).show(3)"
   ]
  },
  {
   "cell_type": "markdown",
   "id": "2b0b9927",
   "metadata": {},
   "source": [
    "#### WHEN-OTHERWISE"
   ]
  },
  {
   "cell_type": "markdown",
   "id": "291f9e58",
   "metadata": {},
   "source": [
    "##### Scenario - 1"
   ]
  },
  {
   "cell_type": "code",
   "execution_count": 83,
   "id": "4a9c7707",
   "metadata": {},
   "outputs": [
    {
     "name": "stdout",
     "output_type": "stream",
     "text": [
      "+---------------+-----------+----------------+---------------+--------------------+--------+-----------------+-------------------------+-----------+--------------------+-----------------+-----------------+----+----------+------------+-------------+--------+\n",
      "|Item_Identifier|Item_Weight|Item_Fat_Content|Item_Visibility|           Item_Type|Item_MRP|Outlet_Identifier|Outlet_Establishment_Year|Outlet_Size|Outlet_Location_Type|      Outlet_Type|Item_Outlet_Sales|flag|      date|oneWeekAfter|oneWeekBefore|veg_flag|\n",
      "+---------------+-----------+----------------+---------------+--------------------+--------+-----------------+-------------------------+-----------+--------------------+-----------------+-----------------+----+----------+------------+-------------+--------+\n",
      "|          FDA15|        9.3|         Low Fat|    0.016047301|               Dairy|249.8092|           OUT049|                     1999|     Medium|              Tier 1|Supermarket Type1|         3735.138| new|2025-07-15|  2025-07-22|   2025-07-08|     Veg|\n",
      "|          DRC01|       5.92|         Regular|    0.019278216|         Soft Drinks| 48.2692|           OUT018|                     2009|     Medium|              Tier 3|Supermarket Type2|         443.4228| new|2025-07-15|  2025-07-22|   2025-07-08|     Veg|\n",
      "|          FDN15|       17.5|         Low Fat|    0.016760075|                Meat| 141.618|           OUT049|                     1999|     Medium|              Tier 1|Supermarket Type1|          2097.27| new|2025-07-15|  2025-07-22|   2025-07-08| Non-Veg|\n",
      "|          FDX07|       19.2|         Regular|            0.0|Fruits and Vegeta...| 182.095|           OUT010|                     1998|       null|              Tier 3|    Grocery Store|           732.38| new|2025-07-15|  2025-07-22|   2025-07-08|     Veg|\n",
      "|          NCD19|       8.93|         Low Fat|            0.0|           Household| 53.8614|           OUT013|                     1987|       High|              Tier 3|Supermarket Type1|         994.7052| new|2025-07-15|  2025-07-22|   2025-07-08|     Veg|\n",
      "+---------------+-----------+----------------+---------------+--------------------+--------+-----------------+-------------------------+-----------+--------------------+-----------------+-----------------+----+----------+------------+-------------+--------+\n",
      "only showing top 5 rows\n",
      "\n"
     ]
    }
   ],
   "source": [
    "df = df.withColumn('veg_flag', when(col('Item_Type') == 'Meat', 'Non-Veg').otherwise('Veg'))\n",
    "df.show(5)"
   ]
  },
  {
   "cell_type": "code",
   "execution_count": 84,
   "id": "b257b7cf",
   "metadata": {},
   "outputs": [
    {
     "name": "stdout",
     "output_type": "stream",
     "text": [
      "+---------------+-----------+----------------+---------------+--------------------+--------+-----------------+-------------------------+-----------+--------------------+-----------------+-----------------+----+----------+------------+-------------+--------+--------------+\n",
      "|Item_Identifier|Item_Weight|Item_Fat_Content|Item_Visibility|           Item_Type|Item_MRP|Outlet_Identifier|Outlet_Establishment_Year|Outlet_Size|Outlet_Location_Type|      Outlet_Type|Item_Outlet_Sales|flag|      date|oneWeekAfter|oneWeekBefore|veg_flag|  veg_exp_flag|\n",
      "+---------------+-----------+----------------+---------------+--------------------+--------+-----------------+-------------------------+-----------+--------------------+-----------------+-----------------+----+----------+------------+-------------+--------+--------------+\n",
      "|          FDA15|        9.3|         Low Fat|    0.016047301|               Dairy|249.8092|           OUT049|                     1999|     Medium|              Tier 1|Supermarket Type1|         3735.138| new|2025-07-15|  2025-07-22|   2025-07-08|     Veg|       Non_Veg|\n",
      "|          DRC01|       5.92|         Regular|    0.019278216|         Soft Drinks| 48.2692|           OUT018|                     2009|     Medium|              Tier 3|Supermarket Type2|         443.4228| new|2025-07-15|  2025-07-22|   2025-07-08|     Veg|Veg_Inxpensive|\n",
      "|          FDN15|       17.5|         Low Fat|    0.016760075|                Meat| 141.618|           OUT049|                     1999|     Medium|              Tier 1|Supermarket Type1|          2097.27| new|2025-07-15|  2025-07-22|   2025-07-08| Non-Veg|       Non_Veg|\n",
      "|          FDX07|       19.2|         Regular|            0.0|Fruits and Vegeta...| 182.095|           OUT010|                     1998|       null|              Tier 3|    Grocery Store|           732.38| new|2025-07-15|  2025-07-22|   2025-07-08|     Veg|       Non_Veg|\n",
      "|          NCD19|       8.93|         Low Fat|            0.0|           Household| 53.8614|           OUT013|                     1987|       High|              Tier 3|Supermarket Type1|         994.7052| new|2025-07-15|  2025-07-22|   2025-07-08|     Veg|Veg_Inxpensive|\n",
      "|          FDP36|     10.395|         Regular|            0.0|        Baking Goods| 51.4008|           OUT018|                     2009|     Medium|              Tier 3|Supermarket Type2|         556.6088| new|2025-07-15|  2025-07-22|   2025-07-08|     Veg|Veg_Inxpensive|\n",
      "|          FDO10|      13.65|         Regular|    0.012741089|         Snack Foods| 57.6588|           OUT013|                     1987|       High|              Tier 3|Supermarket Type1|         343.5528| new|2025-07-15|  2025-07-22|   2025-07-08|     Veg|Veg_Inxpensive|\n",
      "|          FDP10|       null|         Low Fat|    0.127469857|         Snack Foods|107.7622|           OUT027|                     1985|     Medium|              Tier 3|Supermarket Type3|        4022.7636| new|2025-07-15|  2025-07-22|   2025-07-08|     Veg|       Non_Veg|\n",
      "|          FDH17|       16.2|         Regular|    0.016687114|        Frozen Foods| 96.9726|           OUT045|                     2002|       null|              Tier 2|Supermarket Type1|        1076.5986| new|2025-07-15|  2025-07-22|   2025-07-08|     Veg|Veg_Inxpensive|\n",
      "|          FDU28|       19.2|         Regular|     0.09444959|        Frozen Foods|187.8214|           OUT017|                     2007|       null|              Tier 2|Supermarket Type1|         4710.535| new|2025-07-15|  2025-07-22|   2025-07-08|     Veg|       Non_Veg|\n",
      "|          FDY07|       11.8|         Low Fat|            0.0|Fruits and Vegeta...| 45.5402|           OUT049|                     1999|     Medium|              Tier 1|Supermarket Type1|        1516.0266| new|2025-07-15|  2025-07-22|   2025-07-08|     Veg|Veg_Inxpensive|\n",
      "|          FDA03|       18.5|         Regular|    0.045463773|               Dairy|144.1102|           OUT046|                     1997|      Small|              Tier 1|Supermarket Type1|         2187.153| new|2025-07-15|  2025-07-22|   2025-07-08|     Veg|       Non_Veg|\n",
      "|          FDX32|       15.1|         Regular|      0.1000135|Fruits and Vegeta...|145.4786|           OUT049|                     1999|     Medium|              Tier 1|Supermarket Type1|        1589.2646| new|2025-07-15|  2025-07-22|   2025-07-08|     Veg|       Non_Veg|\n",
      "|          FDS46|       17.6|         Regular|    0.047257328|         Snack Foods|119.6782|           OUT046|                     1997|      Small|              Tier 1|Supermarket Type1|        2145.2076| new|2025-07-15|  2025-07-22|   2025-07-08|     Veg|       Non_Veg|\n",
      "|          FDF32|      16.35|         Low Fat|      0.0680243|Fruits and Vegeta...|196.4426|           OUT013|                     1987|       High|              Tier 3|Supermarket Type1|         1977.426| new|2025-07-15|  2025-07-22|   2025-07-08|     Veg|       Non_Veg|\n",
      "|          FDP49|        9.0|         Regular|    0.069088961|           Breakfast| 56.3614|           OUT046|                     1997|      Small|              Tier 1|Supermarket Type1|        1547.3192| new|2025-07-15|  2025-07-22|   2025-07-08|     Veg|Veg_Inxpensive|\n",
      "|          NCB42|       11.8|         Low Fat|    0.008596051|  Health and Hygiene|115.3492|           OUT018|                     2009|     Medium|              Tier 3|Supermarket Type2|        1621.8888| new|2025-07-15|  2025-07-22|   2025-07-08|     Veg|       Non_Veg|\n",
      "|          FDP49|        9.0|         Regular|    0.069196376|           Breakfast| 54.3614|           OUT049|                     1999|     Medium|              Tier 1|Supermarket Type1|         718.3982| new|2025-07-15|  2025-07-22|   2025-07-08|     Veg|Veg_Inxpensive|\n",
      "|          DRI11|       null|         Low Fat|    0.034237682|         Hard Drinks|113.2834|           OUT027|                     1985|     Medium|              Tier 3|Supermarket Type3|         2303.668| new|2025-07-15|  2025-07-22|   2025-07-08|     Veg|       Non_Veg|\n",
      "|          FDU02|      13.35|         Low Fat|     0.10249212|               Dairy|230.5352|           OUT035|                     2004|      Small|              Tier 2|Supermarket Type1|        2748.4224| new|2025-07-15|  2025-07-22|   2025-07-08|     Veg|       Non_Veg|\n",
      "+---------------+-----------+----------------+---------------+--------------------+--------+-----------------+-------------------------+-----------+--------------------+-----------------+-----------------+----+----------+------------+-------------+--------+--------------+\n",
      "only showing top 20 rows\n",
      "\n"
     ]
    }
   ],
   "source": [
    "df.withColumn('veg_exp_flag', when(((col('veg_flag') == 'Veg') & (col('Item_MRP')<100)), 'Veg_Inxpensive')\\\n",
    "    .when((col('veg_flag') == 'veg') & (col('Item_MRP')>100), 'Veg_Expensive')\\\n",
    "    .otherwise('Non_Veg')).show()"
   ]
  },
  {
   "cell_type": "markdown",
   "id": "f5e77354",
   "metadata": {},
   "source": [
    "#### JOINS"
   ]
  },
  {
   "cell_type": "code",
   "execution_count": 85,
   "id": "69aee03e",
   "metadata": {},
   "outputs": [],
   "source": [
    "dataj1 = [('1','gaur','d01'),\n",
    "          ('2','kit','d02'),\n",
    "          ('3','sam','d03'),\n",
    "          ('4','tim','d03'),\n",
    "          ('5','aman','d05'),\n",
    "          ('6','nad','d06')] \n",
    "\n",
    "schemaj1 = 'emp_id STRING, emp_name STRING, dept_id STRING' \n",
    "\n",
    "df1 = spark.createDataFrame(dataj1,schemaj1)\n",
    "\n",
    "dataj2 = [('d01','HR'),\n",
    "          ('d02','Marketing'),\n",
    "          ('d03','Accounts'),\n",
    "          ('d04','IT'),\n",
    "          ('d05','Finance')]\n",
    "\n",
    "schemaj2 = 'dept_id STRING, department STRING'\n",
    "\n",
    "df2 = spark.createDataFrame(dataj2,schemaj2)"
   ]
  },
  {
   "cell_type": "code",
   "execution_count": 86,
   "id": "304a7770",
   "metadata": {},
   "outputs": [
    {
     "name": "stdout",
     "output_type": "stream",
     "text": [
      "+------+--------+-------+\n",
      "|emp_id|emp_name|dept_id|\n",
      "+------+--------+-------+\n",
      "|     1|    gaur|    d01|\n",
      "|     2|     kit|    d02|\n",
      "|     3|     sam|    d03|\n",
      "|     4|     tim|    d03|\n",
      "|     5|    aman|    d05|\n",
      "|     6|     nad|    d06|\n",
      "+------+--------+-------+\n",
      "\n"
     ]
    }
   ],
   "source": [
    "df1.show()"
   ]
  },
  {
   "cell_type": "code",
   "execution_count": 87,
   "id": "e6b15709",
   "metadata": {},
   "outputs": [
    {
     "name": "stdout",
     "output_type": "stream",
     "text": [
      "+-------+----------+\n",
      "|dept_id|department|\n",
      "+-------+----------+\n",
      "|    d01|        HR|\n",
      "|    d02| Marketing|\n",
      "|    d03|  Accounts|\n",
      "|    d04|        IT|\n",
      "|    d05|   Finance|\n",
      "+-------+----------+\n",
      "\n"
     ]
    }
   ],
   "source": [
    "df2.show()"
   ]
  },
  {
   "cell_type": "markdown",
   "id": "7b88145f",
   "metadata": {},
   "source": [
    "##### Inner-Join"
   ]
  },
  {
   "cell_type": "code",
   "execution_count": 88,
   "id": "cef7d9e6",
   "metadata": {},
   "outputs": [
    {
     "name": "stdout",
     "output_type": "stream",
     "text": [
      "+------+--------+-------+-------+----------+\n",
      "|emp_id|emp_name|dept_id|dept_id|department|\n",
      "+------+--------+-------+-------+----------+\n",
      "|     1|    gaur|    d01|    d01|        HR|\n",
      "|     2|     kit|    d02|    d02| Marketing|\n",
      "|     3|     sam|    d03|    d03|  Accounts|\n",
      "|     4|     tim|    d03|    d03|  Accounts|\n",
      "|     5|    aman|    d05|    d05|   Finance|\n",
      "+------+--------+-------+-------+----------+\n",
      "\n"
     ]
    }
   ],
   "source": [
    "df1.join(df2, df1['dept_id']==df2['dept_id'],'inner').show()"
   ]
  },
  {
   "cell_type": "markdown",
   "id": "b156b930",
   "metadata": {},
   "source": [
    "##### Left-Join"
   ]
  },
  {
   "cell_type": "code",
   "execution_count": 89,
   "id": "6fee7349",
   "metadata": {},
   "outputs": [
    {
     "name": "stdout",
     "output_type": "stream",
     "text": [
      "+------+--------+-------+-------+----------+\n",
      "|emp_id|emp_name|dept_id|dept_id|department|\n",
      "+------+--------+-------+-------+----------+\n",
      "|     1|    gaur|    d01|    d01|        HR|\n",
      "|     2|     kit|    d02|    d02| Marketing|\n",
      "|     3|     sam|    d03|    d03|  Accounts|\n",
      "|     4|     tim|    d03|    d03|  Accounts|\n",
      "|     5|    aman|    d05|    d05|   Finance|\n",
      "|     6|     nad|    d06|   null|      null|\n",
      "+------+--------+-------+-------+----------+\n",
      "\n"
     ]
    }
   ],
   "source": [
    "df1.join(df2,df1['dept_id']==df2['dept_id'],'left').show()"
   ]
  },
  {
   "cell_type": "markdown",
   "id": "b1940e64",
   "metadata": {},
   "source": [
    "##### Right-Join"
   ]
  },
  {
   "cell_type": "code",
   "execution_count": 90,
   "id": "4d6fc437",
   "metadata": {},
   "outputs": [
    {
     "name": "stdout",
     "output_type": "stream",
     "text": [
      "+------+--------+-------+-------+----------+\n",
      "|emp_id|emp_name|dept_id|dept_id|department|\n",
      "+------+--------+-------+-------+----------+\n",
      "|     1|    gaur|    d01|    d01|        HR|\n",
      "|     2|     kit|    d02|    d02| Marketing|\n",
      "|     3|     sam|    d03|    d03|  Accounts|\n",
      "|     4|     tim|    d03|    d03|  Accounts|\n",
      "|  null|    null|   null|    d04|        IT|\n",
      "|     5|    aman|    d05|    d05|   Finance|\n",
      "+------+--------+-------+-------+----------+\n",
      "\n"
     ]
    }
   ],
   "source": [
    "df1.join(df2,df1['dept_id']==df2['dept_id'],'right').show()"
   ]
  },
  {
   "cell_type": "markdown",
   "id": "4d5fc913",
   "metadata": {},
   "source": [
    "##### Anti-Join : We want records that are not getting matched on ID in join"
   ]
  },
  {
   "cell_type": "code",
   "execution_count": 91,
   "id": "c108472d",
   "metadata": {},
   "outputs": [
    {
     "name": "stdout",
     "output_type": "stream",
     "text": [
      "+------+--------+-------+\n",
      "|emp_id|emp_name|dept_id|\n",
      "+------+--------+-------+\n",
      "|     6|     nad|    d06|\n",
      "+------+--------+-------+\n",
      "\n"
     ]
    }
   ],
   "source": [
    "df1.join(df2,df1['dept_id']==df2['dept_id'],'anti').show()"
   ]
  },
  {
   "cell_type": "markdown",
   "id": "4d2757e6",
   "metadata": {},
   "source": [
    "#### WINDOW FUNCTIONS"
   ]
  },
  {
   "cell_type": "markdown",
   "id": "32f91a0d",
   "metadata": {},
   "source": [
    "##### ROW_NUMBER()"
   ]
  },
  {
   "cell_type": "code",
   "execution_count": 92,
   "id": "700cc04a",
   "metadata": {},
   "outputs": [],
   "source": [
    "from pyspark.sql.window import Window"
   ]
  },
  {
   "cell_type": "code",
   "execution_count": 93,
   "id": "8443ac12",
   "metadata": {},
   "outputs": [
    {
     "name": "stdout",
     "output_type": "stream",
     "text": [
      "+---------------+-----------+----------------+---------------+-----------+--------+-----------------+-------------------------+-----------+--------------------+-----------------+-----------------+----+----------+------------+-------------+--------+------+\n",
      "|Item_Identifier|Item_Weight|Item_Fat_Content|Item_Visibility|  Item_Type|Item_MRP|Outlet_Identifier|Outlet_Establishment_Year|Outlet_Size|Outlet_Location_Type|      Outlet_Type|Item_Outlet_Sales|flag|      date|oneWeekAfter|oneWeekBefore|veg_flag|rowCol|\n",
      "+---------------+-----------+----------------+---------------+-----------+--------+-----------------+-------------------------+-----------+--------------------+-----------------+-----------------+----+----------+------------+-------------+--------+------+\n",
      "|          DRA12|       11.6|         Low Fat|    0.041177505|Soft Drinks|140.3154|           OUT017|                     2007|       null|              Tier 2|Supermarket Type1|        2552.6772| new|2025-07-15|  2025-07-22|   2025-07-08|     Veg|     1|\n",
      "|          DRA12|       11.6|         Low Fat|            0.0|Soft Drinks|141.6154|           OUT045|                     2002|       null|              Tier 2|Supermarket Type1|        3829.0158| new|2025-07-15|  2025-07-22|   2025-07-08|     Veg|     2|\n",
      "|          DRA12|       11.6|         Low Fat|    0.040911824|Soft Drinks|142.3154|           OUT013|                     1987|       High|              Tier 3|Supermarket Type1|        2552.6772| new|2025-07-15|  2025-07-22|   2025-07-08|     Veg|     3|\n",
      "|          DRA12|       11.6|              LF|            0.0|Soft Drinks|141.9154|           OUT035|                     2004|      Small|              Tier 2|Supermarket Type1|         992.7078| new|2025-07-15|  2025-07-22|   2025-07-08|     Veg|     4|\n",
      "|          DRA12|       11.6|         Low Fat|    0.041112694|Soft Drinks|142.0154|           OUT018|                     2009|     Medium|              Tier 3|Supermarket Type2|         850.8924| new|2025-07-15|  2025-07-22|   2025-07-08|     Veg|     5|\n",
      "|          DRA12|       11.6|         Low Fat|    0.068535039|Soft Drinks|143.0154|           OUT010|                     1998|       null|              Tier 3|    Grocery Store|         283.6308| new|2025-07-15|  2025-07-22|   2025-07-08|     Veg|     6|\n",
      "|          DRA24|      19.35|         Regular|    0.040154087|Soft Drinks|164.6868|           OUT017|                     2007|       null|              Tier 2|Supermarket Type1|        1146.5076| new|2025-07-15|  2025-07-22|   2025-07-08|     Veg|     7|\n",
      "|          DRA24|       null|         Regular|    0.039734882|Soft Drinks|165.7868|           OUT027|                     1985|     Medium|              Tier 3|Supermarket Type3|         4913.604| new|2025-07-15|  2025-07-22|   2025-07-08|     Veg|     8|\n",
      "|          DRA24|      19.35|         Regular|    0.039920687|Soft Drinks|163.3868|           OUT035|                     2004|      Small|              Tier 2|Supermarket Type1|        3439.5228| new|2025-07-15|  2025-07-22|   2025-07-08|     Veg|     9|\n",
      "|          DRA24|       null|         Regular|    0.069909188|Soft Drinks|163.2868|           OUT019|                     1985|      Small|              Tier 1|    Grocery Store|         491.3604| new|2025-07-15|  2025-07-22|   2025-07-08|     Veg|    10|\n",
      "|          DRA24|      19.35|         Regular|    0.066831682|Soft Drinks|163.8868|           OUT010|                     1998|       null|              Tier 3|    Grocery Store|         327.5736| new|2025-07-15|  2025-07-22|   2025-07-08|     Veg|    11|\n",
      "|          DRA24|      19.35|         Regular|    0.039990314|Soft Drinks|165.0868|           OUT049|                     1999|     Medium|              Tier 1|Supermarket Type1|         982.7208| new|2025-07-15|  2025-07-22|   2025-07-08|     Veg|    12|\n",
      "|          DRA24|      19.35|         Regular|    0.039895009|Soft Drinks|162.4868|           OUT013|                     1987|       High|              Tier 3|Supermarket Type1|        4422.2436| new|2025-07-15|  2025-07-22|   2025-07-08|     Veg|    13|\n",
      "|          DRA59|       8.27|         Regular|    0.127927931|Soft Drinks|184.8924|           OUT046|                     1997|      Small|              Tier 1|Supermarket Type1|        4442.2176| new|2025-07-15|  2025-07-22|   2025-07-08|     Veg|    14|\n",
      "|          DRA59|       8.27|         Regular|    0.128126825|Soft Drinks|183.6924|           OUT049|                     1999|     Medium|              Tier 1|Supermarket Type1|        1295.6468| new|2025-07-15|  2025-07-22|   2025-07-08|     Veg|    15|\n",
      "|          DRA59|       8.27|         Regular|    0.127821472|Soft Drinks|185.9924|           OUT013|                     1987|       High|              Tier 3|Supermarket Type1|         555.2772| new|2025-07-15|  2025-07-22|   2025-07-08|     Veg|    16|\n",
      "|          DRA59|       8.27|         Regular|            0.0|Soft Drinks|183.2924|           OUT017|                     2007|       null|              Tier 2|Supermarket Type1|        2406.2012| new|2025-07-15|  2025-07-22|   2025-07-08|     Veg|    17|\n",
      "|          DRA59|       null|         Regular|    0.127308434|Soft Drinks|186.6924|           OUT027|                     1985|     Medium|              Tier 3|Supermarket Type3|        7033.5112| new|2025-07-15|  2025-07-22|   2025-07-08|     Veg|    18|\n",
      "|          DRA59|       null|         Regular|    0.223985293|Soft Drinks|186.2924|           OUT019|                     1985|      Small|              Tier 1|    Grocery Store|         555.2772| new|2025-07-15|  2025-07-22|   2025-07-08|     Veg|    19|\n",
      "|          DRA59|       8.27|         Regular|    0.128449055|Soft Drinks|186.5924|           OUT018|                     2009|     Medium|              Tier 3|Supermarket Type2|        4442.2176| new|2025-07-15|  2025-07-22|   2025-07-08|     Veg|    20|\n",
      "+---------------+-----------+----------------+---------------+-----------+--------+-----------------+-------------------------+-----------+--------------------+-----------------+-----------------+----+----------+------------+-------------+--------+------+\n",
      "only showing top 20 rows\n",
      "\n"
     ]
    }
   ],
   "source": [
    "df.withColumn('rowCol',row_number().over(Window.orderBy('Item_Identifier'))).show()"
   ]
  },
  {
   "cell_type": "markdown",
   "id": "d7cc8ea3",
   "metadata": {},
   "source": [
    "#### Rank and Dense Rank"
   ]
  },
  {
   "cell_type": "markdown",
   "id": "aa3eac37",
   "metadata": {},
   "source": [
    "##### Rank"
   ]
  },
  {
   "cell_type": "code",
   "execution_count": 94,
   "id": "f770dd9a",
   "metadata": {},
   "outputs": [
    {
     "name": "stdout",
     "output_type": "stream",
     "text": [
      "+---------------+-----------+----------------+---------------+-----------+--------+-----------------+-------------------------+-----------+--------------------+-----------------+-----------------+----+----------+------------+-------------+--------+----+\n",
      "|Item_Identifier|Item_Weight|Item_Fat_Content|Item_Visibility|  Item_Type|Item_MRP|Outlet_Identifier|Outlet_Establishment_Year|Outlet_Size|Outlet_Location_Type|      Outlet_Type|Item_Outlet_Sales|flag|      date|oneWeekAfter|oneWeekBefore|veg_flag|rank|\n",
      "+---------------+-----------+----------------+---------------+-----------+--------+-----------------+-------------------------+-----------+--------------------+-----------------+-----------------+----+----------+------------+-------------+--------+----+\n",
      "|          DRA12|       11.6|         Low Fat|    0.041177505|Soft Drinks|140.3154|           OUT017|                     2007|       null|              Tier 2|Supermarket Type1|        2552.6772| new|2025-07-15|  2025-07-22|   2025-07-08|     Veg|   1|\n",
      "|          DRA12|       11.6|         Low Fat|            0.0|Soft Drinks|141.6154|           OUT045|                     2002|       null|              Tier 2|Supermarket Type1|        3829.0158| new|2025-07-15|  2025-07-22|   2025-07-08|     Veg|   1|\n",
      "|          DRA12|       11.6|         Low Fat|    0.040911824|Soft Drinks|142.3154|           OUT013|                     1987|       High|              Tier 3|Supermarket Type1|        2552.6772| new|2025-07-15|  2025-07-22|   2025-07-08|     Veg|   1|\n",
      "|          DRA12|       11.6|              LF|            0.0|Soft Drinks|141.9154|           OUT035|                     2004|      Small|              Tier 2|Supermarket Type1|         992.7078| new|2025-07-15|  2025-07-22|   2025-07-08|     Veg|   1|\n",
      "|          DRA12|       11.6|         Low Fat|    0.041112694|Soft Drinks|142.0154|           OUT018|                     2009|     Medium|              Tier 3|Supermarket Type2|         850.8924| new|2025-07-15|  2025-07-22|   2025-07-08|     Veg|   1|\n",
      "|          DRA12|       11.6|         Low Fat|    0.068535039|Soft Drinks|143.0154|           OUT010|                     1998|       null|              Tier 3|    Grocery Store|         283.6308| new|2025-07-15|  2025-07-22|   2025-07-08|     Veg|   1|\n",
      "|          DRA24|      19.35|         Regular|    0.040154087|Soft Drinks|164.6868|           OUT017|                     2007|       null|              Tier 2|Supermarket Type1|        1146.5076| new|2025-07-15|  2025-07-22|   2025-07-08|     Veg|   7|\n",
      "|          DRA24|       null|         Regular|    0.039734882|Soft Drinks|165.7868|           OUT027|                     1985|     Medium|              Tier 3|Supermarket Type3|         4913.604| new|2025-07-15|  2025-07-22|   2025-07-08|     Veg|   7|\n",
      "|          DRA24|      19.35|         Regular|    0.039920687|Soft Drinks|163.3868|           OUT035|                     2004|      Small|              Tier 2|Supermarket Type1|        3439.5228| new|2025-07-15|  2025-07-22|   2025-07-08|     Veg|   7|\n",
      "|          DRA24|       null|         Regular|    0.069909188|Soft Drinks|163.2868|           OUT019|                     1985|      Small|              Tier 1|    Grocery Store|         491.3604| new|2025-07-15|  2025-07-22|   2025-07-08|     Veg|   7|\n",
      "|          DRA24|      19.35|         Regular|    0.066831682|Soft Drinks|163.8868|           OUT010|                     1998|       null|              Tier 3|    Grocery Store|         327.5736| new|2025-07-15|  2025-07-22|   2025-07-08|     Veg|   7|\n",
      "|          DRA24|      19.35|         Regular|    0.039990314|Soft Drinks|165.0868|           OUT049|                     1999|     Medium|              Tier 1|Supermarket Type1|         982.7208| new|2025-07-15|  2025-07-22|   2025-07-08|     Veg|   7|\n",
      "|          DRA24|      19.35|         Regular|    0.039895009|Soft Drinks|162.4868|           OUT013|                     1987|       High|              Tier 3|Supermarket Type1|        4422.2436| new|2025-07-15|  2025-07-22|   2025-07-08|     Veg|   7|\n",
      "|          DRA59|       8.27|         Regular|    0.127927931|Soft Drinks|184.8924|           OUT046|                     1997|      Small|              Tier 1|Supermarket Type1|        4442.2176| new|2025-07-15|  2025-07-22|   2025-07-08|     Veg|  14|\n",
      "|          DRA59|       8.27|         Regular|    0.128126825|Soft Drinks|183.6924|           OUT049|                     1999|     Medium|              Tier 1|Supermarket Type1|        1295.6468| new|2025-07-15|  2025-07-22|   2025-07-08|     Veg|  14|\n",
      "|          DRA59|       8.27|         Regular|    0.127821472|Soft Drinks|185.9924|           OUT013|                     1987|       High|              Tier 3|Supermarket Type1|         555.2772| new|2025-07-15|  2025-07-22|   2025-07-08|     Veg|  14|\n",
      "|          DRA59|       8.27|         Regular|            0.0|Soft Drinks|183.2924|           OUT017|                     2007|       null|              Tier 2|Supermarket Type1|        2406.2012| new|2025-07-15|  2025-07-22|   2025-07-08|     Veg|  14|\n",
      "|          DRA59|       null|         Regular|    0.127308434|Soft Drinks|186.6924|           OUT027|                     1985|     Medium|              Tier 3|Supermarket Type3|        7033.5112| new|2025-07-15|  2025-07-22|   2025-07-08|     Veg|  14|\n",
      "|          DRA59|       null|         Regular|    0.223985293|Soft Drinks|186.2924|           OUT019|                     1985|      Small|              Tier 1|    Grocery Store|         555.2772| new|2025-07-15|  2025-07-22|   2025-07-08|     Veg|  14|\n",
      "|          DRA59|       8.27|         Regular|    0.128449055|Soft Drinks|186.5924|           OUT018|                     2009|     Medium|              Tier 3|Supermarket Type2|        4442.2176| new|2025-07-15|  2025-07-22|   2025-07-08|     Veg|  14|\n",
      "+---------------+-----------+----------------+---------------+-----------+--------+-----------------+-------------------------+-----------+--------------------+-----------------+-----------------+----+----------+------------+-------------+--------+----+\n",
      "only showing top 20 rows\n",
      "\n"
     ]
    }
   ],
   "source": [
    "df.withColumn('rank',rank().over(Window.orderBy('Item_Identifier'))).show()"
   ]
  },
  {
   "cell_type": "code",
   "execution_count": 95,
   "id": "a4ba4cd5",
   "metadata": {},
   "outputs": [
    {
     "name": "stdout",
     "output_type": "stream",
     "text": [
      "+---------------+-----------+----------------+---------------+------------------+--------+-----------------+-------------------------+-----------+--------------------+-----------------+-----------------+----+----------+------------+-------------+--------+----+\n",
      "|Item_Identifier|Item_Weight|Item_Fat_Content|Item_Visibility|         Item_Type|Item_MRP|Outlet_Identifier|Outlet_Establishment_Year|Outlet_Size|Outlet_Location_Type|      Outlet_Type|Item_Outlet_Sales|flag|      date|oneWeekAfter|oneWeekBefore|veg_flag|rank|\n",
      "+---------------+-----------+----------------+---------------+------------------+--------+-----------------+-------------------------+-----------+--------------------+-----------------+-----------------+----+----------+------------+-------------+--------+----+\n",
      "|          NCZ54|      14.65|         Low Fat|    0.083359391|         Household|161.9552|           OUT046|                     1997|      Small|              Tier 1|Supermarket Type1|        4711.2008| new|2025-07-15|  2025-07-22|   2025-07-08|     Veg|   1|\n",
      "|          NCZ54|       null|         Low Fat|    0.082955719|         Household|164.0552|           OUT027|                     1985|     Medium|              Tier 3|Supermarket Type3|        5523.4768| new|2025-07-15|  2025-07-22|   2025-07-08|     Veg|   1|\n",
      "|          NCZ54|      14.65|         Low Fat|    0.083528446|         Household|162.4552|           OUT045|                     2002|       null|              Tier 2|Supermarket Type1|        2274.3728| new|2025-07-15|  2025-07-22|   2025-07-08|     Veg|   1|\n",
      "|          NCZ54|      14.65|         Low Fat|            0.0|         Household|161.5552|           OUT010|                     1998|       null|              Tier 3|    Grocery Store|         324.9104| new|2025-07-15|  2025-07-22|   2025-07-08|     Veg|   1|\n",
      "|          NCZ54|       null|         Low Fat|    0.145951533|         Household|160.9552|           OUT019|                     1985|      Small|              Tier 1|    Grocery Store|         162.4552| new|2025-07-15|  2025-07-22|   2025-07-08|     Veg|   1|\n",
      "|          NCZ54|      14.65|         Low Fat|    0.083698962|         Household|163.4552|           OUT018|                     2009|     Medium|              Tier 3|Supermarket Type2|        2599.2832| new|2025-07-15|  2025-07-22|   2025-07-08|     Veg|   1|\n",
      "|          NCZ54|      14.65|         Low Fat|    0.083488992|         Household|161.3552|           OUT049|                     1999|     Medium|              Tier 1|Supermarket Type1|        7148.0288| new|2025-07-15|  2025-07-22|   2025-07-08|     Veg|   1|\n",
      "|          NCZ53|        9.6|         Low Fat|    0.040969757|Health and Hygiene|188.7214|           OUT010|                     1998|       null|              Tier 3|    Grocery Store|         376.8428| new|2025-07-15|  2025-07-22|   2025-07-08|     Veg|   8|\n",
      "|          NCZ53|       null|         Low Fat|    0.024358634|Health and Hygiene|190.4214|           OUT027|                     1985|     Medium|              Tier 3|Supermarket Type3|         5652.642| new|2025-07-15|  2025-07-22|   2025-07-08|     Veg|   8|\n",
      "|          NCZ53|        9.6|         Low Fat|    0.024576875|Health and Hygiene|186.6214|           OUT018|                     2009|     Medium|              Tier 3|Supermarket Type2|         1884.214| new|2025-07-15|  2025-07-22|   2025-07-08|     Veg|   8|\n",
      "|          NCZ53|        9.6|         Low Fat|    0.024456797|Health and Hygiene|186.6214|           OUT013|                     1987|       High|              Tier 3|Supermarket Type1|        3203.1638| new|2025-07-15|  2025-07-22|   2025-07-08|     Veg|   8|\n",
      "|          NCZ53|        9.6|         Low Fat|    0.024515221|Health and Hygiene|189.2214|           OUT049|                     1999|     Medium|              Tier 1|Supermarket Type1|        3956.8494| new|2025-07-15|  2025-07-22|   2025-07-08|     Veg|   8|\n",
      "|          NCZ42|       10.5|         Low Fat|            0.0|         Household|238.3248|           OUT010|                     1998|       null|              Tier 3|    Grocery Store|         711.0744| new|2025-07-15|  2025-07-22|   2025-07-08|     Veg|  13|\n",
      "|          NCZ42|       10.5|         Low Fat|    0.011351778|         Household|236.5248|           OUT017|                     2007|       null|              Tier 2|Supermarket Type1|        4029.4216| new|2025-07-15|  2025-07-22|   2025-07-08|     Veg|  13|\n",
      "|          NCZ42|       10.5|         Low Fat|    0.011278535|         Household|237.0248|           OUT013|                     1987|       High|              Tier 3|Supermarket Type1|        5451.5704| new|2025-07-15|  2025-07-22|   2025-07-08|     Veg|  13|\n",
      "|          NCZ42|       10.5|         Low Fat|    0.011285795|         Household|235.8248|           OUT035|                     2004|      Small|              Tier 2|Supermarket Type1|        4266.4464| new|2025-07-15|  2025-07-22|   2025-07-08|     Veg|  13|\n",
      "|          NCZ42|       10.5|              LF|    0.011305479|         Household|235.5248|           OUT049|                     1999|     Medium|              Tier 1|Supermarket Type1|         4740.496| new|2025-07-15|  2025-07-22|   2025-07-08|     Veg|  13|\n",
      "|          NCZ41|      19.85|         Low Fat|    0.064367627|Health and Hygiene|126.1704|           OUT013|                     1987|       High|              Tier 3|Supermarket Type1|         876.1928| new|2025-07-15|  2025-07-22|   2025-07-08|     Veg|  18|\n",
      "|          NCZ41|      19.85|         Low Fat|    0.064409056|Health and Hygiene|126.7704|           OUT035|                     2004|      Small|              Tier 2|Supermarket Type1|        1752.3856| new|2025-07-15|  2025-07-22|   2025-07-08|     Veg|  18|\n",
      "|          NCZ41|      19.85|         Low Fat|    0.064551885|Health and Hygiene|125.2704|           OUT045|                     2002|       null|              Tier 2|Supermarket Type1|        2127.8968| new|2025-07-15|  2025-07-22|   2025-07-08|     Veg|  18|\n",
      "+---------------+-----------+----------------+---------------+------------------+--------+-----------------+-------------------------+-----------+--------------------+-----------------+-----------------+----+----------+------------+-------------+--------+----+\n",
      "only showing top 20 rows\n",
      "\n"
     ]
    }
   ],
   "source": [
    "df.withColumn('rank',rank().over(Window.orderBy(col('Item_Identifier').desc()))).show()"
   ]
  },
  {
   "cell_type": "markdown",
   "id": "0a76eef4",
   "metadata": {},
   "source": [
    "##### Dense Rank"
   ]
  },
  {
   "cell_type": "code",
   "execution_count": 96,
   "id": "be5035ed",
   "metadata": {},
   "outputs": [
    {
     "name": "stdout",
     "output_type": "stream",
     "text": [
      "+---------------+-----------+----------------+---------------+------------------+--------+-----------------+-------------------------+-----------+--------------------+-----------------+-----------------+----+----------+------------+-------------+--------+----+---------+\n",
      "|Item_Identifier|Item_Weight|Item_Fat_Content|Item_Visibility|         Item_Type|Item_MRP|Outlet_Identifier|Outlet_Establishment_Year|Outlet_Size|Outlet_Location_Type|      Outlet_Type|Item_Outlet_Sales|flag|      date|oneWeekAfter|oneWeekBefore|veg_flag|rank|denseRank|\n",
      "+---------------+-----------+----------------+---------------+------------------+--------+-----------------+-------------------------+-----------+--------------------+-----------------+-----------------+----+----------+------------+-------------+--------+----+---------+\n",
      "|          NCZ54|      14.65|         Low Fat|    0.083359391|         Household|161.9552|           OUT046|                     1997|      Small|              Tier 1|Supermarket Type1|        4711.2008| new|2025-07-15|  2025-07-22|   2025-07-08|     Veg|   1|        1|\n",
      "|          NCZ54|       null|         Low Fat|    0.082955719|         Household|164.0552|           OUT027|                     1985|     Medium|              Tier 3|Supermarket Type3|        5523.4768| new|2025-07-15|  2025-07-22|   2025-07-08|     Veg|   1|        1|\n",
      "|          NCZ54|      14.65|         Low Fat|    0.083528446|         Household|162.4552|           OUT045|                     2002|       null|              Tier 2|Supermarket Type1|        2274.3728| new|2025-07-15|  2025-07-22|   2025-07-08|     Veg|   1|        1|\n",
      "|          NCZ54|      14.65|         Low Fat|            0.0|         Household|161.5552|           OUT010|                     1998|       null|              Tier 3|    Grocery Store|         324.9104| new|2025-07-15|  2025-07-22|   2025-07-08|     Veg|   1|        1|\n",
      "|          NCZ54|       null|         Low Fat|    0.145951533|         Household|160.9552|           OUT019|                     1985|      Small|              Tier 1|    Grocery Store|         162.4552| new|2025-07-15|  2025-07-22|   2025-07-08|     Veg|   1|        1|\n",
      "|          NCZ54|      14.65|         Low Fat|    0.083698962|         Household|163.4552|           OUT018|                     2009|     Medium|              Tier 3|Supermarket Type2|        2599.2832| new|2025-07-15|  2025-07-22|   2025-07-08|     Veg|   1|        1|\n",
      "|          NCZ54|      14.65|         Low Fat|    0.083488992|         Household|161.3552|           OUT049|                     1999|     Medium|              Tier 1|Supermarket Type1|        7148.0288| new|2025-07-15|  2025-07-22|   2025-07-08|     Veg|   1|        1|\n",
      "|          NCZ53|        9.6|         Low Fat|    0.040969757|Health and Hygiene|188.7214|           OUT010|                     1998|       null|              Tier 3|    Grocery Store|         376.8428| new|2025-07-15|  2025-07-22|   2025-07-08|     Veg|   8|        2|\n",
      "|          NCZ53|       null|         Low Fat|    0.024358634|Health and Hygiene|190.4214|           OUT027|                     1985|     Medium|              Tier 3|Supermarket Type3|         5652.642| new|2025-07-15|  2025-07-22|   2025-07-08|     Veg|   8|        2|\n",
      "|          NCZ53|        9.6|         Low Fat|    0.024576875|Health and Hygiene|186.6214|           OUT018|                     2009|     Medium|              Tier 3|Supermarket Type2|         1884.214| new|2025-07-15|  2025-07-22|   2025-07-08|     Veg|   8|        2|\n",
      "|          NCZ53|        9.6|         Low Fat|    0.024456797|Health and Hygiene|186.6214|           OUT013|                     1987|       High|              Tier 3|Supermarket Type1|        3203.1638| new|2025-07-15|  2025-07-22|   2025-07-08|     Veg|   8|        2|\n",
      "|          NCZ53|        9.6|         Low Fat|    0.024515221|Health and Hygiene|189.2214|           OUT049|                     1999|     Medium|              Tier 1|Supermarket Type1|        3956.8494| new|2025-07-15|  2025-07-22|   2025-07-08|     Veg|   8|        2|\n",
      "|          NCZ42|       10.5|         Low Fat|            0.0|         Household|238.3248|           OUT010|                     1998|       null|              Tier 3|    Grocery Store|         711.0744| new|2025-07-15|  2025-07-22|   2025-07-08|     Veg|  13|        3|\n",
      "|          NCZ42|       10.5|         Low Fat|    0.011351778|         Household|236.5248|           OUT017|                     2007|       null|              Tier 2|Supermarket Type1|        4029.4216| new|2025-07-15|  2025-07-22|   2025-07-08|     Veg|  13|        3|\n",
      "|          NCZ42|       10.5|         Low Fat|    0.011278535|         Household|237.0248|           OUT013|                     1987|       High|              Tier 3|Supermarket Type1|        5451.5704| new|2025-07-15|  2025-07-22|   2025-07-08|     Veg|  13|        3|\n",
      "|          NCZ42|       10.5|         Low Fat|    0.011285795|         Household|235.8248|           OUT035|                     2004|      Small|              Tier 2|Supermarket Type1|        4266.4464| new|2025-07-15|  2025-07-22|   2025-07-08|     Veg|  13|        3|\n",
      "|          NCZ42|       10.5|              LF|    0.011305479|         Household|235.5248|           OUT049|                     1999|     Medium|              Tier 1|Supermarket Type1|         4740.496| new|2025-07-15|  2025-07-22|   2025-07-08|     Veg|  13|        3|\n",
      "|          NCZ41|      19.85|         Low Fat|    0.064367627|Health and Hygiene|126.1704|           OUT013|                     1987|       High|              Tier 3|Supermarket Type1|         876.1928| new|2025-07-15|  2025-07-22|   2025-07-08|     Veg|  18|        4|\n",
      "|          NCZ41|      19.85|         Low Fat|    0.064409056|Health and Hygiene|126.7704|           OUT035|                     2004|      Small|              Tier 2|Supermarket Type1|        1752.3856| new|2025-07-15|  2025-07-22|   2025-07-08|     Veg|  18|        4|\n",
      "|          NCZ41|      19.85|         Low Fat|    0.064551885|Health and Hygiene|125.2704|           OUT045|                     2002|       null|              Tier 2|Supermarket Type1|        2127.8968| new|2025-07-15|  2025-07-22|   2025-07-08|     Veg|  18|        4|\n",
      "+---------------+-----------+----------------+---------------+------------------+--------+-----------------+-------------------------+-----------+--------------------+-----------------+-----------------+----+----------+------------+-------------+--------+----+---------+\n",
      "only showing top 20 rows\n",
      "\n"
     ]
    }
   ],
   "source": [
    "df.withColumn('rank', rank().over(Window.orderBy(col('Item_Identifier').desc())))\\\n",
    "    .withColumn('denseRank', dense_rank().over(Window.orderBy(col('Item_Identifier').desc()))).show()"
   ]
  },
  {
   "cell_type": "markdown",
   "id": "3d675a44",
   "metadata": {},
   "source": [
    "#### Cummulative Sum"
   ]
  },
  {
   "cell_type": "code",
   "execution_count": 97,
   "id": "59ba36bc",
   "metadata": {},
   "outputs": [
    {
     "name": "stdout",
     "output_type": "stream",
     "text": [
      "+---------------+-----------+----------------+---------------+------------+--------+-----------------+-------------------------+-----------+--------------------+-----------------+-----------------+----+----------+------------+-------------+--------+-----------------+\n",
      "|Item_Identifier|Item_Weight|Item_Fat_Content|Item_Visibility|   Item_Type|Item_MRP|Outlet_Identifier|Outlet_Establishment_Year|Outlet_Size|Outlet_Location_Type|      Outlet_Type|Item_Outlet_Sales|flag|      date|oneWeekAfter|oneWeekBefore|veg_flag|           cumsum|\n",
      "+---------------+-----------+----------------+---------------+------------+--------+-----------------+-------------------------+-----------+--------------------+-----------------+-----------------+----+----------+------------+-------------+--------+-----------------+\n",
      "|          FDP36|     10.395|         Regular|            0.0|Baking Goods| 51.4008|           OUT018|                     2009|     Medium|              Tier 3|Supermarket Type2|         556.6088| new|2025-07-15|  2025-07-22|   2025-07-08|     Veg|81894.73640000001|\n",
      "|          FDW12|       null|         Regular|    0.035399923|Baking Goods|144.5444|           OUT027|                     1985|     Medium|              Tier 3|Supermarket Type3|        4064.0432| new|2025-07-15|  2025-07-22|   2025-07-08|     Veg|81894.73640000001|\n",
      "|          FDC37|       null|         Low Fat|    0.057556998|Baking Goods|107.6938|           OUT019|                     1985|      Small|              Tier 1|    Grocery Store|         214.3876| new|2025-07-15|  2025-07-22|   2025-07-08|     Veg|81894.73640000001|\n",
      "|          FDL12|      15.85|         Regular|    0.121632721|Baking Goods|  60.622|           OUT046|                     1997|      Small|              Tier 1|Supermarket Type1|         2576.646| new|2025-07-15|  2025-07-22|   2025-07-08|     Veg|81894.73640000001|\n",
      "|          FDL12|      15.85|         Regular|    0.121531501|Baking Goods|  59.222|           OUT013|                     1987|       High|              Tier 3|Supermarket Type1|           599.22| new|2025-07-15|  2025-07-22|   2025-07-08|     Veg|81894.73640000001|\n",
      "|          FDN48|       null|         Low Fat|    0.113720344|Baking Goods| 89.9804|           OUT019|                     1985|      Small|              Tier 1|    Grocery Store|         643.1628| new|2025-07-15|  2025-07-22|   2025-07-08|     Veg|81894.73640000001|\n",
      "|          FDR12|       null|         Regular|    0.031382044|Baking Goods|171.3764|           OUT027|                     1985|     Medium|              Tier 3|Supermarket Type3|        3091.9752| new|2025-07-15|  2025-07-22|   2025-07-08|     Veg|81894.73640000001|\n",
      "|          FDA47|       10.5|         Regular|    0.116576702|Baking Goods| 163.121|           OUT013|                     1987|       High|              Tier 3|Supermarket Type1|         1794.331| new|2025-07-15|  2025-07-22|   2025-07-08|     Veg|81894.73640000001|\n",
      "|          FDG12|      6.635|         Regular|            0.0|Baking Goods|121.3098|           OUT045|                     2002|       null|              Tier 2|Supermarket Type1|        2530.7058| new|2025-07-15|  2025-07-22|   2025-07-08|     Veg|81894.73640000001|\n",
      "|          FDB36|      5.465|         Regular|            0.0|Baking Goods|132.5626|           OUT018|                     2009|     Medium|              Tier 3|Supermarket Type2|         262.3252| new|2025-07-15|  2025-07-22|   2025-07-08|     Veg|81894.73640000001|\n",
      "|          FDO24|       11.1|         Low Fat|    0.176573035|Baking Goods|157.4604|           OUT045|                     2002|       null|              Tier 2|Supermarket Type1|        3010.7476| new|2025-07-15|  2025-07-22|   2025-07-08|     Veg|81894.73640000001|\n",
      "|          FDT12|       null|         Regular|    0.049381406|Baking Goods|226.8062|           OUT027|                     1985|     Medium|              Tier 3|Supermarket Type3|        4739.8302| new|2025-07-15|  2025-07-22|   2025-07-08|     Veg|81894.73640000001|\n",
      "|          FDE36|       5.26|         Regular|    0.041764487|Baking Goods|161.8868|           OUT035|                     2004|      Small|              Tier 2|Supermarket Type1|         3275.736| new|2025-07-15|  2025-07-22|   2025-07-08|     Veg|81894.73640000001|\n",
      "|          FDI24|       null|         Low Fat|    0.078362484|Baking Goods| 177.937|           OUT027|                     1985|     Medium|              Tier 3|Supermarket Type3|         6704.606| new|2025-07-15|  2025-07-22|   2025-07-08|     Veg|81894.73640000001|\n",
      "|          FDF24|       15.5|         Regular|    0.042464962|Baking Goods| 81.5934|           OUT010|                     1998|       null|              Tier 3|    Grocery Store|         327.5736| new|2025-07-15|  2025-07-22|   2025-07-08|     Veg|81894.73640000001|\n",
      "|          FDY24|       4.88|         Regular|    0.133700752|Baking Goods| 52.9298|           OUT049|                     1999|     Medium|              Tier 1|Supermarket Type1|        1995.4026| new|2025-07-15|  2025-07-22|   2025-07-08|     Veg|81894.73640000001|\n",
      "|          FDC60|      5.425|         Regular|    0.115119905|Baking Goods| 88.3514|           OUT017|                     2007|       null|              Tier 2|Supermarket Type1|        1416.8224| new|2025-07-15|  2025-07-22|   2025-07-08|     Veg|81894.73640000001|\n",
      "|          FDS12|        9.1|         Low Fat|    0.175103435|Baking Goods|127.5362|           OUT017|                     2007|       null|              Tier 2|Supermarket Type1|        4655.9394| new|2025-07-15|  2025-07-22|   2025-07-08|     Veg|81894.73640000001|\n",
      "|          FDG24|      7.975|         Low Fat|    0.014618973|Baking Goods|  85.225|           OUT013|                     1987|       High|              Tier 3|Supermarket Type1|         1081.925| new|2025-07-15|  2025-07-22|   2025-07-08|     Veg|81894.73640000001|\n",
      "|          FDV60|       null|         Regular|     0.11679292|Baking Goods| 196.211|           OUT027|                     1985|     Medium|              Tier 3|Supermarket Type3|         5499.508| new|2025-07-15|  2025-07-22|   2025-07-08|     Veg|81894.73640000001|\n",
      "+---------------+-----------+----------------+---------------+------------+--------+-----------------+-------------------------+-----------+--------------------+-----------------+-----------------+----+----------+------------+-------------+--------+-----------------+\n",
      "only showing top 20 rows\n",
      "\n"
     ]
    }
   ],
   "source": [
    "df.withColumn('cumsum', sum('Item_MRP').over(Window.orderBy('Item_Type'))).show()"
   ]
  },
  {
   "cell_type": "code",
   "execution_count": 98,
   "id": "5a774b54",
   "metadata": {},
   "outputs": [
    {
     "name": "stdout",
     "output_type": "stream",
     "text": [
      "+---------------+-----------+----------------+---------------+------------+--------+-----------------+-------------------------+-----------+--------------------+-----------------+-----------------+----+----------+------------+-------------+--------+------------------+\n",
      "|Item_Identifier|Item_Weight|Item_Fat_Content|Item_Visibility|   Item_Type|Item_MRP|Outlet_Identifier|Outlet_Establishment_Year|Outlet_Size|Outlet_Location_Type|      Outlet_Type|Item_Outlet_Sales|flag|      date|oneWeekAfter|oneWeekBefore|veg_flag|            cumsum|\n",
      "+---------------+-----------+----------------+---------------+------------+--------+-----------------+-------------------------+-----------+--------------------+-----------------+-----------------+----+----------+------------+-------------+--------+------------------+\n",
      "|          FDP36|     10.395|         Regular|            0.0|Baking Goods| 51.4008|           OUT018|                     2009|     Medium|              Tier 3|Supermarket Type2|         556.6088| new|2025-07-15|  2025-07-22|   2025-07-08|     Veg|           51.4008|\n",
      "|          FDW12|       null|         Regular|    0.035399923|Baking Goods|144.5444|           OUT027|                     1985|     Medium|              Tier 3|Supermarket Type3|        4064.0432| new|2025-07-15|  2025-07-22|   2025-07-08|     Veg|          195.9452|\n",
      "|          FDC37|       null|         Low Fat|    0.057556998|Baking Goods|107.6938|           OUT019|                     1985|      Small|              Tier 1|    Grocery Store|         214.3876| new|2025-07-15|  2025-07-22|   2025-07-08|     Veg|           303.639|\n",
      "|          FDL12|      15.85|         Regular|    0.121632721|Baking Goods|  60.622|           OUT046|                     1997|      Small|              Tier 1|Supermarket Type1|         2576.646| new|2025-07-15|  2025-07-22|   2025-07-08|     Veg|           364.261|\n",
      "|          FDL12|      15.85|         Regular|    0.121531501|Baking Goods|  59.222|           OUT013|                     1987|       High|              Tier 3|Supermarket Type1|           599.22| new|2025-07-15|  2025-07-22|   2025-07-08|     Veg|           423.483|\n",
      "|          FDN48|       null|         Low Fat|    0.113720344|Baking Goods| 89.9804|           OUT019|                     1985|      Small|              Tier 1|    Grocery Store|         643.1628| new|2025-07-15|  2025-07-22|   2025-07-08|     Veg|          513.4634|\n",
      "|          FDR12|       null|         Regular|    0.031382044|Baking Goods|171.3764|           OUT027|                     1985|     Medium|              Tier 3|Supermarket Type3|        3091.9752| new|2025-07-15|  2025-07-22|   2025-07-08|     Veg|          684.8398|\n",
      "|          FDA47|       10.5|         Regular|    0.116576702|Baking Goods| 163.121|           OUT013|                     1987|       High|              Tier 3|Supermarket Type1|         1794.331| new|2025-07-15|  2025-07-22|   2025-07-08|     Veg|          847.9608|\n",
      "|          FDG12|      6.635|         Regular|            0.0|Baking Goods|121.3098|           OUT045|                     2002|       null|              Tier 2|Supermarket Type1|        2530.7058| new|2025-07-15|  2025-07-22|   2025-07-08|     Veg|          969.2706|\n",
      "|          FDB36|      5.465|         Regular|            0.0|Baking Goods|132.5626|           OUT018|                     2009|     Medium|              Tier 3|Supermarket Type2|         262.3252| new|2025-07-15|  2025-07-22|   2025-07-08|     Veg|         1101.8332|\n",
      "|          FDO24|       11.1|         Low Fat|    0.176573035|Baking Goods|157.4604|           OUT045|                     2002|       null|              Tier 2|Supermarket Type1|        3010.7476| new|2025-07-15|  2025-07-22|   2025-07-08|     Veg|         1259.2936|\n",
      "|          FDT12|       null|         Regular|    0.049381406|Baking Goods|226.8062|           OUT027|                     1985|     Medium|              Tier 3|Supermarket Type3|        4739.8302| new|2025-07-15|  2025-07-22|   2025-07-08|     Veg|         1486.0998|\n",
      "|          FDE36|       5.26|         Regular|    0.041764487|Baking Goods|161.8868|           OUT035|                     2004|      Small|              Tier 2|Supermarket Type1|         3275.736| new|2025-07-15|  2025-07-22|   2025-07-08|     Veg|         1647.9866|\n",
      "|          FDI24|       null|         Low Fat|    0.078362484|Baking Goods| 177.937|           OUT027|                     1985|     Medium|              Tier 3|Supermarket Type3|         6704.606| new|2025-07-15|  2025-07-22|   2025-07-08|     Veg|         1825.9236|\n",
      "|          FDF24|       15.5|         Regular|    0.042464962|Baking Goods| 81.5934|           OUT010|                     1998|       null|              Tier 3|    Grocery Store|         327.5736| new|2025-07-15|  2025-07-22|   2025-07-08|     Veg|          1907.517|\n",
      "|          FDY24|       4.88|         Regular|    0.133700752|Baking Goods| 52.9298|           OUT049|                     1999|     Medium|              Tier 1|Supermarket Type1|        1995.4026| new|2025-07-15|  2025-07-22|   2025-07-08|     Veg|1960.4468000000002|\n",
      "|          FDC60|      5.425|         Regular|    0.115119905|Baking Goods| 88.3514|           OUT017|                     2007|       null|              Tier 2|Supermarket Type1|        1416.8224| new|2025-07-15|  2025-07-22|   2025-07-08|     Veg|         2048.7982|\n",
      "|          FDS12|        9.1|         Low Fat|    0.175103435|Baking Goods|127.5362|           OUT017|                     2007|       null|              Tier 2|Supermarket Type1|        4655.9394| new|2025-07-15|  2025-07-22|   2025-07-08|     Veg|         2176.3344|\n",
      "|          FDG24|      7.975|         Low Fat|    0.014618973|Baking Goods|  85.225|           OUT013|                     1987|       High|              Tier 3|Supermarket Type1|         1081.925| new|2025-07-15|  2025-07-22|   2025-07-08|     Veg|         2261.5594|\n",
      "|          FDV60|       null|         Regular|     0.11679292|Baking Goods| 196.211|           OUT027|                     1985|     Medium|              Tier 3|Supermarket Type3|         5499.508| new|2025-07-15|  2025-07-22|   2025-07-08|     Veg|2457.7704000000003|\n",
      "+---------------+-----------+----------------+---------------+------------+--------+-----------------+-------------------------+-----------+--------------------+-----------------+-----------------+----+----------+------------+-------------+--------+------------------+\n",
      "only showing top 20 rows\n",
      "\n"
     ]
    }
   ],
   "source": [
    "df.withColumn('cumsum', sum('Item_MRP').over(Window.orderBy('Item_Type').rowsBetween(Window.unboundedPreceding, Window.currentRow))).show()"
   ]
  },
  {
   "cell_type": "code",
   "execution_count": 99,
   "id": "185e0bc8",
   "metadata": {},
   "outputs": [
    {
     "name": "stdout",
     "output_type": "stream",
     "text": [
      "+---------------+-----------+----------------+---------------+------------+--------+-----------------+-------------------------+-----------+--------------------+-----------------+-----------------+----+----------+------------+-------------+--------+------------------+\n",
      "|Item_Identifier|Item_Weight|Item_Fat_Content|Item_Visibility|   Item_Type|Item_MRP|Outlet_Identifier|Outlet_Establishment_Year|Outlet_Size|Outlet_Location_Type|      Outlet_Type|Item_Outlet_Sales|flag|      date|oneWeekAfter|oneWeekBefore|veg_flag|            cumsum|\n",
      "+---------------+-----------+----------------+---------------+------------+--------+-----------------+-------------------------+-----------+--------------------+-----------------+-----------------+----+----------+------------+-------------+--------+------------------+\n",
      "|          FDP36|     10.395|         Regular|            0.0|Baking Goods| 51.4008|           OUT018|                     2009|     Medium|              Tier 3|Supermarket Type2|         556.6088| new|2025-07-15|  2025-07-22|   2025-07-08|     Veg|1201681.4808000019|\n",
      "|          FDW12|       null|         Regular|    0.035399923|Baking Goods|144.5444|           OUT027|                     1985|     Medium|              Tier 3|Supermarket Type3|        4064.0432| new|2025-07-15|  2025-07-22|   2025-07-08|     Veg|1201681.4808000019|\n",
      "|          FDC37|       null|         Low Fat|    0.057556998|Baking Goods|107.6938|           OUT019|                     1985|      Small|              Tier 1|    Grocery Store|         214.3876| new|2025-07-15|  2025-07-22|   2025-07-08|     Veg|1201681.4808000019|\n",
      "|          FDL12|      15.85|         Regular|    0.121632721|Baking Goods|  60.622|           OUT046|                     1997|      Small|              Tier 1|Supermarket Type1|         2576.646| new|2025-07-15|  2025-07-22|   2025-07-08|     Veg|1201681.4808000019|\n",
      "|          FDL12|      15.85|         Regular|    0.121531501|Baking Goods|  59.222|           OUT013|                     1987|       High|              Tier 3|Supermarket Type1|           599.22| new|2025-07-15|  2025-07-22|   2025-07-08|     Veg|1201681.4808000019|\n",
      "|          FDN48|       null|         Low Fat|    0.113720344|Baking Goods| 89.9804|           OUT019|                     1985|      Small|              Tier 1|    Grocery Store|         643.1628| new|2025-07-15|  2025-07-22|   2025-07-08|     Veg|1201681.4808000019|\n",
      "|          FDR12|       null|         Regular|    0.031382044|Baking Goods|171.3764|           OUT027|                     1985|     Medium|              Tier 3|Supermarket Type3|        3091.9752| new|2025-07-15|  2025-07-22|   2025-07-08|     Veg|1201681.4808000019|\n",
      "|          FDA47|       10.5|         Regular|    0.116576702|Baking Goods| 163.121|           OUT013|                     1987|       High|              Tier 3|Supermarket Type1|         1794.331| new|2025-07-15|  2025-07-22|   2025-07-08|     Veg|1201681.4808000019|\n",
      "|          FDG12|      6.635|         Regular|            0.0|Baking Goods|121.3098|           OUT045|                     2002|       null|              Tier 2|Supermarket Type1|        2530.7058| new|2025-07-15|  2025-07-22|   2025-07-08|     Veg|1201681.4808000019|\n",
      "|          FDB36|      5.465|         Regular|            0.0|Baking Goods|132.5626|           OUT018|                     2009|     Medium|              Tier 3|Supermarket Type2|         262.3252| new|2025-07-15|  2025-07-22|   2025-07-08|     Veg|1201681.4808000019|\n",
      "|          FDO24|       11.1|         Low Fat|    0.176573035|Baking Goods|157.4604|           OUT045|                     2002|       null|              Tier 2|Supermarket Type1|        3010.7476| new|2025-07-15|  2025-07-22|   2025-07-08|     Veg|1201681.4808000019|\n",
      "|          FDT12|       null|         Regular|    0.049381406|Baking Goods|226.8062|           OUT027|                     1985|     Medium|              Tier 3|Supermarket Type3|        4739.8302| new|2025-07-15|  2025-07-22|   2025-07-08|     Veg|1201681.4808000019|\n",
      "|          FDE36|       5.26|         Regular|    0.041764487|Baking Goods|161.8868|           OUT035|                     2004|      Small|              Tier 2|Supermarket Type1|         3275.736| new|2025-07-15|  2025-07-22|   2025-07-08|     Veg|1201681.4808000019|\n",
      "|          FDI24|       null|         Low Fat|    0.078362484|Baking Goods| 177.937|           OUT027|                     1985|     Medium|              Tier 3|Supermarket Type3|         6704.606| new|2025-07-15|  2025-07-22|   2025-07-08|     Veg|1201681.4808000019|\n",
      "|          FDF24|       15.5|         Regular|    0.042464962|Baking Goods| 81.5934|           OUT010|                     1998|       null|              Tier 3|    Grocery Store|         327.5736| new|2025-07-15|  2025-07-22|   2025-07-08|     Veg|1201681.4808000019|\n",
      "|          FDY24|       4.88|         Regular|    0.133700752|Baking Goods| 52.9298|           OUT049|                     1999|     Medium|              Tier 1|Supermarket Type1|        1995.4026| new|2025-07-15|  2025-07-22|   2025-07-08|     Veg|1201681.4808000019|\n",
      "|          FDC60|      5.425|         Regular|    0.115119905|Baking Goods| 88.3514|           OUT017|                     2007|       null|              Tier 2|Supermarket Type1|        1416.8224| new|2025-07-15|  2025-07-22|   2025-07-08|     Veg|1201681.4808000019|\n",
      "|          FDS12|        9.1|         Low Fat|    0.175103435|Baking Goods|127.5362|           OUT017|                     2007|       null|              Tier 2|Supermarket Type1|        4655.9394| new|2025-07-15|  2025-07-22|   2025-07-08|     Veg|1201681.4808000019|\n",
      "|          FDG24|      7.975|         Low Fat|    0.014618973|Baking Goods|  85.225|           OUT013|                     1987|       High|              Tier 3|Supermarket Type1|         1081.925| new|2025-07-15|  2025-07-22|   2025-07-08|     Veg|1201681.4808000019|\n",
      "|          FDV60|       null|         Regular|     0.11679292|Baking Goods| 196.211|           OUT027|                     1985|     Medium|              Tier 3|Supermarket Type3|         5499.508| new|2025-07-15|  2025-07-22|   2025-07-08|     Veg|1201681.4808000019|\n",
      "+---------------+-----------+----------------+---------------+------------+--------+-----------------+-------------------------+-----------+--------------------+-----------------+-----------------+----+----------+------------+-------------+--------+------------------+\n",
      "only showing top 20 rows\n",
      "\n"
     ]
    }
   ],
   "source": [
    "df.withColumn('cumsum', sum('Item_MRP').over(Window.orderBy('Item_Type').rowsBetween(Window.unboundedPreceding, Window.unboundedFollowing))).show()"
   ]
  },
  {
   "cell_type": "markdown",
   "id": "be9df7f0",
   "metadata": {},
   "source": [
    "#### User Defined Functions"
   ]
  },
  {
   "cell_type": "markdown",
   "id": "67ae0636",
   "metadata": {},
   "source": [
    "##### Step - 1"
   ]
  },
  {
   "cell_type": "code",
   "execution_count": 100,
   "id": "948a4bf8",
   "metadata": {},
   "outputs": [],
   "source": [
    "def my_fun(x):\n",
    "    return x * x"
   ]
  },
  {
   "cell_type": "markdown",
   "id": "d5cd94af",
   "metadata": {},
   "source": [
    "##### Step - 2:"
   ]
  },
  {
   "cell_type": "code",
   "execution_count": 101,
   "id": "b3b082f6",
   "metadata": {},
   "outputs": [],
   "source": [
    "my_udf = udf(my_fun)"
   ]
  },
  {
   "cell_type": "code",
   "execution_count": 102,
   "id": "f6caeb51",
   "metadata": {},
   "outputs": [
    {
     "name": "stdout",
     "output_type": "stream",
     "text": [
      "+---------------+-----------+----------------+---------------+--------------------+--------+-----------------+-------------------------+-----------+--------------------+-----------------+-----------------+----+----------+------------+-------------+--------+------------------+\n",
      "|Item_Identifier|Item_Weight|Item_Fat_Content|Item_Visibility|           Item_Type|Item_MRP|Outlet_Identifier|Outlet_Establishment_Year|Outlet_Size|Outlet_Location_Type|      Outlet_Type|Item_Outlet_Sales|flag|      date|oneWeekAfter|oneWeekBefore|veg_flag|       mynewcolumn|\n",
      "+---------------+-----------+----------------+---------------+--------------------+--------+-----------------+-------------------------+-----------+--------------------+-----------------+-----------------+----+----------+------------+-------------+--------+------------------+\n",
      "|          FDA15|        9.3|         Low Fat|    0.016047301|               Dairy|249.8092|           OUT049|                     1999|     Medium|              Tier 1|Supermarket Type1|         3735.138| new|2025-07-15|  2025-07-22|   2025-07-08|     Veg|62404.636404640005|\n",
      "|          DRC01|       5.92|         Regular|    0.019278216|         Soft Drinks| 48.2692|           OUT018|                     2009|     Medium|              Tier 3|Supermarket Type2|         443.4228| new|2025-07-15|  2025-07-22|   2025-07-08|     Veg|2329.9156686399997|\n",
      "|          FDN15|       17.5|         Low Fat|    0.016760075|                Meat| 141.618|           OUT049|                     1999|     Medium|              Tier 1|Supermarket Type1|          2097.27| new|2025-07-15|  2025-07-22|   2025-07-08| Non-Veg|      20055.657924|\n",
      "|          FDX07|       19.2|         Regular|            0.0|Fruits and Vegeta...| 182.095|           OUT010|                     1998|       null|              Tier 3|    Grocery Store|           732.38| new|2025-07-15|  2025-07-22|   2025-07-08|     Veg|      33158.589025|\n",
      "|          NCD19|       8.93|         Low Fat|            0.0|           Household| 53.8614|           OUT013|                     1987|       High|              Tier 3|Supermarket Type1|         994.7052| new|2025-07-15|  2025-07-22|   2025-07-08|     Veg|2901.0504099600003|\n",
      "|          FDP36|     10.395|         Regular|            0.0|        Baking Goods| 51.4008|           OUT018|                     2009|     Medium|              Tier 3|Supermarket Type2|         556.6088| new|2025-07-15|  2025-07-22|   2025-07-08|     Veg|     2642.04224064|\n",
      "|          FDO10|      13.65|         Regular|    0.012741089|         Snack Foods| 57.6588|           OUT013|                     1987|       High|              Tier 3|Supermarket Type1|         343.5528| new|2025-07-15|  2025-07-22|   2025-07-08|     Veg|     3324.53721744|\n",
      "|          FDP10|       null|         Low Fat|    0.127469857|         Snack Foods|107.7622|           OUT027|                     1985|     Medium|              Tier 3|Supermarket Type3|        4022.7636| new|2025-07-15|  2025-07-22|   2025-07-08|     Veg|11612.691748840001|\n",
      "|          FDH17|       16.2|         Regular|    0.016687114|        Frozen Foods| 96.9726|           OUT045|                     2002|       null|              Tier 2|Supermarket Type1|        1076.5986| new|2025-07-15|  2025-07-22|   2025-07-08|     Veg|     9403.68515076|\n",
      "|          FDU28|       19.2|         Regular|     0.09444959|        Frozen Foods|187.8214|           OUT017|                     2007|       null|              Tier 2|Supermarket Type1|         4710.535| new|2025-07-15|  2025-07-22|   2025-07-08|     Veg| 35276.87829796001|\n",
      "|          FDY07|       11.8|         Low Fat|            0.0|Fruits and Vegeta...| 45.5402|           OUT049|                     1999|     Medium|              Tier 1|Supermarket Type1|        1516.0266| new|2025-07-15|  2025-07-22|   2025-07-08|     Veg|     2073.90981604|\n",
      "|          FDA03|       18.5|         Regular|    0.045463773|               Dairy|144.1102|           OUT046|                     1997|      Small|              Tier 1|Supermarket Type1|         2187.153| new|2025-07-15|  2025-07-22|   2025-07-08|     Veg|20767.749744039997|\n",
      "|          FDX32|       15.1|         Regular|      0.1000135|Fruits and Vegeta...|145.4786|           OUT049|                     1999|     Medium|              Tier 1|Supermarket Type1|        1589.2646| new|2025-07-15|  2025-07-22|   2025-07-08|     Veg|    21164.02305796|\n",
      "|          FDS46|       17.6|         Regular|    0.047257328|         Snack Foods|119.6782|           OUT046|                     1997|      Small|              Tier 1|Supermarket Type1|        2145.2076| new|2025-07-15|  2025-07-22|   2025-07-08|     Veg|    14322.87155524|\n",
      "|          FDF32|      16.35|         Low Fat|      0.0680243|Fruits and Vegeta...|196.4426|           OUT013|                     1987|       High|              Tier 3|Supermarket Type1|         1977.426| new|2025-07-15|  2025-07-22|   2025-07-08|     Veg|    38589.69509476|\n",
      "|          FDP49|        9.0|         Regular|    0.069088961|           Breakfast| 56.3614|           OUT046|                     1997|      Small|              Tier 1|Supermarket Type1|        1547.3192| new|2025-07-15|  2025-07-22|   2025-07-08|     Veg|3176.6074099600005|\n",
      "|          NCB42|       11.8|         Low Fat|    0.008596051|  Health and Hygiene|115.3492|           OUT018|                     2009|     Medium|              Tier 3|Supermarket Type2|        1621.8888| new|2025-07-15|  2025-07-22|   2025-07-08|     Veg|13305.437940639998|\n",
      "|          FDP49|        9.0|         Regular|    0.069196376|           Breakfast| 54.3614|           OUT049|                     1999|     Medium|              Tier 1|Supermarket Type1|         718.3982| new|2025-07-15|  2025-07-22|   2025-07-08|     Veg|2955.1618099600005|\n",
      "|          DRI11|       null|         Low Fat|    0.034237682|         Hard Drinks|113.2834|           OUT027|                     1985|     Medium|              Tier 3|Supermarket Type3|         2303.668| new|2025-07-15|  2025-07-22|   2025-07-08|     Veg|    12833.12871556|\n",
      "|          FDU02|      13.35|         Low Fat|     0.10249212|               Dairy|230.5352|           OUT035|                     2004|      Small|              Tier 2|Supermarket Type1|        2748.4224| new|2025-07-15|  2025-07-22|   2025-07-08|     Veg|    53146.47843904|\n",
      "+---------------+-----------+----------------+---------------+--------------------+--------+-----------------+-------------------------+-----------+--------------------+-----------------+-----------------+----+----------+------------+-------------+--------+------------------+\n",
      "only showing top 20 rows\n",
      "\n"
     ]
    }
   ],
   "source": [
    "df.withColumn('mynewcolumn', my_udf('Item_MRP')).show()"
   ]
  },
  {
   "cell_type": "markdown",
   "id": "874b514f",
   "metadata": {},
   "source": [
    "#### Data Writing"
   ]
  },
  {
   "cell_type": "markdown",
   "id": "18f412df",
   "metadata": {},
   "source": [
    "##### CSV"
   ]
  },
  {
   "cell_type": "code",
   "execution_count": 103,
   "id": "07563f87",
   "metadata": {},
   "outputs": [
    {
     "ename": "AnalysisException",
     "evalue": "path file:/c:/Users/surya/OneDrive/Desktop/JobPrep/PySpark Tutorial  Full Course (From Zero to Pro!)/data.csv already exists.",
     "output_type": "error",
     "traceback": [
      "\u001b[1;31m---------------------------------------------------------------------------\u001b[0m",
      "\u001b[1;31mAnalysisException\u001b[0m                         Traceback (most recent call last)",
      "Cell \u001b[1;32mIn[103], line 1\u001b[0m\n\u001b[1;32m----> 1\u001b[0m \u001b[43mdf\u001b[49m\u001b[38;5;241;43m.\u001b[39;49m\u001b[43mwrite\u001b[49m\u001b[38;5;241;43m.\u001b[39;49m\u001b[43mformat\u001b[49m\u001b[43m(\u001b[49m\u001b[38;5;124;43m'\u001b[39;49m\u001b[38;5;124;43mcsv\u001b[39;49m\u001b[38;5;124;43m'\u001b[39;49m\u001b[43m)\u001b[49m\u001b[38;5;241;43m.\u001b[39;49m\u001b[43msave\u001b[49m\u001b[43m(\u001b[49m\u001b[38;5;124;43m'\u001b[39;49m\u001b[38;5;124;43mdata.csv\u001b[39;49m\u001b[38;5;124;43m'\u001b[39;49m\u001b[43m)\u001b[49m\n",
      "File \u001b[1;32mC:\\spark\\spark-3.2.1-bin-hadoop2.7\\python\\pyspark\\sql\\readwriter.py:740\u001b[0m, in \u001b[0;36mDataFrameWriter.save\u001b[1;34m(self, path, format, mode, partitionBy, **options)\u001b[0m\n\u001b[0;32m    738\u001b[0m     \u001b[38;5;28mself\u001b[39m\u001b[38;5;241m.\u001b[39m_jwrite\u001b[38;5;241m.\u001b[39msave()\n\u001b[0;32m    739\u001b[0m \u001b[38;5;28;01melse\u001b[39;00m:\n\u001b[1;32m--> 740\u001b[0m     \u001b[38;5;28;43mself\u001b[39;49m\u001b[38;5;241;43m.\u001b[39;49m\u001b[43m_jwrite\u001b[49m\u001b[38;5;241;43m.\u001b[39;49m\u001b[43msave\u001b[49m\u001b[43m(\u001b[49m\u001b[43mpath\u001b[49m\u001b[43m)\u001b[49m\n",
      "File \u001b[1;32mC:\\spark\\spark-3.2.1-bin-hadoop2.7\\python\\lib\\py4j-0.10.9.3-src.zip\\py4j\\java_gateway.py:1321\u001b[0m, in \u001b[0;36mJavaMember.__call__\u001b[1;34m(self, *args)\u001b[0m\n\u001b[0;32m   1315\u001b[0m command \u001b[38;5;241m=\u001b[39m proto\u001b[38;5;241m.\u001b[39mCALL_COMMAND_NAME \u001b[38;5;241m+\u001b[39m\\\n\u001b[0;32m   1316\u001b[0m     \u001b[38;5;28mself\u001b[39m\u001b[38;5;241m.\u001b[39mcommand_header \u001b[38;5;241m+\u001b[39m\\\n\u001b[0;32m   1317\u001b[0m     args_command \u001b[38;5;241m+\u001b[39m\\\n\u001b[0;32m   1318\u001b[0m     proto\u001b[38;5;241m.\u001b[39mEND_COMMAND_PART\n\u001b[0;32m   1320\u001b[0m answer \u001b[38;5;241m=\u001b[39m \u001b[38;5;28mself\u001b[39m\u001b[38;5;241m.\u001b[39mgateway_client\u001b[38;5;241m.\u001b[39msend_command(command)\n\u001b[1;32m-> 1321\u001b[0m return_value \u001b[38;5;241m=\u001b[39m \u001b[43mget_return_value\u001b[49m\u001b[43m(\u001b[49m\n\u001b[0;32m   1322\u001b[0m \u001b[43m    \u001b[49m\u001b[43manswer\u001b[49m\u001b[43m,\u001b[49m\u001b[43m \u001b[49m\u001b[38;5;28;43mself\u001b[39;49m\u001b[38;5;241;43m.\u001b[39;49m\u001b[43mgateway_client\u001b[49m\u001b[43m,\u001b[49m\u001b[43m \u001b[49m\u001b[38;5;28;43mself\u001b[39;49m\u001b[38;5;241;43m.\u001b[39;49m\u001b[43mtarget_id\u001b[49m\u001b[43m,\u001b[49m\u001b[43m \u001b[49m\u001b[38;5;28;43mself\u001b[39;49m\u001b[38;5;241;43m.\u001b[39;49m\u001b[43mname\u001b[49m\u001b[43m)\u001b[49m\n\u001b[0;32m   1324\u001b[0m \u001b[38;5;28;01mfor\u001b[39;00m temp_arg \u001b[38;5;129;01min\u001b[39;00m temp_args:\n\u001b[0;32m   1325\u001b[0m     temp_arg\u001b[38;5;241m.\u001b[39m_detach()\n",
      "File \u001b[1;32mC:\\spark\\spark-3.2.1-bin-hadoop2.7\\python\\pyspark\\sql\\utils.py:117\u001b[0m, in \u001b[0;36mcapture_sql_exception.<locals>.deco\u001b[1;34m(*a, **kw)\u001b[0m\n\u001b[0;32m    113\u001b[0m converted \u001b[38;5;241m=\u001b[39m convert_exception(e\u001b[38;5;241m.\u001b[39mjava_exception)\n\u001b[0;32m    114\u001b[0m \u001b[38;5;28;01mif\u001b[39;00m \u001b[38;5;129;01mnot\u001b[39;00m \u001b[38;5;28misinstance\u001b[39m(converted, UnknownException):\n\u001b[0;32m    115\u001b[0m     \u001b[38;5;66;03m# Hide where the exception came from that shows a non-Pythonic\u001b[39;00m\n\u001b[0;32m    116\u001b[0m     \u001b[38;5;66;03m# JVM exception message.\u001b[39;00m\n\u001b[1;32m--> 117\u001b[0m     \u001b[38;5;28;01mraise\u001b[39;00m converted \u001b[38;5;28;01mfrom\u001b[39;00m\u001b[38;5;250m \u001b[39m\u001b[38;5;28;01mNone\u001b[39;00m\n\u001b[0;32m    118\u001b[0m \u001b[38;5;28;01melse\u001b[39;00m:\n\u001b[0;32m    119\u001b[0m     \u001b[38;5;28;01mraise\u001b[39;00m\n",
      "\u001b[1;31mAnalysisException\u001b[0m: path file:/c:/Users/surya/OneDrive/Desktop/JobPrep/PySpark Tutorial  Full Course (From Zero to Pro!)/data.csv already exists."
     ]
    }
   ],
   "source": [
    "df.write.format('csv').save('data.csv')"
   ]
  },
  {
   "cell_type": "markdown",
   "id": "ffbcaf62",
   "metadata": {},
   "source": [
    "##### Append"
   ]
  },
  {
   "cell_type": "code",
   "execution_count": null,
   "id": "5e2a05c3",
   "metadata": {},
   "outputs": [],
   "source": [
    "df.write.format('csv').mode('append').save('data.csv')"
   ]
  },
  {
   "cell_type": "markdown",
   "id": "f94a8fcf",
   "metadata": {},
   "source": [
    "##### Overwrite"
   ]
  },
  {
   "cell_type": "code",
   "execution_count": null,
   "id": "f6f4eebf",
   "metadata": {},
   "outputs": [],
   "source": [
    "df.write.format('csv').mode('overwrite').save('data.csv')"
   ]
  },
  {
   "cell_type": "markdown",
   "id": "eda0cb79",
   "metadata": {},
   "source": [
    "##### Error"
   ]
  },
  {
   "cell_type": "code",
   "execution_count": null,
   "id": "5a04b0b2",
   "metadata": {},
   "outputs": [
    {
     "ename": "AnalysisException",
     "evalue": "path file:/c:/Users/surya/OneDrive/Desktop/JobPrep/PySpark Tutorial  Full Course (From Zero to Pro!)/data.csv already exists.",
     "output_type": "error",
     "traceback": [
      "\u001b[1;31m---------------------------------------------------------------------------\u001b[0m",
      "\u001b[1;31mAnalysisException\u001b[0m                         Traceback (most recent call last)",
      "Cell \u001b[1;32mIn[111], line 1\u001b[0m\n\u001b[1;32m----> 1\u001b[0m \u001b[43mdf\u001b[49m\u001b[38;5;241;43m.\u001b[39;49m\u001b[43mwrite\u001b[49m\u001b[38;5;241;43m.\u001b[39;49m\u001b[43mformat\u001b[49m\u001b[43m(\u001b[49m\u001b[38;5;124;43m'\u001b[39;49m\u001b[38;5;124;43mcsv\u001b[39;49m\u001b[38;5;124;43m'\u001b[39;49m\u001b[43m)\u001b[49m\u001b[38;5;241;43m.\u001b[39;49m\u001b[43mmode\u001b[49m\u001b[43m(\u001b[49m\u001b[38;5;124;43m'\u001b[39;49m\u001b[38;5;124;43merror\u001b[39;49m\u001b[38;5;124;43m'\u001b[39;49m\u001b[43m)\u001b[49m\u001b[38;5;241;43m.\u001b[39;49m\u001b[43msave\u001b[49m\u001b[43m(\u001b[49m\u001b[38;5;124;43m'\u001b[39;49m\u001b[38;5;124;43mdata.csv\u001b[39;49m\u001b[38;5;124;43m'\u001b[39;49m\u001b[43m)\u001b[49m\n",
      "File \u001b[1;32mC:\\spark\\spark-3.2.1-bin-hadoop2.7\\python\\pyspark\\sql\\readwriter.py:740\u001b[0m, in \u001b[0;36mDataFrameWriter.save\u001b[1;34m(self, path, format, mode, partitionBy, **options)\u001b[0m\n\u001b[0;32m    738\u001b[0m     \u001b[38;5;28mself\u001b[39m\u001b[38;5;241m.\u001b[39m_jwrite\u001b[38;5;241m.\u001b[39msave()\n\u001b[0;32m    739\u001b[0m \u001b[38;5;28;01melse\u001b[39;00m:\n\u001b[1;32m--> 740\u001b[0m     \u001b[38;5;28;43mself\u001b[39;49m\u001b[38;5;241;43m.\u001b[39;49m\u001b[43m_jwrite\u001b[49m\u001b[38;5;241;43m.\u001b[39;49m\u001b[43msave\u001b[49m\u001b[43m(\u001b[49m\u001b[43mpath\u001b[49m\u001b[43m)\u001b[49m\n",
      "File \u001b[1;32mC:\\spark\\spark-3.2.1-bin-hadoop2.7\\python\\lib\\py4j-0.10.9.3-src.zip\\py4j\\java_gateway.py:1321\u001b[0m, in \u001b[0;36mJavaMember.__call__\u001b[1;34m(self, *args)\u001b[0m\n\u001b[0;32m   1315\u001b[0m command \u001b[38;5;241m=\u001b[39m proto\u001b[38;5;241m.\u001b[39mCALL_COMMAND_NAME \u001b[38;5;241m+\u001b[39m\\\n\u001b[0;32m   1316\u001b[0m     \u001b[38;5;28mself\u001b[39m\u001b[38;5;241m.\u001b[39mcommand_header \u001b[38;5;241m+\u001b[39m\\\n\u001b[0;32m   1317\u001b[0m     args_command \u001b[38;5;241m+\u001b[39m\\\n\u001b[0;32m   1318\u001b[0m     proto\u001b[38;5;241m.\u001b[39mEND_COMMAND_PART\n\u001b[0;32m   1320\u001b[0m answer \u001b[38;5;241m=\u001b[39m \u001b[38;5;28mself\u001b[39m\u001b[38;5;241m.\u001b[39mgateway_client\u001b[38;5;241m.\u001b[39msend_command(command)\n\u001b[1;32m-> 1321\u001b[0m return_value \u001b[38;5;241m=\u001b[39m \u001b[43mget_return_value\u001b[49m\u001b[43m(\u001b[49m\n\u001b[0;32m   1322\u001b[0m \u001b[43m    \u001b[49m\u001b[43manswer\u001b[49m\u001b[43m,\u001b[49m\u001b[43m \u001b[49m\u001b[38;5;28;43mself\u001b[39;49m\u001b[38;5;241;43m.\u001b[39;49m\u001b[43mgateway_client\u001b[49m\u001b[43m,\u001b[49m\u001b[43m \u001b[49m\u001b[38;5;28;43mself\u001b[39;49m\u001b[38;5;241;43m.\u001b[39;49m\u001b[43mtarget_id\u001b[49m\u001b[43m,\u001b[49m\u001b[43m \u001b[49m\u001b[38;5;28;43mself\u001b[39;49m\u001b[38;5;241;43m.\u001b[39;49m\u001b[43mname\u001b[49m\u001b[43m)\u001b[49m\n\u001b[0;32m   1324\u001b[0m \u001b[38;5;28;01mfor\u001b[39;00m temp_arg \u001b[38;5;129;01min\u001b[39;00m temp_args:\n\u001b[0;32m   1325\u001b[0m     temp_arg\u001b[38;5;241m.\u001b[39m_detach()\n",
      "File \u001b[1;32mC:\\spark\\spark-3.2.1-bin-hadoop2.7\\python\\pyspark\\sql\\utils.py:117\u001b[0m, in \u001b[0;36mcapture_sql_exception.<locals>.deco\u001b[1;34m(*a, **kw)\u001b[0m\n\u001b[0;32m    113\u001b[0m converted \u001b[38;5;241m=\u001b[39m convert_exception(e\u001b[38;5;241m.\u001b[39mjava_exception)\n\u001b[0;32m    114\u001b[0m \u001b[38;5;28;01mif\u001b[39;00m \u001b[38;5;129;01mnot\u001b[39;00m \u001b[38;5;28misinstance\u001b[39m(converted, UnknownException):\n\u001b[0;32m    115\u001b[0m     \u001b[38;5;66;03m# Hide where the exception came from that shows a non-Pythonic\u001b[39;00m\n\u001b[0;32m    116\u001b[0m     \u001b[38;5;66;03m# JVM exception message.\u001b[39;00m\n\u001b[1;32m--> 117\u001b[0m     \u001b[38;5;28;01mraise\u001b[39;00m converted \u001b[38;5;28;01mfrom\u001b[39;00m\u001b[38;5;250m \u001b[39m\u001b[38;5;28;01mNone\u001b[39;00m\n\u001b[0;32m    118\u001b[0m \u001b[38;5;28;01melse\u001b[39;00m:\n\u001b[0;32m    119\u001b[0m     \u001b[38;5;28;01mraise\u001b[39;00m\n",
      "\u001b[1;31mAnalysisException\u001b[0m: path file:/c:/Users/surya/OneDrive/Desktop/JobPrep/PySpark Tutorial  Full Course (From Zero to Pro!)/data.csv already exists."
     ]
    }
   ],
   "source": [
    "df.write.format('csv').mode('error').save('data.csv')"
   ]
  },
  {
   "cell_type": "markdown",
   "id": "8dfe24a8",
   "metadata": {},
   "source": [
    "##### Ignore"
   ]
  },
  {
   "cell_type": "code",
   "execution_count": 104,
   "id": "7d3f6475",
   "metadata": {},
   "outputs": [],
   "source": [
    "df.write.format('csv').mode('ignore').save('data.csv')"
   ]
  },
  {
   "cell_type": "markdown",
   "id": "c3376dd9",
   "metadata": {},
   "source": [
    "#### PARQUET"
   ]
  },
  {
   "cell_type": "code",
   "execution_count": 105,
   "id": "41cfddaf",
   "metadata": {},
   "outputs": [],
   "source": [
    "df.write.format('parquet').mode('overwrite').save('data.csv')"
   ]
  },
  {
   "cell_type": "markdown",
   "id": "7b3f35d8",
   "metadata": {},
   "source": [
    "#### TABLE"
   ]
  },
  {
   "cell_type": "code",
   "execution_count": 106,
   "id": "ee92268b",
   "metadata": {},
   "outputs": [],
   "source": [
    "df.write.format('parquet').mode('overwrite').saveAsTable('my_table')"
   ]
  },
  {
   "cell_type": "markdown",
   "id": "383fc3d5",
   "metadata": {},
   "source": [
    "### Managed Vs External Tables\n",
    "\n",
    "- When some table is created using pySpark, that table is created in some databricks managed location. If we drop the table, the table and it's data is deleted\n",
    "\n",
    "- External tables is stored in our local machine, and is managed by us. If we drop, the schema is only dropped not the data."
   ]
  },
  {
   "cell_type": "markdown",
   "id": "b84b80d8",
   "metadata": {},
   "source": [
    "#### Spark SQL"
   ]
  },
  {
   "cell_type": "markdown",
   "id": "c160c54b",
   "metadata": {},
   "source": [
    "##### createTempView"
   ]
  },
  {
   "cell_type": "code",
   "execution_count": 107,
   "id": "de370acd",
   "metadata": {},
   "outputs": [],
   "source": [
    "df.createTempView('my_view')"
   ]
  },
  {
   "cell_type": "code",
   "execution_count": 110,
   "id": "7c861759",
   "metadata": {},
   "outputs": [
    {
     "name": "stdout",
     "output_type": "stream",
     "text": [
      "+---------------+-----------+----------------+---------------+--------------------+--------+-----------------+-------------------------+-----------+--------------------+-----------------+-----------------+----+----------+------------+-------------+--------+\n",
      "|Item_Identifier|Item_Weight|Item_Fat_Content|Item_Visibility|           Item_Type|Item_MRP|Outlet_Identifier|Outlet_Establishment_Year|Outlet_Size|Outlet_Location_Type|      Outlet_Type|Item_Outlet_Sales|flag|      date|oneWeekAfter|oneWeekBefore|veg_flag|\n",
      "+---------------+-----------+----------------+---------------+--------------------+--------+-----------------+-------------------------+-----------+--------------------+-----------------+-----------------+----+----------+------------+-------------+--------+\n",
      "|          FDA15|        9.3|         Low Fat|    0.016047301|               Dairy|249.8092|           OUT049|                     1999|     Medium|              Tier 1|Supermarket Type1|         3735.138| new|2025-07-15|  2025-07-22|   2025-07-08|     Veg|\n",
      "|          DRC01|       5.92|         Regular|    0.019278216|         Soft Drinks| 48.2692|           OUT018|                     2009|     Medium|              Tier 3|Supermarket Type2|         443.4228| new|2025-07-15|  2025-07-22|   2025-07-08|     Veg|\n",
      "|          FDN15|       17.5|         Low Fat|    0.016760075|                Meat| 141.618|           OUT049|                     1999|     Medium|              Tier 1|Supermarket Type1|          2097.27| new|2025-07-15|  2025-07-22|   2025-07-08| Non-Veg|\n",
      "|          FDX07|       19.2|         Regular|            0.0|Fruits and Vegeta...| 182.095|           OUT010|                     1998|       null|              Tier 3|    Grocery Store|           732.38| new|2025-07-15|  2025-07-22|   2025-07-08|     Veg|\n",
      "|          NCD19|       8.93|         Low Fat|            0.0|           Household| 53.8614|           OUT013|                     1987|       High|              Tier 3|Supermarket Type1|         994.7052| new|2025-07-15|  2025-07-22|   2025-07-08|     Veg|\n",
      "|          FDP36|     10.395|         Regular|            0.0|        Baking Goods| 51.4008|           OUT018|                     2009|     Medium|              Tier 3|Supermarket Type2|         556.6088| new|2025-07-15|  2025-07-22|   2025-07-08|     Veg|\n",
      "|          FDO10|      13.65|         Regular|    0.012741089|         Snack Foods| 57.6588|           OUT013|                     1987|       High|              Tier 3|Supermarket Type1|         343.5528| new|2025-07-15|  2025-07-22|   2025-07-08|     Veg|\n",
      "|          FDP10|       null|         Low Fat|    0.127469857|         Snack Foods|107.7622|           OUT027|                     1985|     Medium|              Tier 3|Supermarket Type3|        4022.7636| new|2025-07-15|  2025-07-22|   2025-07-08|     Veg|\n",
      "|          FDH17|       16.2|         Regular|    0.016687114|        Frozen Foods| 96.9726|           OUT045|                     2002|       null|              Tier 2|Supermarket Type1|        1076.5986| new|2025-07-15|  2025-07-22|   2025-07-08|     Veg|\n",
      "|          FDU28|       19.2|         Regular|     0.09444959|        Frozen Foods|187.8214|           OUT017|                     2007|       null|              Tier 2|Supermarket Type1|         4710.535| new|2025-07-15|  2025-07-22|   2025-07-08|     Veg|\n",
      "|          FDY07|       11.8|         Low Fat|            0.0|Fruits and Vegeta...| 45.5402|           OUT049|                     1999|     Medium|              Tier 1|Supermarket Type1|        1516.0266| new|2025-07-15|  2025-07-22|   2025-07-08|     Veg|\n",
      "|          FDA03|       18.5|         Regular|    0.045463773|               Dairy|144.1102|           OUT046|                     1997|      Small|              Tier 1|Supermarket Type1|         2187.153| new|2025-07-15|  2025-07-22|   2025-07-08|     Veg|\n",
      "|          FDX32|       15.1|         Regular|      0.1000135|Fruits and Vegeta...|145.4786|           OUT049|                     1999|     Medium|              Tier 1|Supermarket Type1|        1589.2646| new|2025-07-15|  2025-07-22|   2025-07-08|     Veg|\n",
      "|          FDS46|       17.6|         Regular|    0.047257328|         Snack Foods|119.6782|           OUT046|                     1997|      Small|              Tier 1|Supermarket Type1|        2145.2076| new|2025-07-15|  2025-07-22|   2025-07-08|     Veg|\n",
      "|          FDF32|      16.35|         Low Fat|      0.0680243|Fruits and Vegeta...|196.4426|           OUT013|                     1987|       High|              Tier 3|Supermarket Type1|         1977.426| new|2025-07-15|  2025-07-22|   2025-07-08|     Veg|\n",
      "|          FDP49|        9.0|         Regular|    0.069088961|           Breakfast| 56.3614|           OUT046|                     1997|      Small|              Tier 1|Supermarket Type1|        1547.3192| new|2025-07-15|  2025-07-22|   2025-07-08|     Veg|\n",
      "|          NCB42|       11.8|         Low Fat|    0.008596051|  Health and Hygiene|115.3492|           OUT018|                     2009|     Medium|              Tier 3|Supermarket Type2|        1621.8888| new|2025-07-15|  2025-07-22|   2025-07-08|     Veg|\n",
      "|          FDP49|        9.0|         Regular|    0.069196376|           Breakfast| 54.3614|           OUT049|                     1999|     Medium|              Tier 1|Supermarket Type1|         718.3982| new|2025-07-15|  2025-07-22|   2025-07-08|     Veg|\n",
      "|          DRI11|       null|         Low Fat|    0.034237682|         Hard Drinks|113.2834|           OUT027|                     1985|     Medium|              Tier 3|Supermarket Type3|         2303.668| new|2025-07-15|  2025-07-22|   2025-07-08|     Veg|\n",
      "|          FDU02|      13.35|         Low Fat|     0.10249212|               Dairy|230.5352|           OUT035|                     2004|      Small|              Tier 2|Supermarket Type1|        2748.4224| new|2025-07-15|  2025-07-22|   2025-07-08|     Veg|\n",
      "+---------------+-----------+----------------+---------------+--------------------+--------+-----------------+-------------------------+-----------+--------------------+-----------------+-----------------+----+----------+------------+-------------+--------+\n",
      "only showing top 20 rows\n",
      "\n"
     ]
    }
   ],
   "source": [
    "spark.sql('SELECT * FROM MY_VIEW').show()"
   ]
  },
  {
   "cell_type": "code",
   "execution_count": 119,
   "id": "cc830368",
   "metadata": {},
   "outputs": [
    {
     "name": "stdout",
     "output_type": "stream",
     "text": [
      "+---------------+-----------+----------------+---------------+--------------------+--------+-----------------+-------------------------+-----------+--------------------+-----------------+-----------------+----+----------+------------+-------------+--------+\n",
      "|Item_Identifier|Item_Weight|Item_Fat_Content|Item_Visibility|           Item_Type|Item_MRP|Outlet_Identifier|Outlet_Establishment_Year|Outlet_Size|Outlet_Location_Type|      Outlet_Type|Item_Outlet_Sales|flag|      date|oneWeekAfter|oneWeekBefore|veg_flag|\n",
      "+---------------+-----------+----------------+---------------+--------------------+--------+-----------------+-------------------------+-----------+--------------------+-----------------+-----------------+----+----------+------------+-------------+--------+\n",
      "|          FDA15|        9.3|         Low Fat|    0.016047301|               Dairy|249.8092|           OUT049|                     1999|     Medium|              Tier 1|Supermarket Type1|         3735.138| new|2025-07-15|  2025-07-22|   2025-07-08|     Veg|\n",
      "|          FDN15|       17.5|         Low Fat|    0.016760075|                Meat| 141.618|           OUT049|                     1999|     Medium|              Tier 1|Supermarket Type1|          2097.27| new|2025-07-15|  2025-07-22|   2025-07-08| Non-Veg|\n",
      "|          NCD19|       8.93|         Low Fat|            0.0|           Household| 53.8614|           OUT013|                     1987|       High|              Tier 3|Supermarket Type1|         994.7052| new|2025-07-15|  2025-07-22|   2025-07-08|     Veg|\n",
      "|          FDP10|       null|         Low Fat|    0.127469857|         Snack Foods|107.7622|           OUT027|                     1985|     Medium|              Tier 3|Supermarket Type3|        4022.7636| new|2025-07-15|  2025-07-22|   2025-07-08|     Veg|\n",
      "|          FDY07|       11.8|         Low Fat|            0.0|Fruits and Vegeta...| 45.5402|           OUT049|                     1999|     Medium|              Tier 1|Supermarket Type1|        1516.0266| new|2025-07-15|  2025-07-22|   2025-07-08|     Veg|\n",
      "|          FDF32|      16.35|         Low Fat|      0.0680243|Fruits and Vegeta...|196.4426|           OUT013|                     1987|       High|              Tier 3|Supermarket Type1|         1977.426| new|2025-07-15|  2025-07-22|   2025-07-08|     Veg|\n",
      "|          NCB42|       11.8|         Low Fat|    0.008596051|  Health and Hygiene|115.3492|           OUT018|                     2009|     Medium|              Tier 3|Supermarket Type2|        1621.8888| new|2025-07-15|  2025-07-22|   2025-07-08|     Veg|\n",
      "|          DRI11|       null|         Low Fat|    0.034237682|         Hard Drinks|113.2834|           OUT027|                     1985|     Medium|              Tier 3|Supermarket Type3|         2303.668| new|2025-07-15|  2025-07-22|   2025-07-08|     Veg|\n",
      "|          FDU02|      13.35|         Low Fat|     0.10249212|               Dairy|230.5352|           OUT035|                     2004|      Small|              Tier 2|Supermarket Type1|        2748.4224| new|2025-07-15|  2025-07-22|   2025-07-08|     Veg|\n",
      "|          NCB30|       14.6|         Low Fat|    0.025698134|           Household|196.5084|           OUT035|                     2004|      Small|              Tier 2|Supermarket Type1|        1587.2672| new|2025-07-15|  2025-07-22|   2025-07-08|     Veg|\n",
      "|          FDC37|       null|         Low Fat|    0.057556998|        Baking Goods|107.6938|           OUT019|                     1985|      Small|              Tier 1|    Grocery Store|         214.3876| new|2025-07-15|  2025-07-22|   2025-07-08|     Veg|\n",
      "|          NCD06|       13.0|         Low Fat|    0.099887103|           Household|  45.906|           OUT017|                     2007|       null|              Tier 2|Supermarket Type1|          838.908| new|2025-07-15|  2025-07-22|   2025-07-08|     Veg|\n",
      "|          FDV38|      19.25|         Low Fat|    0.170348551|               Dairy| 55.7956|           OUT010|                     1998|       null|              Tier 3|    Grocery Store|         163.7868| new|2025-07-15|  2025-07-22|   2025-07-08|     Veg|\n",
      "|          NCS17|       18.6|         Low Fat|    0.080829372|  Health and Hygiene| 96.4436|           OUT018|                     2009|     Medium|              Tier 3|Supermarket Type2|        2741.7644| new|2025-07-15|  2025-07-22|   2025-07-08|     Veg|\n",
      "|          FDP33|       18.7|         Low Fat|            0.0|         Snack Foods|256.6672|           OUT018|                     2009|     Medium|              Tier 3|Supermarket Type2|        3068.0064| new|2025-07-15|  2025-07-22|   2025-07-08|     Veg|\n",
      "|          FDO23|      17.85|         Low Fat|            0.0|              Breads| 93.1436|           OUT045|                     2002|       null|              Tier 2|Supermarket Type1|        2174.5028| new|2025-07-15|  2025-07-22|   2025-07-08|     Veg|\n",
      "|          DRH01|       17.5|         Low Fat|    0.097904029|         Soft Drinks|174.8738|           OUT046|                     1997|      Small|              Tier 1|Supermarket Type1|        2085.2856| new|2025-07-15|  2025-07-22|   2025-07-08|     Veg|\n",
      "|          NCX29|       10.0|         Low Fat|    0.089291137|  Health and Hygiene|146.7102|           OUT049|                     1999|     Medium|              Tier 1|Supermarket Type1|        3791.0652| new|2025-07-15|  2025-07-22|   2025-07-08|     Veg|\n",
      "|          FDB34|       null|         Low Fat|    0.026480954|         Snack Foods| 87.6198|           OUT027|                     1985|     Medium|              Tier 3|Supermarket Type3|         2180.495| new|2025-07-15|  2025-07-22|   2025-07-08|     Veg|\n",
      "|          FDU02|      13.35|         Low Fat|    0.102511504|               Dairy|230.6352|           OUT046|                     1997|      Small|              Tier 1|Supermarket Type1|         3435.528| new|2025-07-15|  2025-07-22|   2025-07-08|     Veg|\n",
      "+---------------+-----------+----------------+---------------+--------------------+--------+-----------------+-------------------------+-----------+--------------------+-----------------+-----------------+----+----------+------------+-------------+--------+\n",
      "only showing top 20 rows\n",
      "\n"
     ]
    }
   ],
   "source": [
    "spark.sql(\"select * from my_view where Item_Fat_Content = 'Low Fat'\").show()"
   ]
  },
  {
   "cell_type": "code",
   "execution_count": 120,
   "id": "973a60e8",
   "metadata": {},
   "outputs": [],
   "source": [
    "df_sql = spark.sql(\"select * from my_view where Item_Fat_Content = 'Low Fat'\")"
   ]
  },
  {
   "cell_type": "code",
   "execution_count": 121,
   "id": "4e15794a",
   "metadata": {},
   "outputs": [
    {
     "name": "stdout",
     "output_type": "stream",
     "text": [
      "+---------------+-----------+----------------+---------------+--------------------+--------+-----------------+-------------------------+-----------+--------------------+-----------------+-----------------+----+----------+------------+-------------+--------+\n",
      "|Item_Identifier|Item_Weight|Item_Fat_Content|Item_Visibility|           Item_Type|Item_MRP|Outlet_Identifier|Outlet_Establishment_Year|Outlet_Size|Outlet_Location_Type|      Outlet_Type|Item_Outlet_Sales|flag|      date|oneWeekAfter|oneWeekBefore|veg_flag|\n",
      "+---------------+-----------+----------------+---------------+--------------------+--------+-----------------+-------------------------+-----------+--------------------+-----------------+-----------------+----+----------+------------+-------------+--------+\n",
      "|          FDA15|        9.3|         Low Fat|    0.016047301|               Dairy|249.8092|           OUT049|                     1999|     Medium|              Tier 1|Supermarket Type1|         3735.138| new|2025-07-15|  2025-07-22|   2025-07-08|     Veg|\n",
      "|          FDN15|       17.5|         Low Fat|    0.016760075|                Meat| 141.618|           OUT049|                     1999|     Medium|              Tier 1|Supermarket Type1|          2097.27| new|2025-07-15|  2025-07-22|   2025-07-08| Non-Veg|\n",
      "|          NCD19|       8.93|         Low Fat|            0.0|           Household| 53.8614|           OUT013|                     1987|       High|              Tier 3|Supermarket Type1|         994.7052| new|2025-07-15|  2025-07-22|   2025-07-08|     Veg|\n",
      "|          FDP10|       null|         Low Fat|    0.127469857|         Snack Foods|107.7622|           OUT027|                     1985|     Medium|              Tier 3|Supermarket Type3|        4022.7636| new|2025-07-15|  2025-07-22|   2025-07-08|     Veg|\n",
      "|          FDY07|       11.8|         Low Fat|            0.0|Fruits and Vegeta...| 45.5402|           OUT049|                     1999|     Medium|              Tier 1|Supermarket Type1|        1516.0266| new|2025-07-15|  2025-07-22|   2025-07-08|     Veg|\n",
      "|          FDF32|      16.35|         Low Fat|      0.0680243|Fruits and Vegeta...|196.4426|           OUT013|                     1987|       High|              Tier 3|Supermarket Type1|         1977.426| new|2025-07-15|  2025-07-22|   2025-07-08|     Veg|\n",
      "|          NCB42|       11.8|         Low Fat|    0.008596051|  Health and Hygiene|115.3492|           OUT018|                     2009|     Medium|              Tier 3|Supermarket Type2|        1621.8888| new|2025-07-15|  2025-07-22|   2025-07-08|     Veg|\n",
      "|          DRI11|       null|         Low Fat|    0.034237682|         Hard Drinks|113.2834|           OUT027|                     1985|     Medium|              Tier 3|Supermarket Type3|         2303.668| new|2025-07-15|  2025-07-22|   2025-07-08|     Veg|\n",
      "|          FDU02|      13.35|         Low Fat|     0.10249212|               Dairy|230.5352|           OUT035|                     2004|      Small|              Tier 2|Supermarket Type1|        2748.4224| new|2025-07-15|  2025-07-22|   2025-07-08|     Veg|\n",
      "|          NCB30|       14.6|         Low Fat|    0.025698134|           Household|196.5084|           OUT035|                     2004|      Small|              Tier 2|Supermarket Type1|        1587.2672| new|2025-07-15|  2025-07-22|   2025-07-08|     Veg|\n",
      "|          FDC37|       null|         Low Fat|    0.057556998|        Baking Goods|107.6938|           OUT019|                     1985|      Small|              Tier 1|    Grocery Store|         214.3876| new|2025-07-15|  2025-07-22|   2025-07-08|     Veg|\n",
      "|          NCD06|       13.0|         Low Fat|    0.099887103|           Household|  45.906|           OUT017|                     2007|       null|              Tier 2|Supermarket Type1|          838.908| new|2025-07-15|  2025-07-22|   2025-07-08|     Veg|\n",
      "|          FDV38|      19.25|         Low Fat|    0.170348551|               Dairy| 55.7956|           OUT010|                     1998|       null|              Tier 3|    Grocery Store|         163.7868| new|2025-07-15|  2025-07-22|   2025-07-08|     Veg|\n",
      "|          NCS17|       18.6|         Low Fat|    0.080829372|  Health and Hygiene| 96.4436|           OUT018|                     2009|     Medium|              Tier 3|Supermarket Type2|        2741.7644| new|2025-07-15|  2025-07-22|   2025-07-08|     Veg|\n",
      "|          FDP33|       18.7|         Low Fat|            0.0|         Snack Foods|256.6672|           OUT018|                     2009|     Medium|              Tier 3|Supermarket Type2|        3068.0064| new|2025-07-15|  2025-07-22|   2025-07-08|     Veg|\n",
      "|          FDO23|      17.85|         Low Fat|            0.0|              Breads| 93.1436|           OUT045|                     2002|       null|              Tier 2|Supermarket Type1|        2174.5028| new|2025-07-15|  2025-07-22|   2025-07-08|     Veg|\n",
      "|          DRH01|       17.5|         Low Fat|    0.097904029|         Soft Drinks|174.8738|           OUT046|                     1997|      Small|              Tier 1|Supermarket Type1|        2085.2856| new|2025-07-15|  2025-07-22|   2025-07-08|     Veg|\n",
      "|          NCX29|       10.0|         Low Fat|    0.089291137|  Health and Hygiene|146.7102|           OUT049|                     1999|     Medium|              Tier 1|Supermarket Type1|        3791.0652| new|2025-07-15|  2025-07-22|   2025-07-08|     Veg|\n",
      "|          FDB34|       null|         Low Fat|    0.026480954|         Snack Foods| 87.6198|           OUT027|                     1985|     Medium|              Tier 3|Supermarket Type3|         2180.495| new|2025-07-15|  2025-07-22|   2025-07-08|     Veg|\n",
      "|          FDU02|      13.35|         Low Fat|    0.102511504|               Dairy|230.6352|           OUT046|                     1997|      Small|              Tier 1|Supermarket Type1|         3435.528| new|2025-07-15|  2025-07-22|   2025-07-08|     Veg|\n",
      "+---------------+-----------+----------------+---------------+--------------------+--------+-----------------+-------------------------+-----------+--------------------+-----------------+-----------------+----+----------+------------+-------------+--------+\n",
      "only showing top 20 rows\n",
      "\n"
     ]
    }
   ],
   "source": [
    "df_sql.show()"
   ]
  }
 ],
 "metadata": {
  "kernelspec": {
   "display_name": "Python 3",
   "language": "python",
   "name": "python3"
  },
  "language_info": {
   "codemirror_mode": {
    "name": "ipython",
    "version": 3
   },
   "file_extension": ".py",
   "mimetype": "text/x-python",
   "name": "python",
   "nbconvert_exporter": "python",
   "pygments_lexer": "ipython3",
   "version": "3.9.0"
  }
 },
 "nbformat": 4,
 "nbformat_minor": 5
}
